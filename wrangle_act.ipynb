{
 "cells": [
  {
   "cell_type": "markdown",
   "id": "48094a16",
   "metadata": {
    "papermill": {
     "duration": 0.076729,
     "end_time": "2021-07-29T14:51:12.570633",
     "exception": false,
     "start_time": "2021-07-29T14:51:12.493904",
     "status": "completed"
    },
    "tags": []
   },
   "source": [
    "# Introduction\n",
    "- This dataset is the tweet archive of Twitter user @dog_rates, also known as WeRateDogs. WeRateDogs is a Twitter account that rates people's dogs with a humorous comment about the dog. These ratings almost always have a denominator of 10. The numerators, though? Almost always greater than 10. 11/10, 12/10, 13/10, etc. Why? Because \"they're good dogs Brent.\" WeRateDogs has over 4 million followers and has received international media coverage."
   ]
  },
  {
   "cell_type": "markdown",
   "id": "adff0747",
   "metadata": {
    "papermill": {
     "duration": 0.077277,
     "end_time": "2021-07-29T14:51:22.391119",
     "exception": false,
     "start_time": "2021-07-29T14:51:22.313842",
     "status": "completed"
    },
    "tags": []
   },
   "source": [
    "# Importing Libraries"
   ]
  },
  {
   "cell_type": "code",
   "execution_count": 1,
   "id": "960c39b5",
   "metadata": {
    "execution": {
     "iopub.execute_input": "2021-07-29T14:51:22.558116Z",
     "iopub.status.busy": "2021-07-29T14:51:22.557471Z",
     "iopub.status.idle": "2021-07-29T14:51:22.690711Z",
     "shell.execute_reply": "2021-07-29T14:51:22.689988Z",
     "shell.execute_reply.started": "2021-07-29T14:50:25.965141Z"
    },
    "papermill": {
     "duration": 0.219432,
     "end_time": "2021-07-29T14:51:22.690870",
     "exception": false,
     "start_time": "2021-07-29T14:51:22.471438",
     "status": "completed"
    },
    "tags": []
   },
   "outputs": [],
   "source": [
    "import os \n",
    "import pandas as pd \n",
    "import matplotlib.pyplot as plt\n",
    "%matplotlib inline\n",
    "import numpy as np \n",
    "import requests as rt \n",
    "import tweepy\n",
    "import json "
   ]
  },
  {
   "cell_type": "markdown",
   "id": "e62e5514",
   "metadata": {
    "papermill": {
     "duration": 0.079233,
     "end_time": "2021-07-29T14:51:22.849180",
     "exception": false,
     "start_time": "2021-07-29T14:51:22.769947",
     "status": "completed"
    },
    "tags": []
   },
   "source": [
    "# 1.0 Gathering Data "
   ]
  },
  {
   "cell_type": "markdown",
   "id": "65e22e76",
   "metadata": {
    "papermill": {
     "duration": 0.079003,
     "end_time": "2021-07-29T14:51:23.007139",
     "exception": false,
     "start_time": "2021-07-29T14:51:22.928136",
     "status": "completed"
    },
    "tags": []
   },
   "source": [
    "### 1.1 Gather_from_csv file "
   ]
  },
  {
   "cell_type": "code",
   "execution_count": 2,
   "id": "f5429502",
   "metadata": {
    "execution": {
     "iopub.execute_input": "2021-07-29T14:51:23.168099Z",
     "iopub.status.busy": "2021-07-29T14:51:23.167462Z",
     "iopub.status.idle": "2021-07-29T14:51:23.235482Z",
     "shell.execute_reply": "2021-07-29T14:51:23.235992Z",
     "shell.execute_reply.started": "2021-07-29T14:50:25.975126Z"
    },
    "papermill": {
     "duration": 0.15157,
     "end_time": "2021-07-29T14:51:23.236200",
     "exception": false,
     "start_time": "2021-07-29T14:51:23.084630",
     "status": "completed"
    },
    "tags": []
   },
   "outputs": [],
   "source": [
    "#Reading_data \n",
    "twitter_archive_enhanced = pd.read_csv(\"C:/Users/Muhammad Abdullahi/Downloads/twitter-archive-enhanced.csv\")"
   ]
  },
  {
   "cell_type": "markdown",
   "id": "5f9d2a7f",
   "metadata": {
    "papermill": {
     "duration": 0.078059,
     "end_time": "2021-07-29T14:51:23.392728",
     "exception": false,
     "start_time": "2021-07-29T14:51:23.314669",
     "status": "completed"
    },
    "tags": []
   },
   "source": [
    "### 1.2 Gather_from_the Internet"
   ]
  },
  {
   "cell_type": "code",
   "execution_count": 3,
   "id": "4d9d1165",
   "metadata": {
    "execution": {
     "iopub.execute_input": "2021-07-29T14:51:23.557018Z",
     "iopub.status.busy": "2021-07-29T14:51:23.556336Z",
     "iopub.status.idle": "2021-07-29T14:51:23.709560Z",
     "shell.execute_reply": "2021-07-29T14:51:23.710060Z",
     "shell.execute_reply.started": "2021-07-29T14:50:26.027102Z"
    },
    "papermill": {
     "duration": 0.237632,
     "end_time": "2021-07-29T14:51:23.710270",
     "exception": false,
     "start_time": "2021-07-29T14:51:23.472638",
     "status": "completed"
    },
    "tags": []
   },
   "outputs": [],
   "source": [
    "#Making file path or check for it \n",
    "folder_name = 'image_predictions_file'\n",
    "if not os.path.exists(folder_name):\n",
    "    os.makedirs(folder_name)\n",
    "    \n",
    "url = \"https://d17h27t6h515a5.cloudfront.net/topher/2017/August/599fd2ad_image-predictions/image-predictions.tsv\"\n",
    "response = rt.get(url)"
   ]
  },
  {
   "cell_type": "code",
   "execution_count": 4,
   "id": "c57165a0",
   "metadata": {
    "execution": {
     "iopub.execute_input": "2021-07-29T14:51:23.881071Z",
     "iopub.status.busy": "2021-07-29T14:51:23.880354Z",
     "iopub.status.idle": "2021-07-29T14:51:23.884429Z",
     "shell.execute_reply": "2021-07-29T14:51:23.883845Z",
     "shell.execute_reply.started": "2021-07-29T14:50:26.208598Z"
    },
    "papermill": {
     "duration": 0.086949,
     "end_time": "2021-07-29T14:51:23.884574",
     "exception": false,
     "start_time": "2021-07-29T14:51:23.797625",
     "status": "completed"
    },
    "tags": []
   },
   "outputs": [],
   "source": [
    "#Opening the file \n",
    "with open(os.path.join(folder_name,\n",
    "                      url.split('/')[-1]) , mode='wb') as file:\n",
    "    file.write(response.content)"
   ]
  },
  {
   "cell_type": "code",
   "execution_count": 5,
   "id": "b2039e96",
   "metadata": {
    "execution": {
     "iopub.execute_input": "2021-07-29T14:51:24.045169Z",
     "iopub.status.busy": "2021-07-29T14:51:24.044528Z",
     "iopub.status.idle": "2021-07-29T14:51:24.080698Z",
     "shell.execute_reply": "2021-07-29T14:51:24.080009Z",
     "shell.execute_reply.started": "2021-07-29T14:50:26.216079Z"
    },
    "papermill": {
     "duration": 0.11757,
     "end_time": "2021-07-29T14:51:24.080869",
     "exception": false,
     "start_time": "2021-07-29T14:51:23.963299",
     "status": "completed"
    },
    "tags": []
   },
   "outputs": [],
   "source": [
    "#Reading file \n",
    "image_predictions = pd.read_csv('C:/Users/Muhammad Abdullahi/Downloads/image_predictions_file/image-predictions.tsv', sep = \"\\t\")"
   ]
  },
  {
   "cell_type": "markdown",
   "id": "6816769d",
   "metadata": {
    "papermill": {
     "duration": 0.078193,
     "end_time": "2021-07-29T14:51:24.237396",
     "exception": false,
     "start_time": "2021-07-29T14:51:24.159203",
     "status": "completed"
    },
    "tags": []
   },
   "source": [
    "### 1.3 Gather_from_API"
   ]
  },
  {
   "cell_type": "code",
   "execution_count": 6,
   "id": "cc1d8ba7",
   "metadata": {
    "execution": {
     "iopub.execute_input": "2021-07-29T14:51:24.415783Z",
     "iopub.status.busy": "2021-07-29T14:51:24.414983Z",
     "iopub.status.idle": "2021-07-29T14:51:24.418967Z",
     "shell.execute_reply": "2021-07-29T14:51:24.418368Z",
     "shell.execute_reply.started": "2021-07-29T14:50:46.351725Z"
    },
    "papermill": {
     "duration": 0.100087,
     "end_time": "2021-07-29T14:51:24.419104",
     "exception": false,
     "start_time": "2021-07-29T14:51:24.319017",
     "status": "completed"
    },
    "tags": []
   },
   "outputs": [
    {
     "data": {
      "text/plain": [
       "'\"\\nimport tweepy\\nfrom tweepy import OAuthHandler\\nimport json\\nfrom timeit import default_timer as timer\\n\\n# Query Twitter API for each tweet in the Twitter archive and save JSON in a text file\\n# These are hidden to comply with Twitter\\'s API terms and conditions\\nconsumer_key = \\'HIDDEN\\'\\nconsumer_secret = \\'HIDDEN\\'\\naccess_token = \\'HIDDEN\\'\\naccess_secret = \\'HIDDEN\\'\\n\\nauth = OAuthHandler(consumer_key, consumer_secret)\\nauth.set_access_token(access_token, access_secret)\\n\\napi = tweepy.API(auth, wait_on_rate_limit=True)\\n\\n# NOTE TO STUDENT WITH MOBILE VERIFICATION ISSUES:\\n# df_1 is a DataFrame with the twitter_archive_enhanced.csv file. You may have to\\n# change line 17 to match the name of your DataFrame with twitter_archive_enhanced.csv\\n# NOTE TO REVIEWER: this student had mobile verification issues so the following\\n# Twitter API code was sent to this student from a Udacity instructor\\n# Tweet IDs for which to gather additional data via Twitter\\'s API\\ntweet_ids = df_1.tweet_id.values\\nlen(tweet_ids)\\n\\n# Query Twitter\\'s API for JSON data for each tweet ID in the Twitter archive\\ncount = 0\\nfails_dict = {}\\nstart = timer()\\n# Save each tweet\\'s returned JSON as a new line in a .txt file\\nwith open(\\'tweet_json.txt\\', \\'w\\') as outfile:\\n    # This loop will likely take 20-30 minutes to run because of Twitter\\'s rate limit\\n    for tweet_id in tweet_ids:\\n        count += 1\\n        print(str(count) + \": \" + str(tweet_id))\\n        try:\\n            tweet = api.get_status(tweet_id, tweet_mode=\\'extended\\')\\n            print(\"Success\")\\n            json.dump(tweet._json, outfile)\\n            outfile.write(\\'\\n\\')\\n        except tweepy.TweepError as e:\\n            print(\"Fail\")\\n            fails_dict[tweet_id] = e\\n            pass\\nend = timer()\\nprint(end - start)\\nprint(fails_dict)\\n'"
      ]
     },
     "execution_count": 6,
     "metadata": {},
     "output_type": "execute_result"
    }
   ],
   "source": [
    "# This cell need to API information , so we don't use it here know (Don't run this cell )\n",
    "# we used data from this API as json file instead. \n",
    "\"\"\"\"\n",
    "import tweepy\n",
    "from tweepy import OAuthHandler\n",
    "import json\n",
    "from timeit import default_timer as timer\n",
    "\n",
    "# Query Twitter API for each tweet in the Twitter archive and save JSON in a text file\n",
    "# These are hidden to comply with Twitter's API terms and conditions\n",
    "consumer_key = 'HIDDEN'\n",
    "consumer_secret = 'HIDDEN'\n",
    "access_token = 'HIDDEN'\n",
    "access_secret = 'HIDDEN'\n",
    "\n",
    "auth = OAuthHandler(consumer_key, consumer_secret)\n",
    "auth.set_access_token(access_token, access_secret)\n",
    "\n",
    "api = tweepy.API(auth, wait_on_rate_limit=True)\n",
    "\n",
    "# NOTE TO STUDENT WITH MOBILE VERIFICATION ISSUES:\n",
    "# df_1 is a DataFrame with the twitter_archive_enhanced.csv file. You may have to\n",
    "# change line 17 to match the name of your DataFrame with twitter_archive_enhanced.csv\n",
    "# NOTE TO REVIEWER: this student had mobile verification issues so the following\n",
    "# Twitter API code was sent to this student from a Udacity instructor\n",
    "# Tweet IDs for which to gather additional data via Twitter's API\n",
    "tweet_ids = df_1.tweet_id.values\n",
    "len(tweet_ids)\n",
    "\n",
    "# Query Twitter's API for JSON data for each tweet ID in the Twitter archive\n",
    "count = 0\n",
    "fails_dict = {}\n",
    "start = timer()\n",
    "# Save each tweet's returned JSON as a new line in a .txt file\n",
    "with open('tweet_json.txt', 'w') as outfile:\n",
    "    # This loop will likely take 20-30 minutes to run because of Twitter's rate limit\n",
    "    for tweet_id in tweet_ids:\n",
    "        count += 1\n",
    "        print(str(count) + \": \" + str(tweet_id))\n",
    "        try:\n",
    "            tweet = api.get_status(tweet_id, tweet_mode='extended')\n",
    "            print(\"Success\")\n",
    "            json.dump(tweet._json, outfile)\n",
    "            outfile.write('\\n')\n",
    "        except tweepy.TweepError as e:\n",
    "            print(\"Fail\")\n",
    "            fails_dict[tweet_id] = e\n",
    "            pass\n",
    "end = timer()\n",
    "print(end - start)\n",
    "print(fails_dict)\n",
    "\"\"\""
   ]
  },
  {
   "cell_type": "markdown",
   "id": "7d62554a",
   "metadata": {
    "papermill": {
     "duration": 0.081927,
     "end_time": "2021-07-29T14:51:24.581610",
     "exception": false,
     "start_time": "2021-07-29T14:51:24.499683",
     "status": "completed"
    },
    "tags": []
   },
   "source": [
    "### 1.3 Gather_from_json file"
   ]
  },
  {
   "cell_type": "code",
   "execution_count": 7,
   "id": "21147866",
   "metadata": {
    "execution": {
     "iopub.execute_input": "2021-07-29T14:51:24.743120Z",
     "iopub.status.busy": "2021-07-29T14:51:24.742470Z",
     "iopub.status.idle": "2021-07-29T14:51:25.115396Z",
     "shell.execute_reply": "2021-07-29T14:51:25.115923Z"
    },
    "papermill": {
     "duration": 0.456431,
     "end_time": "2021-07-29T14:51:25.116098",
     "exception": false,
     "start_time": "2021-07-29T14:51:24.659667",
     "status": "completed"
    },
    "tags": []
   },
   "outputs": [],
   "source": [
    "#Opening json file \n",
    "df_list = []\n",
    "\n",
    "with open('C:/Users/Muhammad Abdullahi/Downloads/tweet-json.txt') as file:\n",
    "    for line in file:\n",
    "        df_list.append(json.loads(line))"
   ]
  },
  {
   "cell_type": "code",
   "execution_count": 8,
   "id": "c179ccfc",
   "metadata": {
    "execution": {
     "iopub.execute_input": "2021-07-29T14:51:25.277137Z",
     "iopub.status.busy": "2021-07-29T14:51:25.276509Z",
     "iopub.status.idle": "2021-07-29T14:51:25.291015Z",
     "shell.execute_reply": "2021-07-29T14:51:25.290472Z"
    },
    "papermill": {
     "duration": 0.095106,
     "end_time": "2021-07-29T14:51:25.291150",
     "exception": false,
     "start_time": "2021-07-29T14:51:25.196044",
     "status": "completed"
    },
    "tags": []
   },
   "outputs": [],
   "source": [
    "#Reading json file data\n",
    "tweet_data = pd.DataFrame(df_list , columns = ['id' , 'retweet_count' , 'favorite_count'])"
   ]
  },
  {
   "cell_type": "markdown",
   "id": "cc1e10ba",
   "metadata": {
    "papermill": {
     "duration": 0.077542,
     "end_time": "2021-07-29T14:51:25.447293",
     "exception": false,
     "start_time": "2021-07-29T14:51:25.369751",
     "status": "completed"
    },
    "tags": []
   },
   "source": [
    "# 2.0 Assessing_Data "
   ]
  },
  {
   "cell_type": "markdown",
   "id": "a0f5429b",
   "metadata": {
    "papermill": {
     "duration": 0.078101,
     "end_time": "2021-07-29T14:51:25.603562",
     "exception": false,
     "start_time": "2021-07-29T14:51:25.525461",
     "status": "completed"
    },
    "tags": []
   },
   "source": [
    "### 2.1 Assess_'twitter-archive-data'"
   ]
  },
  {
   "cell_type": "code",
   "execution_count": 9,
   "id": "dcbb6c5b",
   "metadata": {
    "execution": {
     "iopub.execute_input": "2021-07-29T14:51:25.770157Z",
     "iopub.status.busy": "2021-07-29T14:51:25.769503Z",
     "iopub.status.idle": "2021-07-29T14:51:25.800969Z",
     "shell.execute_reply": "2021-07-29T14:51:25.800426Z"
    },
    "papermill": {
     "duration": 0.119772,
     "end_time": "2021-07-29T14:51:25.801117",
     "exception": false,
     "start_time": "2021-07-29T14:51:25.681345",
     "status": "completed"
    },
    "tags": []
   },
   "outputs": [
    {
     "data": {
      "text/html": [
       "<div>\n",
       "<style scoped>\n",
       "    .dataframe tbody tr th:only-of-type {\n",
       "        vertical-align: middle;\n",
       "    }\n",
       "\n",
       "    .dataframe tbody tr th {\n",
       "        vertical-align: top;\n",
       "    }\n",
       "\n",
       "    .dataframe thead th {\n",
       "        text-align: right;\n",
       "    }\n",
       "</style>\n",
       "<table border=\"1\" class=\"dataframe\">\n",
       "  <thead>\n",
       "    <tr style=\"text-align: right;\">\n",
       "      <th></th>\n",
       "      <th>tweet_id</th>\n",
       "      <th>in_reply_to_status_id</th>\n",
       "      <th>in_reply_to_user_id</th>\n",
       "      <th>timestamp</th>\n",
       "      <th>source</th>\n",
       "      <th>text</th>\n",
       "      <th>retweeted_status_id</th>\n",
       "      <th>retweeted_status_user_id</th>\n",
       "      <th>retweeted_status_timestamp</th>\n",
       "      <th>expanded_urls</th>\n",
       "      <th>rating_numerator</th>\n",
       "      <th>rating_denominator</th>\n",
       "      <th>name</th>\n",
       "      <th>doggo</th>\n",
       "      <th>floofer</th>\n",
       "      <th>pupper</th>\n",
       "      <th>puppo</th>\n",
       "    </tr>\n",
       "  </thead>\n",
       "  <tbody>\n",
       "    <tr>\n",
       "      <th>0</th>\n",
       "      <td>892420643555336193</td>\n",
       "      <td>NaN</td>\n",
       "      <td>NaN</td>\n",
       "      <td>2017-08-01 16:23:56 +0000</td>\n",
       "      <td>&lt;a href=\"http://twitter.com/download/iphone\" r...</td>\n",
       "      <td>This is Phineas. He's a mystical boy. Only eve...</td>\n",
       "      <td>NaN</td>\n",
       "      <td>NaN</td>\n",
       "      <td>NaN</td>\n",
       "      <td>https://twitter.com/dog_rates/status/892420643...</td>\n",
       "      <td>13</td>\n",
       "      <td>10</td>\n",
       "      <td>Phineas</td>\n",
       "      <td>None</td>\n",
       "      <td>None</td>\n",
       "      <td>None</td>\n",
       "      <td>None</td>\n",
       "    </tr>\n",
       "    <tr>\n",
       "      <th>1</th>\n",
       "      <td>892177421306343426</td>\n",
       "      <td>NaN</td>\n",
       "      <td>NaN</td>\n",
       "      <td>2017-08-01 00:17:27 +0000</td>\n",
       "      <td>&lt;a href=\"http://twitter.com/download/iphone\" r...</td>\n",
       "      <td>This is Tilly. She's just checking pup on you....</td>\n",
       "      <td>NaN</td>\n",
       "      <td>NaN</td>\n",
       "      <td>NaN</td>\n",
       "      <td>https://twitter.com/dog_rates/status/892177421...</td>\n",
       "      <td>13</td>\n",
       "      <td>10</td>\n",
       "      <td>Tilly</td>\n",
       "      <td>None</td>\n",
       "      <td>None</td>\n",
       "      <td>None</td>\n",
       "      <td>None</td>\n",
       "    </tr>\n",
       "    <tr>\n",
       "      <th>2</th>\n",
       "      <td>891815181378084864</td>\n",
       "      <td>NaN</td>\n",
       "      <td>NaN</td>\n",
       "      <td>2017-07-31 00:18:03 +0000</td>\n",
       "      <td>&lt;a href=\"http://twitter.com/download/iphone\" r...</td>\n",
       "      <td>This is Archie. He is a rare Norwegian Pouncin...</td>\n",
       "      <td>NaN</td>\n",
       "      <td>NaN</td>\n",
       "      <td>NaN</td>\n",
       "      <td>https://twitter.com/dog_rates/status/891815181...</td>\n",
       "      <td>12</td>\n",
       "      <td>10</td>\n",
       "      <td>Archie</td>\n",
       "      <td>None</td>\n",
       "      <td>None</td>\n",
       "      <td>None</td>\n",
       "      <td>None</td>\n",
       "    </tr>\n",
       "    <tr>\n",
       "      <th>3</th>\n",
       "      <td>891689557279858688</td>\n",
       "      <td>NaN</td>\n",
       "      <td>NaN</td>\n",
       "      <td>2017-07-30 15:58:51 +0000</td>\n",
       "      <td>&lt;a href=\"http://twitter.com/download/iphone\" r...</td>\n",
       "      <td>This is Darla. She commenced a snooze mid meal...</td>\n",
       "      <td>NaN</td>\n",
       "      <td>NaN</td>\n",
       "      <td>NaN</td>\n",
       "      <td>https://twitter.com/dog_rates/status/891689557...</td>\n",
       "      <td>13</td>\n",
       "      <td>10</td>\n",
       "      <td>Darla</td>\n",
       "      <td>None</td>\n",
       "      <td>None</td>\n",
       "      <td>None</td>\n",
       "      <td>None</td>\n",
       "    </tr>\n",
       "    <tr>\n",
       "      <th>4</th>\n",
       "      <td>891327558926688256</td>\n",
       "      <td>NaN</td>\n",
       "      <td>NaN</td>\n",
       "      <td>2017-07-29 16:00:24 +0000</td>\n",
       "      <td>&lt;a href=\"http://twitter.com/download/iphone\" r...</td>\n",
       "      <td>This is Franklin. He would like you to stop ca...</td>\n",
       "      <td>NaN</td>\n",
       "      <td>NaN</td>\n",
       "      <td>NaN</td>\n",
       "      <td>https://twitter.com/dog_rates/status/891327558...</td>\n",
       "      <td>12</td>\n",
       "      <td>10</td>\n",
       "      <td>Franklin</td>\n",
       "      <td>None</td>\n",
       "      <td>None</td>\n",
       "      <td>None</td>\n",
       "      <td>None</td>\n",
       "    </tr>\n",
       "  </tbody>\n",
       "</table>\n",
       "</div>"
      ],
      "text/plain": [
       "             tweet_id  in_reply_to_status_id  in_reply_to_user_id  \\\n",
       "0  892420643555336193                    NaN                  NaN   \n",
       "1  892177421306343426                    NaN                  NaN   \n",
       "2  891815181378084864                    NaN                  NaN   \n",
       "3  891689557279858688                    NaN                  NaN   \n",
       "4  891327558926688256                    NaN                  NaN   \n",
       "\n",
       "                   timestamp  \\\n",
       "0  2017-08-01 16:23:56 +0000   \n",
       "1  2017-08-01 00:17:27 +0000   \n",
       "2  2017-07-31 00:18:03 +0000   \n",
       "3  2017-07-30 15:58:51 +0000   \n",
       "4  2017-07-29 16:00:24 +0000   \n",
       "\n",
       "                                              source  \\\n",
       "0  <a href=\"http://twitter.com/download/iphone\" r...   \n",
       "1  <a href=\"http://twitter.com/download/iphone\" r...   \n",
       "2  <a href=\"http://twitter.com/download/iphone\" r...   \n",
       "3  <a href=\"http://twitter.com/download/iphone\" r...   \n",
       "4  <a href=\"http://twitter.com/download/iphone\" r...   \n",
       "\n",
       "                                                text  retweeted_status_id  \\\n",
       "0  This is Phineas. He's a mystical boy. Only eve...                  NaN   \n",
       "1  This is Tilly. She's just checking pup on you....                  NaN   \n",
       "2  This is Archie. He is a rare Norwegian Pouncin...                  NaN   \n",
       "3  This is Darla. She commenced a snooze mid meal...                  NaN   \n",
       "4  This is Franklin. He would like you to stop ca...                  NaN   \n",
       "\n",
       "   retweeted_status_user_id retweeted_status_timestamp  \\\n",
       "0                       NaN                        NaN   \n",
       "1                       NaN                        NaN   \n",
       "2                       NaN                        NaN   \n",
       "3                       NaN                        NaN   \n",
       "4                       NaN                        NaN   \n",
       "\n",
       "                                       expanded_urls  rating_numerator  \\\n",
       "0  https://twitter.com/dog_rates/status/892420643...                13   \n",
       "1  https://twitter.com/dog_rates/status/892177421...                13   \n",
       "2  https://twitter.com/dog_rates/status/891815181...                12   \n",
       "3  https://twitter.com/dog_rates/status/891689557...                13   \n",
       "4  https://twitter.com/dog_rates/status/891327558...                12   \n",
       "\n",
       "   rating_denominator      name doggo floofer pupper puppo  \n",
       "0                  10   Phineas  None    None   None  None  \n",
       "1                  10     Tilly  None    None   None  None  \n",
       "2                  10    Archie  None    None   None  None  \n",
       "3                  10     Darla  None    None   None  None  \n",
       "4                  10  Franklin  None    None   None  None  "
      ]
     },
     "execution_count": 9,
     "metadata": {},
     "output_type": "execute_result"
    }
   ],
   "source": [
    "twitter_archive_enhanced.head()"
   ]
  },
  {
   "cell_type": "code",
   "execution_count": 10,
   "id": "da93548e",
   "metadata": {
    "execution": {
     "iopub.execute_input": "2021-07-29T14:51:25.977453Z",
     "iopub.status.busy": "2021-07-29T14:51:25.976786Z",
     "iopub.status.idle": "2021-07-29T14:51:25.995129Z",
     "shell.execute_reply": "2021-07-29T14:51:25.994578Z"
    },
    "papermill": {
     "duration": 0.114509,
     "end_time": "2021-07-29T14:51:25.995285",
     "exception": false,
     "start_time": "2021-07-29T14:51:25.880776",
     "status": "completed"
    },
    "tags": []
   },
   "outputs": [
    {
     "data": {
      "text/html": [
       "<div>\n",
       "<style scoped>\n",
       "    .dataframe tbody tr th:only-of-type {\n",
       "        vertical-align: middle;\n",
       "    }\n",
       "\n",
       "    .dataframe tbody tr th {\n",
       "        vertical-align: top;\n",
       "    }\n",
       "\n",
       "    .dataframe thead th {\n",
       "        text-align: right;\n",
       "    }\n",
       "</style>\n",
       "<table border=\"1\" class=\"dataframe\">\n",
       "  <thead>\n",
       "    <tr style=\"text-align: right;\">\n",
       "      <th></th>\n",
       "      <th>tweet_id</th>\n",
       "      <th>in_reply_to_status_id</th>\n",
       "      <th>in_reply_to_user_id</th>\n",
       "      <th>timestamp</th>\n",
       "      <th>source</th>\n",
       "      <th>text</th>\n",
       "      <th>retweeted_status_id</th>\n",
       "      <th>retweeted_status_user_id</th>\n",
       "      <th>retweeted_status_timestamp</th>\n",
       "      <th>expanded_urls</th>\n",
       "      <th>rating_numerator</th>\n",
       "      <th>rating_denominator</th>\n",
       "      <th>name</th>\n",
       "      <th>doggo</th>\n",
       "      <th>floofer</th>\n",
       "      <th>pupper</th>\n",
       "      <th>puppo</th>\n",
       "    </tr>\n",
       "  </thead>\n",
       "  <tbody>\n",
       "    <tr>\n",
       "      <th>2140</th>\n",
       "      <td>670003130994700288</td>\n",
       "      <td>NaN</td>\n",
       "      <td>NaN</td>\n",
       "      <td>2015-11-26 22:16:09 +0000</td>\n",
       "      <td>&lt;a href=\"http://twitter.com/download/iphone\" r...</td>\n",
       "      <td>This is Raphael. He is a Baskerville Conquista...</td>\n",
       "      <td>NaN</td>\n",
       "      <td>NaN</td>\n",
       "      <td>NaN</td>\n",
       "      <td>https://twitter.com/dog_rates/status/670003130...</td>\n",
       "      <td>10</td>\n",
       "      <td>10</td>\n",
       "      <td>Raphael</td>\n",
       "      <td>None</td>\n",
       "      <td>None</td>\n",
       "      <td>None</td>\n",
       "      <td>None</td>\n",
       "    </tr>\n",
       "    <tr>\n",
       "      <th>1748</th>\n",
       "      <td>679062614270468097</td>\n",
       "      <td>NaN</td>\n",
       "      <td>NaN</td>\n",
       "      <td>2015-12-21 22:15:18 +0000</td>\n",
       "      <td>&lt;a href=\"http://twitter.com/download/iphone\" r...</td>\n",
       "      <td>This is Chompsky. He lives up to his name. 11/...</td>\n",
       "      <td>NaN</td>\n",
       "      <td>NaN</td>\n",
       "      <td>NaN</td>\n",
       "      <td>https://twitter.com/dog_rates/status/679062614...</td>\n",
       "      <td>11</td>\n",
       "      <td>10</td>\n",
       "      <td>Chompsky</td>\n",
       "      <td>None</td>\n",
       "      <td>None</td>\n",
       "      <td>None</td>\n",
       "      <td>None</td>\n",
       "    </tr>\n",
       "    <tr>\n",
       "      <th>374</th>\n",
       "      <td>828372645993398273</td>\n",
       "      <td>NaN</td>\n",
       "      <td>NaN</td>\n",
       "      <td>2017-02-05 22:40:03 +0000</td>\n",
       "      <td>&lt;a href=\"http://twitter.com/download/iphone\" r...</td>\n",
       "      <td>This is Alexander Hamilpup. He was one of the ...</td>\n",
       "      <td>NaN</td>\n",
       "      <td>NaN</td>\n",
       "      <td>NaN</td>\n",
       "      <td>https://twitter.com/dog_rates/status/828372645...</td>\n",
       "      <td>12</td>\n",
       "      <td>10</td>\n",
       "      <td>Alexander</td>\n",
       "      <td>None</td>\n",
       "      <td>None</td>\n",
       "      <td>None</td>\n",
       "      <td>None</td>\n",
       "    </tr>\n",
       "    <tr>\n",
       "      <th>987</th>\n",
       "      <td>749036806121881602</td>\n",
       "      <td>NaN</td>\n",
       "      <td>NaN</td>\n",
       "      <td>2016-07-02 00:27:45 +0000</td>\n",
       "      <td>&lt;a href=\"http://twitter.com/download/iphone\" r...</td>\n",
       "      <td>This is Dietrich. He hops at random. Other dog...</td>\n",
       "      <td>NaN</td>\n",
       "      <td>NaN</td>\n",
       "      <td>NaN</td>\n",
       "      <td>https://twitter.com/dog_rates/status/749036806...</td>\n",
       "      <td>8</td>\n",
       "      <td>10</td>\n",
       "      <td>Dietrich</td>\n",
       "      <td>None</td>\n",
       "      <td>None</td>\n",
       "      <td>None</td>\n",
       "      <td>None</td>\n",
       "    </tr>\n",
       "    <tr>\n",
       "      <th>831</th>\n",
       "      <td>768609597686943744</td>\n",
       "      <td>NaN</td>\n",
       "      <td>NaN</td>\n",
       "      <td>2016-08-25 00:43:02 +0000</td>\n",
       "      <td>&lt;a href=\"http://twitter.com/download/iphone\" r...</td>\n",
       "      <td>This is Lou. His sweater is too small and he a...</td>\n",
       "      <td>NaN</td>\n",
       "      <td>NaN</td>\n",
       "      <td>NaN</td>\n",
       "      <td>https://twitter.com/dog_rates/status/768609597...</td>\n",
       "      <td>10</td>\n",
       "      <td>10</td>\n",
       "      <td>Lou</td>\n",
       "      <td>None</td>\n",
       "      <td>None</td>\n",
       "      <td>None</td>\n",
       "      <td>None</td>\n",
       "    </tr>\n",
       "    <tr>\n",
       "      <th>1972</th>\n",
       "      <td>673240798075449344</td>\n",
       "      <td>NaN</td>\n",
       "      <td>NaN</td>\n",
       "      <td>2015-12-05 20:41:29 +0000</td>\n",
       "      <td>&lt;a href=\"http://twitter.com/download/iphone\" r...</td>\n",
       "      <td>Magical floating dog here. Very calm. Always h...</td>\n",
       "      <td>NaN</td>\n",
       "      <td>NaN</td>\n",
       "      <td>NaN</td>\n",
       "      <td>https://twitter.com/dog_rates/status/673240798...</td>\n",
       "      <td>6</td>\n",
       "      <td>10</td>\n",
       "      <td>None</td>\n",
       "      <td>None</td>\n",
       "      <td>None</td>\n",
       "      <td>None</td>\n",
       "      <td>None</td>\n",
       "    </tr>\n",
       "    <tr>\n",
       "      <th>965</th>\n",
       "      <td>750429297815552001</td>\n",
       "      <td>NaN</td>\n",
       "      <td>NaN</td>\n",
       "      <td>2016-07-05 20:41:01 +0000</td>\n",
       "      <td>&lt;a href=\"http://twitter.com/download/iphone\" r...</td>\n",
       "      <td>This is Arnie. He's a Nova Scotian Fridge Floo...</td>\n",
       "      <td>NaN</td>\n",
       "      <td>NaN</td>\n",
       "      <td>NaN</td>\n",
       "      <td>https://twitter.com/dog_rates/status/750429297...</td>\n",
       "      <td>12</td>\n",
       "      <td>10</td>\n",
       "      <td>Arnie</td>\n",
       "      <td>None</td>\n",
       "      <td>None</td>\n",
       "      <td>None</td>\n",
       "      <td>None</td>\n",
       "    </tr>\n",
       "    <tr>\n",
       "      <th>770</th>\n",
       "      <td>776819012571455488</td>\n",
       "      <td>NaN</td>\n",
       "      <td>NaN</td>\n",
       "      <td>2016-09-16 16:24:19 +0000</td>\n",
       "      <td>&lt;a href=\"http://twitter.com/download/iphone\" r...</td>\n",
       "      <td>RT @dog_rates: Everybody look at this beautifu...</td>\n",
       "      <td>6.798284e+17</td>\n",
       "      <td>4.196984e+09</td>\n",
       "      <td>2015-12-24 00:58:27 +0000</td>\n",
       "      <td>https://twitter.com/dog_rates/status/679828447...</td>\n",
       "      <td>13</td>\n",
       "      <td>10</td>\n",
       "      <td>None</td>\n",
       "      <td>None</td>\n",
       "      <td>None</td>\n",
       "      <td>pupper</td>\n",
       "      <td>None</td>\n",
       "    </tr>\n",
       "    <tr>\n",
       "      <th>176</th>\n",
       "      <td>857746408056729600</td>\n",
       "      <td>NaN</td>\n",
       "      <td>NaN</td>\n",
       "      <td>2017-04-28 00:00:54 +0000</td>\n",
       "      <td>&lt;a href=\"http://twitter.com/download/iphone\" r...</td>\n",
       "      <td>Meet Thor. He doesn't have finals because he's...</td>\n",
       "      <td>NaN</td>\n",
       "      <td>NaN</td>\n",
       "      <td>NaN</td>\n",
       "      <td>https://twitter.com/dog_rates/status/857746408...</td>\n",
       "      <td>13</td>\n",
       "      <td>10</td>\n",
       "      <td>Thor</td>\n",
       "      <td>None</td>\n",
       "      <td>None</td>\n",
       "      <td>None</td>\n",
       "      <td>None</td>\n",
       "    </tr>\n",
       "    <tr>\n",
       "      <th>896</th>\n",
       "      <td>759099523532779520</td>\n",
       "      <td>NaN</td>\n",
       "      <td>NaN</td>\n",
       "      <td>2016-07-29 18:53:24 +0000</td>\n",
       "      <td>&lt;a href=\"http://twitter.com/download/iphone\" r...</td>\n",
       "      <td>Meet Toby. He has a drinking problem. Inflatab...</td>\n",
       "      <td>NaN</td>\n",
       "      <td>NaN</td>\n",
       "      <td>NaN</td>\n",
       "      <td>https://twitter.com/dog_rates/status/759099523...</td>\n",
       "      <td>7</td>\n",
       "      <td>10</td>\n",
       "      <td>Toby</td>\n",
       "      <td>None</td>\n",
       "      <td>None</td>\n",
       "      <td>None</td>\n",
       "      <td>None</td>\n",
       "    </tr>\n",
       "  </tbody>\n",
       "</table>\n",
       "</div>"
      ],
      "text/plain": [
       "                tweet_id  in_reply_to_status_id  in_reply_to_user_id  \\\n",
       "2140  670003130994700288                    NaN                  NaN   \n",
       "1748  679062614270468097                    NaN                  NaN   \n",
       "374   828372645993398273                    NaN                  NaN   \n",
       "987   749036806121881602                    NaN                  NaN   \n",
       "831   768609597686943744                    NaN                  NaN   \n",
       "1972  673240798075449344                    NaN                  NaN   \n",
       "965   750429297815552001                    NaN                  NaN   \n",
       "770   776819012571455488                    NaN                  NaN   \n",
       "176   857746408056729600                    NaN                  NaN   \n",
       "896   759099523532779520                    NaN                  NaN   \n",
       "\n",
       "                      timestamp  \\\n",
       "2140  2015-11-26 22:16:09 +0000   \n",
       "1748  2015-12-21 22:15:18 +0000   \n",
       "374   2017-02-05 22:40:03 +0000   \n",
       "987   2016-07-02 00:27:45 +0000   \n",
       "831   2016-08-25 00:43:02 +0000   \n",
       "1972  2015-12-05 20:41:29 +0000   \n",
       "965   2016-07-05 20:41:01 +0000   \n",
       "770   2016-09-16 16:24:19 +0000   \n",
       "176   2017-04-28 00:00:54 +0000   \n",
       "896   2016-07-29 18:53:24 +0000   \n",
       "\n",
       "                                                 source  \\\n",
       "2140  <a href=\"http://twitter.com/download/iphone\" r...   \n",
       "1748  <a href=\"http://twitter.com/download/iphone\" r...   \n",
       "374   <a href=\"http://twitter.com/download/iphone\" r...   \n",
       "987   <a href=\"http://twitter.com/download/iphone\" r...   \n",
       "831   <a href=\"http://twitter.com/download/iphone\" r...   \n",
       "1972  <a href=\"http://twitter.com/download/iphone\" r...   \n",
       "965   <a href=\"http://twitter.com/download/iphone\" r...   \n",
       "770   <a href=\"http://twitter.com/download/iphone\" r...   \n",
       "176   <a href=\"http://twitter.com/download/iphone\" r...   \n",
       "896   <a href=\"http://twitter.com/download/iphone\" r...   \n",
       "\n",
       "                                                   text  retweeted_status_id  \\\n",
       "2140  This is Raphael. He is a Baskerville Conquista...                  NaN   \n",
       "1748  This is Chompsky. He lives up to his name. 11/...                  NaN   \n",
       "374   This is Alexander Hamilpup. He was one of the ...                  NaN   \n",
       "987   This is Dietrich. He hops at random. Other dog...                  NaN   \n",
       "831   This is Lou. His sweater is too small and he a...                  NaN   \n",
       "1972  Magical floating dog here. Very calm. Always h...                  NaN   \n",
       "965   This is Arnie. He's a Nova Scotian Fridge Floo...                  NaN   \n",
       "770   RT @dog_rates: Everybody look at this beautifu...         6.798284e+17   \n",
       "176   Meet Thor. He doesn't have finals because he's...                  NaN   \n",
       "896   Meet Toby. He has a drinking problem. Inflatab...                  NaN   \n",
       "\n",
       "      retweeted_status_user_id retweeted_status_timestamp  \\\n",
       "2140                       NaN                        NaN   \n",
       "1748                       NaN                        NaN   \n",
       "374                        NaN                        NaN   \n",
       "987                        NaN                        NaN   \n",
       "831                        NaN                        NaN   \n",
       "1972                       NaN                        NaN   \n",
       "965                        NaN                        NaN   \n",
       "770               4.196984e+09  2015-12-24 00:58:27 +0000   \n",
       "176                        NaN                        NaN   \n",
       "896                        NaN                        NaN   \n",
       "\n",
       "                                          expanded_urls  rating_numerator  \\\n",
       "2140  https://twitter.com/dog_rates/status/670003130...                10   \n",
       "1748  https://twitter.com/dog_rates/status/679062614...                11   \n",
       "374   https://twitter.com/dog_rates/status/828372645...                12   \n",
       "987   https://twitter.com/dog_rates/status/749036806...                 8   \n",
       "831   https://twitter.com/dog_rates/status/768609597...                10   \n",
       "1972  https://twitter.com/dog_rates/status/673240798...                 6   \n",
       "965   https://twitter.com/dog_rates/status/750429297...                12   \n",
       "770   https://twitter.com/dog_rates/status/679828447...                13   \n",
       "176   https://twitter.com/dog_rates/status/857746408...                13   \n",
       "896   https://twitter.com/dog_rates/status/759099523...                 7   \n",
       "\n",
       "      rating_denominator       name doggo floofer  pupper puppo  \n",
       "2140                  10    Raphael  None    None    None  None  \n",
       "1748                  10   Chompsky  None    None    None  None  \n",
       "374                   10  Alexander  None    None    None  None  \n",
       "987                   10   Dietrich  None    None    None  None  \n",
       "831                   10        Lou  None    None    None  None  \n",
       "1972                  10       None  None    None    None  None  \n",
       "965                   10      Arnie  None    None    None  None  \n",
       "770                   10       None  None    None  pupper  None  \n",
       "176                   10       Thor  None    None    None  None  \n",
       "896                   10       Toby  None    None    None  None  "
      ]
     },
     "execution_count": 10,
     "metadata": {},
     "output_type": "execute_result"
    }
   ],
   "source": [
    "twitter_archive_enhanced.sample(10)"
   ]
  },
  {
   "cell_type": "code",
   "execution_count": 11,
   "id": "ed30b1f2",
   "metadata": {
    "execution": {
     "iopub.execute_input": "2021-07-29T14:51:26.299284Z",
     "iopub.status.busy": "2021-07-29T14:51:26.298517Z",
     "iopub.status.idle": "2021-07-29T14:51:26.302800Z",
     "shell.execute_reply": "2021-07-29T14:51:26.302156Z"
    },
    "papermill": {
     "duration": 0.226633,
     "end_time": "2021-07-29T14:51:26.302951",
     "exception": false,
     "start_time": "2021-07-29T14:51:26.076318",
     "status": "completed"
    },
    "tags": []
   },
   "outputs": [
    {
     "name": "stdout",
     "output_type": "stream",
     "text": [
      "<class 'pandas.core.frame.DataFrame'>\n",
      "RangeIndex: 2356 entries, 0 to 2355\n",
      "Data columns (total 17 columns):\n",
      " #   Column                      Non-Null Count  Dtype  \n",
      "---  ------                      --------------  -----  \n",
      " 0   tweet_id                    2356 non-null   int64  \n",
      " 1   in_reply_to_status_id       78 non-null     float64\n",
      " 2   in_reply_to_user_id         78 non-null     float64\n",
      " 3   timestamp                   2356 non-null   object \n",
      " 4   source                      2356 non-null   object \n",
      " 5   text                        2356 non-null   object \n",
      " 6   retweeted_status_id         181 non-null    float64\n",
      " 7   retweeted_status_user_id    181 non-null    float64\n",
      " 8   retweeted_status_timestamp  181 non-null    object \n",
      " 9   expanded_urls               2297 non-null   object \n",
      " 10  rating_numerator            2356 non-null   int64  \n",
      " 11  rating_denominator          2356 non-null   int64  \n",
      " 12  name                        2356 non-null   object \n",
      " 13  doggo                       2356 non-null   object \n",
      " 14  floofer                     2356 non-null   object \n",
      " 15  pupper                      2356 non-null   object \n",
      " 16  puppo                       2356 non-null   object \n",
      "dtypes: float64(4), int64(3), object(10)\n",
      "memory usage: 313.0+ KB\n"
     ]
    }
   ],
   "source": [
    "twitter_archive_enhanced.info();"
   ]
  },
  {
   "cell_type": "code",
   "execution_count": 12,
   "id": "439f14e6",
   "metadata": {
    "execution": {
     "iopub.execute_input": "2021-07-29T14:51:26.474101Z",
     "iopub.status.busy": "2021-07-29T14:51:26.473241Z",
     "iopub.status.idle": "2021-07-29T14:51:26.478172Z",
     "shell.execute_reply": "2021-07-29T14:51:26.477572Z"
    },
    "papermill": {
     "duration": 0.094204,
     "end_time": "2021-07-29T14:51:26.478332",
     "exception": false,
     "start_time": "2021-07-29T14:51:26.384128",
     "status": "completed"
    },
    "tags": []
   },
   "outputs": [
    {
     "data": {
      "text/plain": [
       "None          745\n",
       "a              55\n",
       "Charlie        12\n",
       "Cooper         11\n",
       "Lucy           11\n",
       "             ... \n",
       "Dex             1\n",
       "Ace             1\n",
       "Tayzie          1\n",
       "Grizzie         1\n",
       "Christoper      1\n",
       "Name: name, Length: 957, dtype: int64"
      ]
     },
     "execution_count": 12,
     "metadata": {},
     "output_type": "execute_result"
    }
   ],
   "source": [
    "twitter_archive_enhanced.name.value_counts()"
   ]
  },
  {
   "cell_type": "code",
   "execution_count": 13,
   "id": "9ba15a24",
   "metadata": {
    "execution": {
     "iopub.execute_input": "2021-07-29T14:51:26.644917Z",
     "iopub.status.busy": "2021-07-29T14:51:26.644154Z",
     "iopub.status.idle": "2021-07-29T14:51:26.647812Z",
     "shell.execute_reply": "2021-07-29T14:51:26.647285Z"
    },
    "papermill": {
     "duration": 0.088982,
     "end_time": "2021-07-29T14:51:26.647947",
     "exception": false,
     "start_time": "2021-07-29T14:51:26.558965",
     "status": "completed"
    },
    "tags": []
   },
   "outputs": [
    {
     "data": {
      "text/plain": [
       "\"Here we have a majestic great white breaching off South Africa's coast. Absolutely h*ckin breathtaking. 13/10 (IG: tucker_marlo) #BarkWeek https://t.co/kQ04fDDRmh\""
      ]
     },
     "execution_count": 13,
     "metadata": {},
     "output_type": "execute_result"
    }
   ],
   "source": [
    "twitter_archive_enhanced.text[5]"
   ]
  },
  {
   "cell_type": "code",
   "execution_count": 14,
   "id": "b729a678",
   "metadata": {
    "execution": {
     "iopub.execute_input": "2021-07-29T14:51:26.817496Z",
     "iopub.status.busy": "2021-07-29T14:51:26.816803Z",
     "iopub.status.idle": "2021-07-29T14:51:26.823173Z",
     "shell.execute_reply": "2021-07-29T14:51:26.823771Z"
    },
    "papermill": {
     "duration": 0.095325,
     "end_time": "2021-07-29T14:51:26.823952",
     "exception": false,
     "start_time": "2021-07-29T14:51:26.728627",
     "status": "completed"
    },
    "tags": []
   },
   "outputs": [
    {
     "data": {
      "text/plain": [
       "https://twitter.com/dog_rates/status/667152164079423490/photo/1                                                                                                                                                                                                    2\n",
       "https://twitter.com/dog_rates/status/718631497683582976/photo/1                                                                                                                                                                                                    2\n",
       "https://twitter.com/dog_rates/status/783839966405230592/photo/1,https://twitter.com/dog_rates/status/783839966405230592/photo/1,https://twitter.com/dog_rates/status/783839966405230592/photo/1                                                                    2\n",
       "https://twitter.com/dog_rates/status/774314403806253056/photo/1,https://twitter.com/dog_rates/status/774314403806253056/photo/1,https://twitter.com/dog_rates/status/774314403806253056/photo/1,https://twitter.com/dog_rates/status/774314403806253056/photo/1    2\n",
       "https://twitter.com/dog_rates/status/781524693396357120/photo/1                                                                                                                                                                                                    2\n",
       "                                                                                                                                                                                                                                                                  ..\n",
       "https://twitter.com/dog_rates/status/763837565564780549/photo/1                                                                                                                                                                                                    1\n",
       "https://twitter.com/dog_rates/status/764259802650378240/photo/1,https://twitter.com/dog_rates/status/764259802650378240/photo/1                                                                                                                                    1\n",
       "https://twitter.com/dog_rates/status/764857477905154048/photo/1                                                                                                                                                                                                    1\n",
       "https://twitter.com/dog_rates/status/765222098633691136/photo/1                                                                                                                                                                                                    1\n",
       "https://twitter.com/dog_rates/status/666020888022790149/photo/1                                                                                                                                                                                                    1\n",
       "Name: expanded_urls, Length: 2218, dtype: int64"
      ]
     },
     "execution_count": 14,
     "metadata": {},
     "output_type": "execute_result"
    }
   ],
   "source": [
    "twitter_archive_enhanced.expanded_urls.value_counts()"
   ]
  },
  {
   "cell_type": "code",
   "execution_count": 15,
   "id": "2ee06d82",
   "metadata": {
    "execution": {
     "iopub.execute_input": "2021-07-29T14:51:26.990972Z",
     "iopub.status.busy": "2021-07-29T14:51:26.990355Z",
     "iopub.status.idle": "2021-07-29T14:51:26.995596Z",
     "shell.execute_reply": "2021-07-29T14:51:26.996055Z"
    },
    "papermill": {
     "duration": 0.090847,
     "end_time": "2021-07-29T14:51:26.996286",
     "exception": false,
     "start_time": "2021-07-29T14:51:26.905439",
     "status": "completed"
    },
    "tags": []
   },
   "outputs": [
    {
     "data": {
      "text/plain": [
       "str"
      ]
     },
     "execution_count": 15,
     "metadata": {},
     "output_type": "execute_result"
    }
   ],
   "source": [
    "type(twitter_archive_enhanced.timestamp[0])"
   ]
  },
  {
   "cell_type": "code",
   "execution_count": 16,
   "id": "5047e0bd",
   "metadata": {
    "execution": {
     "iopub.execute_input": "2021-07-29T14:51:27.164776Z",
     "iopub.status.busy": "2021-07-29T14:51:27.164140Z",
     "iopub.status.idle": "2021-07-29T14:51:27.181939Z",
     "shell.execute_reply": "2021-07-29T14:51:27.181283Z"
    },
    "papermill": {
     "duration": 0.103169,
     "end_time": "2021-07-29T14:51:27.182086",
     "exception": false,
     "start_time": "2021-07-29T14:51:27.078917",
     "status": "completed"
    },
    "tags": []
   },
   "outputs": [
    {
     "data": {
      "text/plain": [
       "0"
      ]
     },
     "execution_count": 16,
     "metadata": {},
     "output_type": "execute_result"
    }
   ],
   "source": [
    "twitter_archive_enhanced.duplicated().sum()"
   ]
  },
  {
   "cell_type": "code",
   "execution_count": 17,
   "id": "510cec98",
   "metadata": {
    "execution": {
     "iopub.execute_input": "2021-07-29T14:51:27.354243Z",
     "iopub.status.busy": "2021-07-29T14:51:27.353554Z",
     "iopub.status.idle": "2021-07-29T14:51:27.357816Z",
     "shell.execute_reply": "2021-07-29T14:51:27.357320Z"
    },
    "papermill": {
     "duration": 0.093928,
     "end_time": "2021-07-29T14:51:27.357991",
     "exception": false,
     "start_time": "2021-07-29T14:51:27.264063",
     "status": "completed"
    },
    "tags": []
   },
   "outputs": [
    {
     "data": {
      "text/plain": [
       "10     2333\n",
       "11        3\n",
       "50        3\n",
       "20        2\n",
       "80        2\n",
       "70        1\n",
       "7         1\n",
       "15        1\n",
       "150       1\n",
       "170       1\n",
       "0         1\n",
       "90        1\n",
       "40        1\n",
       "130       1\n",
       "110       1\n",
       "16        1\n",
       "120       1\n",
       "2         1\n",
       "Name: rating_denominator, dtype: int64"
      ]
     },
     "execution_count": 17,
     "metadata": {},
     "output_type": "execute_result"
    }
   ],
   "source": [
    "twitter_archive_enhanced.rating_denominator.value_counts()"
   ]
  },
  {
   "cell_type": "code",
   "execution_count": 18,
   "id": "3d17ed08",
   "metadata": {
    "execution": {
     "iopub.execute_input": "2021-07-29T14:51:27.532686Z",
     "iopub.status.busy": "2021-07-29T14:51:27.532063Z",
     "iopub.status.idle": "2021-07-29T14:51:27.534612Z",
     "shell.execute_reply": "2021-07-29T14:51:27.535121Z"
    },
    "papermill": {
     "duration": 0.094484,
     "end_time": "2021-07-29T14:51:27.535298",
     "exception": false,
     "start_time": "2021-07-29T14:51:27.440814",
     "status": "completed"
    },
    "tags": []
   },
   "outputs": [
    {
     "data": {
      "text/plain": [
       "12      558\n",
       "11      464\n",
       "10      461\n",
       "13      351\n",
       "9       158\n",
       "8       102\n",
       "7        55\n",
       "14       54\n",
       "5        37\n",
       "6        32\n",
       "3        19\n",
       "4        17\n",
       "2         9\n",
       "1         9\n",
       "75        2\n",
       "15        2\n",
       "420       2\n",
       "0         2\n",
       "80        1\n",
       "144       1\n",
       "17        1\n",
       "26        1\n",
       "20        1\n",
       "121       1\n",
       "143       1\n",
       "44        1\n",
       "60        1\n",
       "45        1\n",
       "50        1\n",
       "99        1\n",
       "204       1\n",
       "1776      1\n",
       "165       1\n",
       "666       1\n",
       "27        1\n",
       "182       1\n",
       "24        1\n",
       "960       1\n",
       "84        1\n",
       "88        1\n",
       "Name: rating_numerator, dtype: int64"
      ]
     },
     "execution_count": 18,
     "metadata": {},
     "output_type": "execute_result"
    }
   ],
   "source": [
    "twitter_archive_enhanced.rating_numerator.value_counts()"
   ]
  },
  {
   "cell_type": "markdown",
   "id": "d14489d1",
   "metadata": {
    "papermill": {
     "duration": 0.082991,
     "end_time": "2021-07-29T14:51:27.701696",
     "exception": false,
     "start_time": "2021-07-29T14:51:27.618705",
     "status": "completed"
    },
    "tags": []
   },
   "source": [
    "### 2.2 Assess_image predictions"
   ]
  },
  {
   "cell_type": "code",
   "execution_count": 19,
   "id": "f2ee061f",
   "metadata": {
    "execution": {
     "iopub.execute_input": "2021-07-29T14:51:27.874314Z",
     "iopub.status.busy": "2021-07-29T14:51:27.873670Z",
     "iopub.status.idle": "2021-07-29T14:51:27.890658Z",
     "shell.execute_reply": "2021-07-29T14:51:27.891191Z"
    },
    "papermill": {
     "duration": 0.104602,
     "end_time": "2021-07-29T14:51:27.891384",
     "exception": false,
     "start_time": "2021-07-29T14:51:27.786782",
     "status": "completed"
    },
    "tags": []
   },
   "outputs": [
    {
     "data": {
      "text/html": [
       "<div>\n",
       "<style scoped>\n",
       "    .dataframe tbody tr th:only-of-type {\n",
       "        vertical-align: middle;\n",
       "    }\n",
       "\n",
       "    .dataframe tbody tr th {\n",
       "        vertical-align: top;\n",
       "    }\n",
       "\n",
       "    .dataframe thead th {\n",
       "        text-align: right;\n",
       "    }\n",
       "</style>\n",
       "<table border=\"1\" class=\"dataframe\">\n",
       "  <thead>\n",
       "    <tr style=\"text-align: right;\">\n",
       "      <th></th>\n",
       "      <th>tweet_id</th>\n",
       "      <th>jpg_url</th>\n",
       "      <th>img_num</th>\n",
       "      <th>p1</th>\n",
       "      <th>p1_conf</th>\n",
       "      <th>p1_dog</th>\n",
       "      <th>p2</th>\n",
       "      <th>p2_conf</th>\n",
       "      <th>p2_dog</th>\n",
       "      <th>p3</th>\n",
       "      <th>p3_conf</th>\n",
       "      <th>p3_dog</th>\n",
       "    </tr>\n",
       "  </thead>\n",
       "  <tbody>\n",
       "    <tr>\n",
       "      <th>0</th>\n",
       "      <td>666020888022790149</td>\n",
       "      <td>https://pbs.twimg.com/media/CT4udn0WwAA0aMy.jpg</td>\n",
       "      <td>1</td>\n",
       "      <td>Welsh_springer_spaniel</td>\n",
       "      <td>0.465074</td>\n",
       "      <td>True</td>\n",
       "      <td>collie</td>\n",
       "      <td>0.156665</td>\n",
       "      <td>True</td>\n",
       "      <td>Shetland_sheepdog</td>\n",
       "      <td>0.061428</td>\n",
       "      <td>True</td>\n",
       "    </tr>\n",
       "    <tr>\n",
       "      <th>1</th>\n",
       "      <td>666029285002620928</td>\n",
       "      <td>https://pbs.twimg.com/media/CT42GRgUYAA5iDo.jpg</td>\n",
       "      <td>1</td>\n",
       "      <td>redbone</td>\n",
       "      <td>0.506826</td>\n",
       "      <td>True</td>\n",
       "      <td>miniature_pinscher</td>\n",
       "      <td>0.074192</td>\n",
       "      <td>True</td>\n",
       "      <td>Rhodesian_ridgeback</td>\n",
       "      <td>0.072010</td>\n",
       "      <td>True</td>\n",
       "    </tr>\n",
       "    <tr>\n",
       "      <th>2</th>\n",
       "      <td>666033412701032449</td>\n",
       "      <td>https://pbs.twimg.com/media/CT4521TWwAEvMyu.jpg</td>\n",
       "      <td>1</td>\n",
       "      <td>German_shepherd</td>\n",
       "      <td>0.596461</td>\n",
       "      <td>True</td>\n",
       "      <td>malinois</td>\n",
       "      <td>0.138584</td>\n",
       "      <td>True</td>\n",
       "      <td>bloodhound</td>\n",
       "      <td>0.116197</td>\n",
       "      <td>True</td>\n",
       "    </tr>\n",
       "    <tr>\n",
       "      <th>3</th>\n",
       "      <td>666044226329800704</td>\n",
       "      <td>https://pbs.twimg.com/media/CT5Dr8HUEAA-lEu.jpg</td>\n",
       "      <td>1</td>\n",
       "      <td>Rhodesian_ridgeback</td>\n",
       "      <td>0.408143</td>\n",
       "      <td>True</td>\n",
       "      <td>redbone</td>\n",
       "      <td>0.360687</td>\n",
       "      <td>True</td>\n",
       "      <td>miniature_pinscher</td>\n",
       "      <td>0.222752</td>\n",
       "      <td>True</td>\n",
       "    </tr>\n",
       "    <tr>\n",
       "      <th>4</th>\n",
       "      <td>666049248165822465</td>\n",
       "      <td>https://pbs.twimg.com/media/CT5IQmsXIAAKY4A.jpg</td>\n",
       "      <td>1</td>\n",
       "      <td>miniature_pinscher</td>\n",
       "      <td>0.560311</td>\n",
       "      <td>True</td>\n",
       "      <td>Rottweiler</td>\n",
       "      <td>0.243682</td>\n",
       "      <td>True</td>\n",
       "      <td>Doberman</td>\n",
       "      <td>0.154629</td>\n",
       "      <td>True</td>\n",
       "    </tr>\n",
       "  </tbody>\n",
       "</table>\n",
       "</div>"
      ],
      "text/plain": [
       "             tweet_id                                          jpg_url  \\\n",
       "0  666020888022790149  https://pbs.twimg.com/media/CT4udn0WwAA0aMy.jpg   \n",
       "1  666029285002620928  https://pbs.twimg.com/media/CT42GRgUYAA5iDo.jpg   \n",
       "2  666033412701032449  https://pbs.twimg.com/media/CT4521TWwAEvMyu.jpg   \n",
       "3  666044226329800704  https://pbs.twimg.com/media/CT5Dr8HUEAA-lEu.jpg   \n",
       "4  666049248165822465  https://pbs.twimg.com/media/CT5IQmsXIAAKY4A.jpg   \n",
       "\n",
       "   img_num                      p1   p1_conf  p1_dog                  p2  \\\n",
       "0        1  Welsh_springer_spaniel  0.465074    True              collie   \n",
       "1        1                 redbone  0.506826    True  miniature_pinscher   \n",
       "2        1         German_shepherd  0.596461    True            malinois   \n",
       "3        1     Rhodesian_ridgeback  0.408143    True             redbone   \n",
       "4        1      miniature_pinscher  0.560311    True          Rottweiler   \n",
       "\n",
       "    p2_conf  p2_dog                   p3   p3_conf  p3_dog  \n",
       "0  0.156665    True    Shetland_sheepdog  0.061428    True  \n",
       "1  0.074192    True  Rhodesian_ridgeback  0.072010    True  \n",
       "2  0.138584    True           bloodhound  0.116197    True  \n",
       "3  0.360687    True   miniature_pinscher  0.222752    True  \n",
       "4  0.243682    True             Doberman  0.154629    True  "
      ]
     },
     "execution_count": 19,
     "metadata": {},
     "output_type": "execute_result"
    }
   ],
   "source": [
    "image_predictions.head()"
   ]
  },
  {
   "cell_type": "code",
   "execution_count": 20,
   "id": "84d81cf4",
   "metadata": {
    "execution": {
     "iopub.execute_input": "2021-07-29T14:51:28.063344Z",
     "iopub.status.busy": "2021-07-29T14:51:28.062689Z",
     "iopub.status.idle": "2021-07-29T14:51:28.082920Z",
     "shell.execute_reply": "2021-07-29T14:51:28.083499Z"
    },
    "papermill": {
     "duration": 0.108083,
     "end_time": "2021-07-29T14:51:28.083707",
     "exception": false,
     "start_time": "2021-07-29T14:51:27.975624",
     "status": "completed"
    },
    "tags": []
   },
   "outputs": [
    {
     "data": {
      "text/html": [
       "<div>\n",
       "<style scoped>\n",
       "    .dataframe tbody tr th:only-of-type {\n",
       "        vertical-align: middle;\n",
       "    }\n",
       "\n",
       "    .dataframe tbody tr th {\n",
       "        vertical-align: top;\n",
       "    }\n",
       "\n",
       "    .dataframe thead th {\n",
       "        text-align: right;\n",
       "    }\n",
       "</style>\n",
       "<table border=\"1\" class=\"dataframe\">\n",
       "  <thead>\n",
       "    <tr style=\"text-align: right;\">\n",
       "      <th></th>\n",
       "      <th>tweet_id</th>\n",
       "      <th>jpg_url</th>\n",
       "      <th>img_num</th>\n",
       "      <th>p1</th>\n",
       "      <th>p1_conf</th>\n",
       "      <th>p1_dog</th>\n",
       "      <th>p2</th>\n",
       "      <th>p2_conf</th>\n",
       "      <th>p2_dog</th>\n",
       "      <th>p3</th>\n",
       "      <th>p3_conf</th>\n",
       "      <th>p3_dog</th>\n",
       "    </tr>\n",
       "  </thead>\n",
       "  <tbody>\n",
       "    <tr>\n",
       "      <th>1143</th>\n",
       "      <td>730196704625098752</td>\n",
       "      <td>https://pbs.twimg.com/media/CiIuBwCUgAAAGbz.jpg</td>\n",
       "      <td>1</td>\n",
       "      <td>hand_blower</td>\n",
       "      <td>0.296145</td>\n",
       "      <td>False</td>\n",
       "      <td>chain_mail</td>\n",
       "      <td>0.262271</td>\n",
       "      <td>False</td>\n",
       "      <td>toilet_seat</td>\n",
       "      <td>0.149497</td>\n",
       "      <td>False</td>\n",
       "    </tr>\n",
       "    <tr>\n",
       "      <th>267</th>\n",
       "      <td>670807719151067136</td>\n",
       "      <td>https://pbs.twimg.com/media/CU8v-rdXIAId12Z.jpg</td>\n",
       "      <td>1</td>\n",
       "      <td>Old_English_sheepdog</td>\n",
       "      <td>0.958035</td>\n",
       "      <td>True</td>\n",
       "      <td>Sealyham_terrier</td>\n",
       "      <td>0.013892</td>\n",
       "      <td>True</td>\n",
       "      <td>Border_collie</td>\n",
       "      <td>0.004601</td>\n",
       "      <td>True</td>\n",
       "    </tr>\n",
       "    <tr>\n",
       "      <th>1379</th>\n",
       "      <td>764857477905154048</td>\n",
       "      <td>https://pbs.twimg.com/media/Cp1R0ZTWcAAaPO4.jpg</td>\n",
       "      <td>1</td>\n",
       "      <td>Bernese_mountain_dog</td>\n",
       "      <td>0.792059</td>\n",
       "      <td>True</td>\n",
       "      <td>Appenzeller</td>\n",
       "      <td>0.155034</td>\n",
       "      <td>True</td>\n",
       "      <td>EntleBucher</td>\n",
       "      <td>0.038374</td>\n",
       "      <td>True</td>\n",
       "    </tr>\n",
       "    <tr>\n",
       "      <th>1904</th>\n",
       "      <td>852189679701164033</td>\n",
       "      <td>https://pbs.twimg.com/media/C9OV99SXsAEmj1U.jpg</td>\n",
       "      <td>1</td>\n",
       "      <td>barrow</td>\n",
       "      <td>0.423150</td>\n",
       "      <td>False</td>\n",
       "      <td>Bernese_mountain_dog</td>\n",
       "      <td>0.415374</td>\n",
       "      <td>True</td>\n",
       "      <td>EntleBucher</td>\n",
       "      <td>0.067345</td>\n",
       "      <td>True</td>\n",
       "    </tr>\n",
       "    <tr>\n",
       "      <th>908</th>\n",
       "      <td>700505138482569216</td>\n",
       "      <td>https://pbs.twimg.com/media/Cbixs3vUUAAqHHN.jpg</td>\n",
       "      <td>1</td>\n",
       "      <td>bath_towel</td>\n",
       "      <td>0.449684</td>\n",
       "      <td>False</td>\n",
       "      <td>Norwegian_elkhound</td>\n",
       "      <td>0.160205</td>\n",
       "      <td>True</td>\n",
       "      <td>Great_Dane</td>\n",
       "      <td>0.048666</td>\n",
       "      <td>True</td>\n",
       "    </tr>\n",
       "    <tr>\n",
       "      <th>1926</th>\n",
       "      <td>857746408056729600</td>\n",
       "      <td>https://pbs.twimg.com/media/C-dTzBzXUAQRjYz.jpg</td>\n",
       "      <td>1</td>\n",
       "      <td>Labrador_retriever</td>\n",
       "      <td>0.919832</td>\n",
       "      <td>True</td>\n",
       "      <td>beagle</td>\n",
       "      <td>0.043513</td>\n",
       "      <td>True</td>\n",
       "      <td>golden_retriever</td>\n",
       "      <td>0.023359</td>\n",
       "      <td>True</td>\n",
       "    </tr>\n",
       "    <tr>\n",
       "      <th>1200</th>\n",
       "      <td>740995100998766593</td>\n",
       "      <td>https://pbs.twimg.com/media/CkiLHCjUUAAPwUr.jpg</td>\n",
       "      <td>1</td>\n",
       "      <td>malamute</td>\n",
       "      <td>0.454363</td>\n",
       "      <td>True</td>\n",
       "      <td>Samoyed</td>\n",
       "      <td>0.215967</td>\n",
       "      <td>True</td>\n",
       "      <td>Siberian_husky</td>\n",
       "      <td>0.077500</td>\n",
       "      <td>True</td>\n",
       "    </tr>\n",
       "    <tr>\n",
       "      <th>708</th>\n",
       "      <td>685198997565345792</td>\n",
       "      <td>https://pbs.twimg.com/media/CYJQxvJW8AAkkws.jpg</td>\n",
       "      <td>1</td>\n",
       "      <td>dishwasher</td>\n",
       "      <td>0.888829</td>\n",
       "      <td>False</td>\n",
       "      <td>stove</td>\n",
       "      <td>0.013411</td>\n",
       "      <td>False</td>\n",
       "      <td>Old_English_sheepdog</td>\n",
       "      <td>0.009671</td>\n",
       "      <td>True</td>\n",
       "    </tr>\n",
       "    <tr>\n",
       "      <th>974</th>\n",
       "      <td>706901761596989440</td>\n",
       "      <td>https://pbs.twimg.com/media/Cc9rZlBWwAA56Ra.jpg</td>\n",
       "      <td>1</td>\n",
       "      <td>wild_boar</td>\n",
       "      <td>0.859499</td>\n",
       "      <td>False</td>\n",
       "      <td>hog</td>\n",
       "      <td>0.128981</td>\n",
       "      <td>False</td>\n",
       "      <td>warthog</td>\n",
       "      <td>0.011318</td>\n",
       "      <td>False</td>\n",
       "    </tr>\n",
       "    <tr>\n",
       "      <th>1989</th>\n",
       "      <td>872967104147763200</td>\n",
       "      <td>https://pbs.twimg.com/media/DB1m871XUAAw5vZ.jpg</td>\n",
       "      <td>2</td>\n",
       "      <td>Labrador_retriever</td>\n",
       "      <td>0.476913</td>\n",
       "      <td>True</td>\n",
       "      <td>Chesapeake_Bay_retriever</td>\n",
       "      <td>0.174145</td>\n",
       "      <td>True</td>\n",
       "      <td>German_short-haired_pointer</td>\n",
       "      <td>0.092861</td>\n",
       "      <td>True</td>\n",
       "    </tr>\n",
       "  </tbody>\n",
       "</table>\n",
       "</div>"
      ],
      "text/plain": [
       "                tweet_id                                          jpg_url  \\\n",
       "1143  730196704625098752  https://pbs.twimg.com/media/CiIuBwCUgAAAGbz.jpg   \n",
       "267   670807719151067136  https://pbs.twimg.com/media/CU8v-rdXIAId12Z.jpg   \n",
       "1379  764857477905154048  https://pbs.twimg.com/media/Cp1R0ZTWcAAaPO4.jpg   \n",
       "1904  852189679701164033  https://pbs.twimg.com/media/C9OV99SXsAEmj1U.jpg   \n",
       "908   700505138482569216  https://pbs.twimg.com/media/Cbixs3vUUAAqHHN.jpg   \n",
       "1926  857746408056729600  https://pbs.twimg.com/media/C-dTzBzXUAQRjYz.jpg   \n",
       "1200  740995100998766593  https://pbs.twimg.com/media/CkiLHCjUUAAPwUr.jpg   \n",
       "708   685198997565345792  https://pbs.twimg.com/media/CYJQxvJW8AAkkws.jpg   \n",
       "974   706901761596989440  https://pbs.twimg.com/media/Cc9rZlBWwAA56Ra.jpg   \n",
       "1989  872967104147763200  https://pbs.twimg.com/media/DB1m871XUAAw5vZ.jpg   \n",
       "\n",
       "      img_num                    p1   p1_conf  p1_dog  \\\n",
       "1143        1           hand_blower  0.296145   False   \n",
       "267         1  Old_English_sheepdog  0.958035    True   \n",
       "1379        1  Bernese_mountain_dog  0.792059    True   \n",
       "1904        1                barrow  0.423150   False   \n",
       "908         1            bath_towel  0.449684   False   \n",
       "1926        1    Labrador_retriever  0.919832    True   \n",
       "1200        1              malamute  0.454363    True   \n",
       "708         1            dishwasher  0.888829   False   \n",
       "974         1             wild_boar  0.859499   False   \n",
       "1989        2    Labrador_retriever  0.476913    True   \n",
       "\n",
       "                            p2   p2_conf  p2_dog                           p3  \\\n",
       "1143                chain_mail  0.262271   False                  toilet_seat   \n",
       "267           Sealyham_terrier  0.013892    True                Border_collie   \n",
       "1379               Appenzeller  0.155034    True                  EntleBucher   \n",
       "1904      Bernese_mountain_dog  0.415374    True                  EntleBucher   \n",
       "908         Norwegian_elkhound  0.160205    True                   Great_Dane   \n",
       "1926                    beagle  0.043513    True             golden_retriever   \n",
       "1200                   Samoyed  0.215967    True               Siberian_husky   \n",
       "708                      stove  0.013411   False         Old_English_sheepdog   \n",
       "974                        hog  0.128981   False                      warthog   \n",
       "1989  Chesapeake_Bay_retriever  0.174145    True  German_short-haired_pointer   \n",
       "\n",
       "       p3_conf  p3_dog  \n",
       "1143  0.149497   False  \n",
       "267   0.004601    True  \n",
       "1379  0.038374    True  \n",
       "1904  0.067345    True  \n",
       "908   0.048666    True  \n",
       "1926  0.023359    True  \n",
       "1200  0.077500    True  \n",
       "708   0.009671    True  \n",
       "974   0.011318   False  \n",
       "1989  0.092861    True  "
      ]
     },
     "execution_count": 20,
     "metadata": {},
     "output_type": "execute_result"
    }
   ],
   "source": [
    "image_predictions.sample(10)"
   ]
  },
  {
   "cell_type": "code",
   "execution_count": 21,
   "id": "8e6b2c09",
   "metadata": {
    "execution": {
     "iopub.execute_input": "2021-07-29T14:51:28.257107Z",
     "iopub.status.busy": "2021-07-29T14:51:28.256360Z",
     "iopub.status.idle": "2021-07-29T14:51:28.272880Z",
     "shell.execute_reply": "2021-07-29T14:51:28.272267Z"
    },
    "papermill": {
     "duration": 0.103919,
     "end_time": "2021-07-29T14:51:28.273025",
     "exception": false,
     "start_time": "2021-07-29T14:51:28.169106",
     "status": "completed"
    },
    "tags": []
   },
   "outputs": [
    {
     "name": "stdout",
     "output_type": "stream",
     "text": [
      "<class 'pandas.core.frame.DataFrame'>\n",
      "RangeIndex: 2075 entries, 0 to 2074\n",
      "Data columns (total 12 columns):\n",
      " #   Column    Non-Null Count  Dtype  \n",
      "---  ------    --------------  -----  \n",
      " 0   tweet_id  2075 non-null   int64  \n",
      " 1   jpg_url   2075 non-null   object \n",
      " 2   img_num   2075 non-null   int64  \n",
      " 3   p1        2075 non-null   object \n",
      " 4   p1_conf   2075 non-null   float64\n",
      " 5   p1_dog    2075 non-null   bool   \n",
      " 6   p2        2075 non-null   object \n",
      " 7   p2_conf   2075 non-null   float64\n",
      " 8   p2_dog    2075 non-null   bool   \n",
      " 9   p3        2075 non-null   object \n",
      " 10  p3_conf   2075 non-null   float64\n",
      " 11  p3_dog    2075 non-null   bool   \n",
      "dtypes: bool(3), float64(3), int64(2), object(4)\n",
      "memory usage: 152.1+ KB\n"
     ]
    }
   ],
   "source": [
    "image_predictions.info();"
   ]
  },
  {
   "cell_type": "code",
   "execution_count": 22,
   "id": "bfd0d564",
   "metadata": {
    "execution": {
     "iopub.execute_input": "2021-07-29T14:51:28.450289Z",
     "iopub.status.busy": "2021-07-29T14:51:28.449498Z",
     "iopub.status.idle": "2021-07-29T14:51:28.453602Z",
     "shell.execute_reply": "2021-07-29T14:51:28.452957Z"
    },
    "papermill": {
     "duration": 0.095093,
     "end_time": "2021-07-29T14:51:28.453744",
     "exception": false,
     "start_time": "2021-07-29T14:51:28.358651",
     "status": "completed"
    },
    "tags": []
   },
   "outputs": [
    {
     "data": {
      "text/plain": [
       "str"
      ]
     },
     "execution_count": 22,
     "metadata": {},
     "output_type": "execute_result"
    }
   ],
   "source": [
    "type(image_predictions.jpg_url[0])"
   ]
  },
  {
   "cell_type": "code",
   "execution_count": 23,
   "id": "e741dcd8",
   "metadata": {
    "execution": {
     "iopub.execute_input": "2021-07-29T14:51:28.678172Z",
     "iopub.status.busy": "2021-07-29T14:51:28.677547Z",
     "iopub.status.idle": "2021-07-29T14:51:28.688947Z",
     "shell.execute_reply": "2021-07-29T14:51:28.689425Z"
    },
    "papermill": {
     "duration": 0.09931,
     "end_time": "2021-07-29T14:51:28.689602",
     "exception": false,
     "start_time": "2021-07-29T14:51:28.590292",
     "status": "completed"
    },
    "tags": []
   },
   "outputs": [
    {
     "data": {
      "text/plain": [
       "0"
      ]
     },
     "execution_count": 23,
     "metadata": {},
     "output_type": "execute_result"
    }
   ],
   "source": [
    "image_predictions.duplicated().sum()"
   ]
  },
  {
   "cell_type": "markdown",
   "id": "11eb52b6",
   "metadata": {
    "papermill": {
     "duration": 0.084626,
     "end_time": "2021-07-29T14:51:28.860833",
     "exception": false,
     "start_time": "2021-07-29T14:51:28.776207",
     "status": "completed"
    },
    "tags": []
   },
   "source": [
    "### 2.3 Assess_tweet data"
   ]
  },
  {
   "cell_type": "code",
   "execution_count": 24,
   "id": "e7e743e8",
   "metadata": {
    "execution": {
     "iopub.execute_input": "2021-07-29T14:51:29.042496Z",
     "iopub.status.busy": "2021-07-29T14:51:29.041540Z",
     "iopub.status.idle": "2021-07-29T14:51:29.046047Z",
     "shell.execute_reply": "2021-07-29T14:51:29.045413Z"
    },
    "papermill": {
     "duration": 0.098767,
     "end_time": "2021-07-29T14:51:29.046185",
     "exception": false,
     "start_time": "2021-07-29T14:51:28.947418",
     "status": "completed"
    },
    "tags": []
   },
   "outputs": [
    {
     "data": {
      "text/html": [
       "<div>\n",
       "<style scoped>\n",
       "    .dataframe tbody tr th:only-of-type {\n",
       "        vertical-align: middle;\n",
       "    }\n",
       "\n",
       "    .dataframe tbody tr th {\n",
       "        vertical-align: top;\n",
       "    }\n",
       "\n",
       "    .dataframe thead th {\n",
       "        text-align: right;\n",
       "    }\n",
       "</style>\n",
       "<table border=\"1\" class=\"dataframe\">\n",
       "  <thead>\n",
       "    <tr style=\"text-align: right;\">\n",
       "      <th></th>\n",
       "      <th>id</th>\n",
       "      <th>retweet_count</th>\n",
       "      <th>favorite_count</th>\n",
       "    </tr>\n",
       "  </thead>\n",
       "  <tbody>\n",
       "    <tr>\n",
       "      <th>0</th>\n",
       "      <td>892420643555336193</td>\n",
       "      <td>8853</td>\n",
       "      <td>39467</td>\n",
       "    </tr>\n",
       "    <tr>\n",
       "      <th>1</th>\n",
       "      <td>892177421306343426</td>\n",
       "      <td>6514</td>\n",
       "      <td>33819</td>\n",
       "    </tr>\n",
       "    <tr>\n",
       "      <th>2</th>\n",
       "      <td>891815181378084864</td>\n",
       "      <td>4328</td>\n",
       "      <td>25461</td>\n",
       "    </tr>\n",
       "    <tr>\n",
       "      <th>3</th>\n",
       "      <td>891689557279858688</td>\n",
       "      <td>8964</td>\n",
       "      <td>42908</td>\n",
       "    </tr>\n",
       "    <tr>\n",
       "      <th>4</th>\n",
       "      <td>891327558926688256</td>\n",
       "      <td>9774</td>\n",
       "      <td>41048</td>\n",
       "    </tr>\n",
       "  </tbody>\n",
       "</table>\n",
       "</div>"
      ],
      "text/plain": [
       "                   id  retweet_count  favorite_count\n",
       "0  892420643555336193           8853           39467\n",
       "1  892177421306343426           6514           33819\n",
       "2  891815181378084864           4328           25461\n",
       "3  891689557279858688           8964           42908\n",
       "4  891327558926688256           9774           41048"
      ]
     },
     "execution_count": 24,
     "metadata": {},
     "output_type": "execute_result"
    }
   ],
   "source": [
    "tweet_data.head()"
   ]
  },
  {
   "cell_type": "code",
   "execution_count": 25,
   "id": "a8c52b2a",
   "metadata": {
    "execution": {
     "iopub.execute_input": "2021-07-29T14:51:29.230116Z",
     "iopub.status.busy": "2021-07-29T14:51:29.229118Z",
     "iopub.status.idle": "2021-07-29T14:51:29.233659Z",
     "shell.execute_reply": "2021-07-29T14:51:29.233025Z"
    },
    "papermill": {
     "duration": 0.100496,
     "end_time": "2021-07-29T14:51:29.233797",
     "exception": false,
     "start_time": "2021-07-29T14:51:29.133301",
     "status": "completed"
    },
    "tags": []
   },
   "outputs": [
    {
     "data": {
      "text/html": [
       "<div>\n",
       "<style scoped>\n",
       "    .dataframe tbody tr th:only-of-type {\n",
       "        vertical-align: middle;\n",
       "    }\n",
       "\n",
       "    .dataframe tbody tr th {\n",
       "        vertical-align: top;\n",
       "    }\n",
       "\n",
       "    .dataframe thead th {\n",
       "        text-align: right;\n",
       "    }\n",
       "</style>\n",
       "<table border=\"1\" class=\"dataframe\">\n",
       "  <thead>\n",
       "    <tr style=\"text-align: right;\">\n",
       "      <th></th>\n",
       "      <th>id</th>\n",
       "      <th>retweet_count</th>\n",
       "      <th>favorite_count</th>\n",
       "    </tr>\n",
       "  </thead>\n",
       "  <tbody>\n",
       "    <tr>\n",
       "      <th>732</th>\n",
       "      <td>781308096455073793</td>\n",
       "      <td>2961</td>\n",
       "      <td>7973</td>\n",
       "    </tr>\n",
       "    <tr>\n",
       "      <th>1342</th>\n",
       "      <td>704499785726889984</td>\n",
       "      <td>1124</td>\n",
       "      <td>3212</td>\n",
       "    </tr>\n",
       "    <tr>\n",
       "      <th>484</th>\n",
       "      <td>814578408554463233</td>\n",
       "      <td>6750</td>\n",
       "      <td>0</td>\n",
       "    </tr>\n",
       "    <tr>\n",
       "      <th>1075</th>\n",
       "      <td>739544079319588864</td>\n",
       "      <td>24319</td>\n",
       "      <td>43694</td>\n",
       "    </tr>\n",
       "    <tr>\n",
       "      <th>897</th>\n",
       "      <td>758828659922702336</td>\n",
       "      <td>4376</td>\n",
       "      <td>12376</td>\n",
       "    </tr>\n",
       "    <tr>\n",
       "      <th>740</th>\n",
       "      <td>780496263422808064</td>\n",
       "      <td>4319</td>\n",
       "      <td>0</td>\n",
       "    </tr>\n",
       "    <tr>\n",
       "      <th>599</th>\n",
       "      <td>798673117451325440</td>\n",
       "      <td>6485</td>\n",
       "      <td>0</td>\n",
       "    </tr>\n",
       "    <tr>\n",
       "      <th>348</th>\n",
       "      <td>831650051525054464</td>\n",
       "      <td>2243</td>\n",
       "      <td>7908</td>\n",
       "    </tr>\n",
       "    <tr>\n",
       "      <th>170</th>\n",
       "      <td>858860390427611136</td>\n",
       "      <td>8805</td>\n",
       "      <td>0</td>\n",
       "    </tr>\n",
       "    <tr>\n",
       "      <th>459</th>\n",
       "      <td>817777686764523521</td>\n",
       "      <td>3084</td>\n",
       "      <td>11901</td>\n",
       "    </tr>\n",
       "  </tbody>\n",
       "</table>\n",
       "</div>"
      ],
      "text/plain": [
       "                      id  retweet_count  favorite_count\n",
       "732   781308096455073793           2961            7973\n",
       "1342  704499785726889984           1124            3212\n",
       "484   814578408554463233           6750               0\n",
       "1075  739544079319588864          24319           43694\n",
       "897   758828659922702336           4376           12376\n",
       "740   780496263422808064           4319               0\n",
       "599   798673117451325440           6485               0\n",
       "348   831650051525054464           2243            7908\n",
       "170   858860390427611136           8805               0\n",
       "459   817777686764523521           3084           11901"
      ]
     },
     "execution_count": 25,
     "metadata": {},
     "output_type": "execute_result"
    }
   ],
   "source": [
    "tweet_data.sample(10)"
   ]
  },
  {
   "cell_type": "code",
   "execution_count": 26,
   "id": "a06d36c6",
   "metadata": {
    "execution": {
     "iopub.execute_input": "2021-07-29T14:51:29.419097Z",
     "iopub.status.busy": "2021-07-29T14:51:29.418416Z",
     "iopub.status.idle": "2021-07-29T14:51:29.421714Z",
     "shell.execute_reply": "2021-07-29T14:51:29.422299Z"
    },
    "papermill": {
     "duration": 0.102413,
     "end_time": "2021-07-29T14:51:29.422487",
     "exception": false,
     "start_time": "2021-07-29T14:51:29.320074",
     "status": "completed"
    },
    "tags": []
   },
   "outputs": [
    {
     "name": "stdout",
     "output_type": "stream",
     "text": [
      "<class 'pandas.core.frame.DataFrame'>\n",
      "RangeIndex: 2354 entries, 0 to 2353\n",
      "Data columns (total 3 columns):\n",
      " #   Column          Non-Null Count  Dtype\n",
      "---  ------          --------------  -----\n",
      " 0   id              2354 non-null   int64\n",
      " 1   retweet_count   2354 non-null   int64\n",
      " 2   favorite_count  2354 non-null   int64\n",
      "dtypes: int64(3)\n",
      "memory usage: 55.3 KB\n"
     ]
    }
   ],
   "source": [
    "tweet_data.info();"
   ]
  },
  {
   "cell_type": "code",
   "execution_count": 27,
   "id": "ece1dc2e",
   "metadata": {
    "execution": {
     "iopub.execute_input": "2021-07-29T14:51:29.604064Z",
     "iopub.status.busy": "2021-07-29T14:51:29.603034Z",
     "iopub.status.idle": "2021-07-29T14:51:29.609515Z",
     "shell.execute_reply": "2021-07-29T14:51:29.608835Z"
    },
    "papermill": {
     "duration": 0.100524,
     "end_time": "2021-07-29T14:51:29.609660",
     "exception": false,
     "start_time": "2021-07-29T14:51:29.509136",
     "status": "completed"
    },
    "tags": []
   },
   "outputs": [
    {
     "data": {
      "text/plain": [
       "0"
      ]
     },
     "execution_count": 27,
     "metadata": {},
     "output_type": "execute_result"
    }
   ],
   "source": [
    "tweet_data.duplicated().sum()"
   ]
  },
  {
   "cell_type": "markdown",
   "id": "434914ea",
   "metadata": {
    "papermill": {
     "duration": 0.087936,
     "end_time": "2021-07-29T14:51:29.785801",
     "exception": false,
     "start_time": "2021-07-29T14:51:29.697865",
     "status": "completed"
    },
    "tags": []
   },
   "source": [
    "## 1) Quality\n",
    " \n",
    "#### A- twitter_archive_enhanced\n",
    "- tweet_id should be \"string\" not \"int\" \n",
    "- some values in rating_denominator column are not equal to \"10\" \n",
    "- some values in both numerator and denominator are invalid\n",
    "- timestamp should be \"data time\" not \"str\" \n",
    "- removing retweeted data\n",
    "- retweeted_status_id  should be removed because we are interested in the tweet alone \n",
    "- retweeted_status_user_id should be removed because we are interested in the tweet alone\n",
    "- retweeted_status_timestamp should be removed because we are interested in the tweet alone\n",
    "- in_reply_to_status_id, in_reply_to_user_id, expanded_urls and source should be removed because we dont really them for analysis\n",
    "- Null values are represented as (none) in name column  \n",
    "- 59 missing value in expanded_urls column \n",
    "- some values in the rating_numerator column are over rated\n",
    "- strange names like ('a' , 'an') in name column \n",
    "\n",
    "#### B- image-predictions\n",
    "- tweet_id should be \"string\" not \"int\" \n",
    "- some names in the p columns have case irregularities\n",
    "- missing id's. there are '2075' available instead of '2353' \n",
    "\n",
    "#### C- tweet_data\n",
    "- id column name should be \"tweet_id\" instead of \"id\" \n",
    "- tweet_id should be \"string\" not \"int\" \n",
    "\n",
    "\n",
    "### Totall Quality issues : 17"
   ]
  },
  {
   "cell_type": "markdown",
   "id": "48a81e1e",
   "metadata": {
    "papermill": {
     "duration": 0.087419,
     "end_time": "2021-07-29T14:51:29.960263",
     "exception": false,
     "start_time": "2021-07-29T14:51:29.872844",
     "status": "completed"
    },
    "tags": []
   },
   "source": [
    "## 2) tidiness\n",
    "\n",
    "#### A- twitter_archive_enhanced\n",
    "- doggo, floofer, pupper, and puppo should be in one column not 4 \n",
    "\n",
    "#### B- image-predictions\n",
    "- columns name \"confg\" should be configration\n",
    "\n",
    "#### For A , B and C \n",
    "- combining the three dataframes in one dataframe \n",
    "\n",
    "### Totall tidiness issues : 3 "
   ]
  },
  {
   "cell_type": "markdown",
   "id": "e46d8232",
   "metadata": {
    "papermill": {
     "duration": 0.086759,
     "end_time": "2021-07-29T14:51:30.134480",
     "exception": false,
     "start_time": "2021-07-29T14:51:30.047721",
     "status": "completed"
    },
    "tags": []
   },
   "source": [
    "## Making a copy of the datasets "
   ]
  },
  {
   "cell_type": "code",
   "execution_count": 28,
   "id": "e49e5a1c",
   "metadata": {
    "execution": {
     "iopub.execute_input": "2021-07-29T14:51:30.315094Z",
     "iopub.status.busy": "2021-07-29T14:51:30.314362Z",
     "iopub.status.idle": "2021-07-29T14:51:30.317900Z",
     "shell.execute_reply": "2021-07-29T14:51:30.317398Z"
    },
    "papermill": {
     "duration": 0.09554,
     "end_time": "2021-07-29T14:51:30.318032",
     "exception": false,
     "start_time": "2021-07-29T14:51:30.222492",
     "status": "completed"
    },
    "tags": []
   },
   "outputs": [],
   "source": [
    "clean_twitter_archive = twitter_archive_enhanced.copy()\n",
    "clean_image_predictions = image_predictions.copy()\n",
    "clean_tweet_data = tweet_data.copy()"
   ]
  },
  {
   "cell_type": "markdown",
   "id": "f2734545",
   "metadata": {
    "papermill": {
     "duration": 0.086928,
     "end_time": "2021-07-29T14:51:30.491990",
     "exception": false,
     "start_time": "2021-07-29T14:51:30.405062",
     "status": "completed"
    },
    "tags": []
   },
   "source": [
    "# 3.0 Cleaning_Data"
   ]
  },
  {
   "cell_type": "markdown",
   "id": "2ab2aca8",
   "metadata": {
    "papermill": {
     "duration": 0.092546,
     "end_time": "2021-07-29T14:51:30.672624",
     "exception": false,
     "start_time": "2021-07-29T14:51:30.580078",
     "status": "completed"
    },
    "tags": []
   },
   "source": [
    "## issue_1\n",
    "- Quality : id column name in tweet_data should be tweet_id not id"
   ]
  },
  {
   "cell_type": "markdown",
   "id": "8dffea64",
   "metadata": {
    "papermill": {
     "duration": 0.088488,
     "end_time": "2021-07-29T14:51:30.848271",
     "exception": false,
     "start_time": "2021-07-29T14:51:30.759783",
     "status": "completed"
    },
    "tags": []
   },
   "source": [
    "#### .Define\n",
    "- replace the name column from \"id\" to \"tweet_id\""
   ]
  },
  {
   "cell_type": "markdown",
   "id": "10911509",
   "metadata": {
    "papermill": {
     "duration": 0.08879,
     "end_time": "2021-07-29T14:51:31.024772",
     "exception": false,
     "start_time": "2021-07-29T14:51:30.935982",
     "status": "completed"
    },
    "tags": []
   },
   "source": [
    "#### .Code "
   ]
  },
  {
   "cell_type": "code",
   "execution_count": 29,
   "id": "7b9fae6d",
   "metadata": {
    "execution": {
     "iopub.execute_input": "2021-07-29T14:51:31.209140Z",
     "iopub.status.busy": "2021-07-29T14:51:31.208486Z",
     "iopub.status.idle": "2021-07-29T14:51:31.210582Z",
     "shell.execute_reply": "2021-07-29T14:51:31.211062Z"
    },
    "papermill": {
     "duration": 0.097634,
     "end_time": "2021-07-29T14:51:31.211254",
     "exception": false,
     "start_time": "2021-07-29T14:51:31.113620",
     "status": "completed"
    },
    "tags": []
   },
   "outputs": [],
   "source": [
    "clean_tweet_data.rename(columns={'id': 'tweet_id'}, inplace=True)"
   ]
  },
  {
   "cell_type": "markdown",
   "id": "bc4c7ce3",
   "metadata": {
    "papermill": {
     "duration": 0.087816,
     "end_time": "2021-07-29T14:51:31.387691",
     "exception": false,
     "start_time": "2021-07-29T14:51:31.299875",
     "status": "completed"
    },
    "tags": []
   },
   "source": [
    "#### .Test"
   ]
  },
  {
   "cell_type": "code",
   "execution_count": 30,
   "id": "9ffd0950",
   "metadata": {
    "execution": {
     "iopub.execute_input": "2021-07-29T14:51:31.565989Z",
     "iopub.status.busy": "2021-07-29T14:51:31.565343Z",
     "iopub.status.idle": "2021-07-29T14:51:31.575390Z",
     "shell.execute_reply": "2021-07-29T14:51:31.574811Z"
    },
    "papermill": {
     "duration": 0.100408,
     "end_time": "2021-07-29T14:51:31.575557",
     "exception": false,
     "start_time": "2021-07-29T14:51:31.475149",
     "status": "completed"
    },
    "tags": []
   },
   "outputs": [
    {
     "data": {
      "text/html": [
       "<div>\n",
       "<style scoped>\n",
       "    .dataframe tbody tr th:only-of-type {\n",
       "        vertical-align: middle;\n",
       "    }\n",
       "\n",
       "    .dataframe tbody tr th {\n",
       "        vertical-align: top;\n",
       "    }\n",
       "\n",
       "    .dataframe thead th {\n",
       "        text-align: right;\n",
       "    }\n",
       "</style>\n",
       "<table border=\"1\" class=\"dataframe\">\n",
       "  <thead>\n",
       "    <tr style=\"text-align: right;\">\n",
       "      <th></th>\n",
       "      <th>tweet_id</th>\n",
       "      <th>retweet_count</th>\n",
       "      <th>favorite_count</th>\n",
       "    </tr>\n",
       "  </thead>\n",
       "  <tbody>\n",
       "    <tr>\n",
       "      <th>0</th>\n",
       "      <td>892420643555336193</td>\n",
       "      <td>8853</td>\n",
       "      <td>39467</td>\n",
       "    </tr>\n",
       "    <tr>\n",
       "      <th>1</th>\n",
       "      <td>892177421306343426</td>\n",
       "      <td>6514</td>\n",
       "      <td>33819</td>\n",
       "    </tr>\n",
       "    <tr>\n",
       "      <th>2</th>\n",
       "      <td>891815181378084864</td>\n",
       "      <td>4328</td>\n",
       "      <td>25461</td>\n",
       "    </tr>\n",
       "    <tr>\n",
       "      <th>3</th>\n",
       "      <td>891689557279858688</td>\n",
       "      <td>8964</td>\n",
       "      <td>42908</td>\n",
       "    </tr>\n",
       "    <tr>\n",
       "      <th>4</th>\n",
       "      <td>891327558926688256</td>\n",
       "      <td>9774</td>\n",
       "      <td>41048</td>\n",
       "    </tr>\n",
       "  </tbody>\n",
       "</table>\n",
       "</div>"
      ],
      "text/plain": [
       "             tweet_id  retweet_count  favorite_count\n",
       "0  892420643555336193           8853           39467\n",
       "1  892177421306343426           6514           33819\n",
       "2  891815181378084864           4328           25461\n",
       "3  891689557279858688           8964           42908\n",
       "4  891327558926688256           9774           41048"
      ]
     },
     "execution_count": 30,
     "metadata": {},
     "output_type": "execute_result"
    }
   ],
   "source": [
    "clean_tweet_data.head()"
   ]
  },
  {
   "cell_type": "markdown",
   "id": "678bbadf",
   "metadata": {
    "papermill": {
     "duration": 0.087497,
     "end_time": "2021-07-29T14:51:31.751697",
     "exception": false,
     "start_time": "2021-07-29T14:51:31.664200",
     "status": "completed"
    },
    "tags": []
   },
   "source": [
    "## issue_2\n",
    "- tidiness : combining the three dataframes into one dataframe "
   ]
  },
  {
   "cell_type": "markdown",
   "id": "d72f5a03",
   "metadata": {
    "papermill": {
     "duration": 0.087948,
     "end_time": "2021-07-29T14:51:31.928915",
     "exception": false,
     "start_time": "2021-07-29T14:51:31.840967",
     "status": "completed"
    },
    "tags": []
   },
   "source": [
    "#### .Define\n",
    "- merging the tables using the merge method "
   ]
  },
  {
   "cell_type": "markdown",
   "id": "f22b2ced",
   "metadata": {
    "papermill": {
     "duration": 0.087689,
     "end_time": "2021-07-29T14:51:32.106254",
     "exception": false,
     "start_time": "2021-07-29T14:51:32.018565",
     "status": "completed"
    },
    "tags": []
   },
   "source": [
    "#### .Code "
   ]
  },
  {
   "cell_type": "code",
   "execution_count": 31,
   "id": "5c39bf5b",
   "metadata": {
    "execution": {
     "iopub.execute_input": "2021-07-29T14:51:32.288173Z",
     "iopub.status.busy": "2021-07-29T14:51:32.286985Z",
     "iopub.status.idle": "2021-07-29T14:51:32.313938Z",
     "shell.execute_reply": "2021-07-29T14:51:32.313262Z"
    },
    "papermill": {
     "duration": 0.119238,
     "end_time": "2021-07-29T14:51:32.314076",
     "exception": false,
     "start_time": "2021-07-29T14:51:32.194838",
     "status": "completed"
    },
    "tags": []
   },
   "outputs": [],
   "source": [
    "clean_twitter_archive = pd.merge(clean_twitter_archive , image_predictions , on= \"tweet_id\" , how=\"left\") \n",
    "clean_twitter_archive = pd.merge(clean_twitter_archive , clean_tweet_data , on= \"tweet_id\" , how=\"left\")"
   ]
  },
  {
   "cell_type": "markdown",
   "id": "62c75d88",
   "metadata": {
    "papermill": {
     "duration": 0.089181,
     "end_time": "2021-07-29T14:51:32.491450",
     "exception": false,
     "start_time": "2021-07-29T14:51:32.402269",
     "status": "completed"
    },
    "tags": []
   },
   "source": [
    "#### .Test"
   ]
  },
  {
   "cell_type": "code",
   "execution_count": 1,
   "id": "ea35e001",
   "metadata": {
    "execution": {
     "iopub.execute_input": "2021-07-29T14:51:32.672448Z",
     "iopub.status.busy": "2021-07-29T14:51:32.671439Z",
     "iopub.status.idle": "2021-07-29T14:51:32.722432Z",
     "shell.execute_reply": "2021-07-29T14:51:32.721883Z"
    },
    "papermill": {
     "duration": 0.143478,
     "end_time": "2021-07-29T14:51:32.722570",
     "exception": false,
     "start_time": "2021-07-29T14:51:32.579092",
     "status": "completed"
    },
    "tags": []
   },
   "outputs": [
    {
     "ename": "NameError",
     "evalue": "name 'clean_twitter_archive' is not defined",
     "output_type": "error",
     "traceback": [
      "\u001b[1;31m---------------------------------------------------------------------------\u001b[0m",
      "\u001b[1;31mNameError\u001b[0m                                 Traceback (most recent call last)",
      "Input \u001b[1;32mIn [1]\u001b[0m, in \u001b[0;36m<cell line: 1>\u001b[1;34m()\u001b[0m\n\u001b[1;32m----> 1\u001b[0m \u001b[43mclean_twitter_archive\u001b[49m\u001b[38;5;241m.\u001b[39mT\n",
      "\u001b[1;31mNameError\u001b[0m: name 'clean_twitter_archive' is not defined"
     ]
    }
   ],
   "source": [
    "clean_twitter_archive.T"
   ]
  },
  {
   "cell_type": "markdown",
   "id": "7186c750",
   "metadata": {
    "papermill": {
     "duration": 0.088121,
     "end_time": "2021-07-29T14:51:32.900653",
     "exception": false,
     "start_time": "2021-07-29T14:51:32.812532",
     "status": "completed"
    },
    "tags": []
   },
   "source": [
    "## issue_3\n",
    "- Quality :  tweet_id should be \"string\" not \"int\""
   ]
  },
  {
   "cell_type": "markdown",
   "id": "653a627d",
   "metadata": {
    "papermill": {
     "duration": 0.088416,
     "end_time": "2021-07-29T14:51:33.079107",
     "exception": false,
     "start_time": "2021-07-29T14:51:32.990691",
     "status": "completed"
    },
    "tags": []
   },
   "source": [
    "#### .Define \n",
    "- converet column type with astype method "
   ]
  },
  {
   "cell_type": "markdown",
   "id": "e61ea128",
   "metadata": {
    "papermill": {
     "duration": 0.088439,
     "end_time": "2021-07-29T14:51:33.258199",
     "exception": false,
     "start_time": "2021-07-29T14:51:33.169760",
     "status": "completed"
    },
    "tags": []
   },
   "source": [
    "#### .Code "
   ]
  },
  {
   "cell_type": "code",
   "execution_count": 33,
   "id": "370fca2f",
   "metadata": {
    "execution": {
     "iopub.execute_input": "2021-07-29T14:51:33.445603Z",
     "iopub.status.busy": "2021-07-29T14:51:33.444595Z",
     "iopub.status.idle": "2021-07-29T14:51:33.447678Z",
     "shell.execute_reply": "2021-07-29T14:51:33.447075Z"
    },
    "papermill": {
     "duration": 0.100712,
     "end_time": "2021-07-29T14:51:33.447814",
     "exception": false,
     "start_time": "2021-07-29T14:51:33.347102",
     "status": "completed"
    },
    "tags": []
   },
   "outputs": [],
   "source": [
    "clean_twitter_archive['tweet_id'] = clean_twitter_archive['tweet_id'].astype(str)"
   ]
  },
  {
   "cell_type": "markdown",
   "id": "7db24fd4",
   "metadata": {
    "papermill": {
     "duration": 0.0913,
     "end_time": "2021-07-29T14:51:33.627926",
     "exception": false,
     "start_time": "2021-07-29T14:51:33.536626",
     "status": "completed"
    },
    "tags": []
   },
   "source": [
    "#### .Test"
   ]
  },
  {
   "cell_type": "code",
   "execution_count": 34,
   "id": "cb78a7d2",
   "metadata": {
    "execution": {
     "iopub.execute_input": "2021-07-29T14:51:33.814303Z",
     "iopub.status.busy": "2021-07-29T14:51:33.813662Z",
     "iopub.status.idle": "2021-07-29T14:51:33.817951Z",
     "shell.execute_reply": "2021-07-29T14:51:33.817423Z"
    },
    "papermill": {
     "duration": 0.098751,
     "end_time": "2021-07-29T14:51:33.818086",
     "exception": false,
     "start_time": "2021-07-29T14:51:33.719335",
     "status": "completed"
    },
    "tags": []
   },
   "outputs": [
    {
     "data": {
      "text/plain": [
       "str"
      ]
     },
     "execution_count": 34,
     "metadata": {},
     "output_type": "execute_result"
    }
   ],
   "source": [
    "type(clean_twitter_archive['tweet_id'][0])"
   ]
  },
  {
   "cell_type": "markdown",
   "id": "1d7d426a",
   "metadata": {},
   "source": [
    "## issue_4\n",
    "- removing retweeted data and replys"
   ]
  },
  {
   "cell_type": "markdown",
   "id": "d7c34ec2",
   "metadata": {},
   "source": [
    "#### .Define\n",
    "- delete retweet by filtering the NaN of retweeted_status_user_id \n",
    "- delete replys by filtering the Nan of in_reply_to_user_id"
   ]
  },
  {
   "cell_type": "markdown",
   "id": "57bba649",
   "metadata": {},
   "source": [
    "#### .Code "
   ]
  },
  {
   "cell_type": "code",
   "execution_count": 35,
   "id": "ae6ebbf1",
   "metadata": {},
   "outputs": [],
   "source": [
    "clean_twitter_archive =clean_twitter_archive[pd.isnull(clean_twitter_archive['retweeted_status_user_id'])]"
   ]
  },
  {
   "cell_type": "code",
   "execution_count": 36,
   "id": "390328f7",
   "metadata": {},
   "outputs": [],
   "source": [
    "clean_twitter_archive =clean_twitter_archive[pd.isnull(clean_twitter_archive['in_reply_to_user_id'])]"
   ]
  },
  {
   "cell_type": "markdown",
   "id": "b4b6bb7c",
   "metadata": {},
   "source": [
    "#### .Test"
   ]
  },
  {
   "cell_type": "code",
   "execution_count": 37,
   "id": "38fe6eed",
   "metadata": {},
   "outputs": [
    {
     "name": "stdout",
     "output_type": "stream",
     "text": [
      "nan\n"
     ]
    }
   ],
   "source": [
    "print(sum(clean_twitter_archive.retweeted_status_user_id))"
   ]
  },
  {
   "cell_type": "code",
   "execution_count": 38,
   "id": "f54ec0e8",
   "metadata": {},
   "outputs": [
    {
     "name": "stdout",
     "output_type": "stream",
     "text": [
      "nan\n"
     ]
    }
   ],
   "source": [
    "print(sum(clean_twitter_archive.in_reply_to_user_id))"
   ]
  },
  {
   "cell_type": "markdown",
   "id": "65693719",
   "metadata": {
    "papermill": {
     "duration": 0.089515,
     "end_time": "2021-07-29T14:51:33.996649",
     "exception": false,
     "start_time": "2021-07-29T14:51:33.907134",
     "status": "completed"
    },
    "tags": []
   },
   "source": [
    "## issue_5\n",
    "- tidiness : doggo, floofer, pupper, and puppo should be in one column not 4 "
   ]
  },
  {
   "cell_type": "markdown",
   "id": "1ce6604d",
   "metadata": {
    "papermill": {
     "duration": 0.090738,
     "end_time": "2021-07-29T14:51:34.176775",
     "exception": false,
     "start_time": "2021-07-29T14:51:34.086037",
     "status": "completed"
    },
    "tags": []
   },
   "source": [
    "#### .Define\n",
    "- extract dog stage from text and put it in new column 'dog stage' then drop the real columns "
   ]
  },
  {
   "cell_type": "markdown",
   "id": "d5350b50",
   "metadata": {
    "papermill": {
     "duration": 0.088746,
     "end_time": "2021-07-29T14:51:34.356265",
     "exception": false,
     "start_time": "2021-07-29T14:51:34.267519",
     "status": "completed"
    },
    "tags": []
   },
   "source": [
    "#### .Code "
   ]
  },
  {
   "cell_type": "code",
   "execution_count": 39,
   "id": "43c80ce4",
   "metadata": {
    "execution": {
     "iopub.execute_input": "2021-07-29T14:51:34.552790Z",
     "iopub.status.busy": "2021-07-29T14:51:34.550956Z",
     "iopub.status.idle": "2021-07-29T14:51:34.557366Z",
     "shell.execute_reply": "2021-07-29T14:51:34.556508Z"
    },
    "papermill": {
     "duration": 0.111989,
     "end_time": "2021-07-29T14:51:34.557527",
     "exception": false,
     "start_time": "2021-07-29T14:51:34.445538",
     "status": "completed"
    },
    "tags": []
   },
   "outputs": [],
   "source": [
    "stages = ['doggo', 'floofer', 'pupper', 'puppo']\n",
    "for i in stages:\n",
    "    clean_twitter_archive[i] = clean_twitter_archive[i].replace(\"None\", \"\")"
   ]
  },
  {
   "cell_type": "code",
   "execution_count": 40,
   "id": "bf38c921",
   "metadata": {},
   "outputs": [],
   "source": [
    "clean_twitter_archive['stages'] = clean_twitter_archive.doggo.str.cat(clean_twitter_archive.floofer)\n",
    "clean_twitter_archive['stages'] = clean_twitter_archive['stages'].str.cat(clean_twitter_archive.pupper).str.cat(clean_twitter_archive.puppo)"
   ]
  },
  {
   "cell_type": "code",
   "execution_count": 41,
   "id": "e949500a",
   "metadata": {},
   "outputs": [],
   "source": [
    "clean_twitter_archive = clean_twitter_archive.drop(['doggo', 'floofer', 'pupper', 'puppo'], axis = 1)"
   ]
  },
  {
   "cell_type": "code",
   "execution_count": 42,
   "id": "a9e59500",
   "metadata": {},
   "outputs": [],
   "source": [
    "clean_twitter_archive['stages']=clean_twitter_archive['stages'].replace(\"\", np.nan)"
   ]
  },
  {
   "cell_type": "code",
   "execution_count": 43,
   "id": "333a56ef",
   "metadata": {},
   "outputs": [],
   "source": [
    "def get_multiple(stages):\n",
    "    if stages in ['doggopupper', 'doggopuppo', 'doggofloofer']:\n",
    "        stages = 'multiple'\n",
    "    else:\n",
    "        pass\n",
    "    return stages"
   ]
  },
  {
   "cell_type": "code",
   "execution_count": 44,
   "id": "392641a4",
   "metadata": {},
   "outputs": [],
   "source": [
    "clean_twitter_archive['stages'] = clean_twitter_archive['stages'].map(get_multiple)"
   ]
  },
  {
   "cell_type": "markdown",
   "id": "916b1b51",
   "metadata": {
    "papermill": {
     "duration": 0.117771,
     "end_time": "2021-07-29T14:51:34.765348",
     "exception": false,
     "start_time": "2021-07-29T14:51:34.647577",
     "status": "completed"
    },
    "tags": []
   },
   "source": [
    "#### .Test"
   ]
  },
  {
   "cell_type": "code",
   "execution_count": 45,
   "id": "3a356c00",
   "metadata": {},
   "outputs": [
    {
     "data": {
      "text/plain": [
       "pupper      221\n",
       "doggo        72\n",
       "puppo        23\n",
       "multiple     11\n",
       "floofer       9\n",
       "Name: stages, dtype: int64"
      ]
     },
     "execution_count": 45,
     "metadata": {},
     "output_type": "execute_result"
    }
   ],
   "source": [
    "clean_twitter_archive.stages.value_counts()"
   ]
  },
  {
   "cell_type": "markdown",
   "id": "49ccca6f",
   "metadata": {
    "papermill": {
     "duration": 0.091262,
     "end_time": "2021-07-29T14:51:35.137962",
     "exception": false,
     "start_time": "2021-07-29T14:51:35.046700",
     "status": "completed"
    },
    "tags": []
   },
   "source": [
    "## issue_6\n",
    "- Quality : some values in rating_denominator column is not \"10\""
   ]
  },
  {
   "cell_type": "markdown",
   "id": "9ce02cee",
   "metadata": {
    "papermill": {
     "duration": 0.089318,
     "end_time": "2021-07-29T14:51:35.317253",
     "exception": false,
     "start_time": "2021-07-29T14:51:35.227935",
     "status": "completed"
    },
    "tags": []
   },
   "source": [
    "#### .Define\n",
    "- replace all num values less than 10 to 10 "
   ]
  },
  {
   "cell_type": "markdown",
   "id": "366fd8f7",
   "metadata": {
    "papermill": {
     "duration": 0.089692,
     "end_time": "2021-07-29T14:51:35.496345",
     "exception": false,
     "start_time": "2021-07-29T14:51:35.406653",
     "status": "completed"
    },
    "tags": []
   },
   "source": [
    "#### .Code "
   ]
  },
  {
   "cell_type": "code",
   "execution_count": 46,
   "id": "776f56d6",
   "metadata": {
    "execution": {
     "iopub.execute_input": "2021-07-29T14:51:35.685791Z",
     "iopub.status.busy": "2021-07-29T14:51:35.684806Z",
     "iopub.status.idle": "2021-07-29T14:51:35.752695Z",
     "shell.execute_reply": "2021-07-29T14:51:35.753273Z"
    },
    "papermill": {
     "duration": 0.166818,
     "end_time": "2021-07-29T14:51:35.753457",
     "exception": false,
     "start_time": "2021-07-29T14:51:35.586639",
     "status": "completed"
    },
    "tags": []
   },
   "outputs": [],
   "source": [
    "clean_twitter_archive.rating_denominator = clean_twitter_archive.rating_denominator.replace( range(0,1000) , 10 )     "
   ]
  },
  {
   "cell_type": "markdown",
   "id": "5901360f",
   "metadata": {
    "papermill": {
     "duration": 0.092247,
     "end_time": "2021-07-29T14:51:35.938010",
     "exception": false,
     "start_time": "2021-07-29T14:51:35.845763",
     "status": "completed"
    },
    "tags": []
   },
   "source": [
    "#### .Test"
   ]
  },
  {
   "cell_type": "code",
   "execution_count": 47,
   "id": "782e2c12",
   "metadata": {
    "execution": {
     "iopub.execute_input": "2021-07-29T14:51:36.126723Z",
     "iopub.status.busy": "2021-07-29T14:51:36.126037Z",
     "iopub.status.idle": "2021-07-29T14:51:36.129719Z",
     "shell.execute_reply": "2021-07-29T14:51:36.129114Z"
    },
    "papermill": {
     "duration": 0.100888,
     "end_time": "2021-07-29T14:51:36.129852",
     "exception": false,
     "start_time": "2021-07-29T14:51:36.028964",
     "status": "completed"
    },
    "tags": []
   },
   "outputs": [
    {
     "data": {
      "text/plain": [
       "10    2097\n",
       "Name: rating_denominator, dtype: int64"
      ]
     },
     "execution_count": 47,
     "metadata": {},
     "output_type": "execute_result"
    }
   ],
   "source": [
    "clean_twitter_archive.rating_denominator.value_counts()"
   ]
  },
  {
   "cell_type": "markdown",
   "id": "45394277",
   "metadata": {
    "papermill": {
     "duration": 0.09076,
     "end_time": "2021-07-29T14:51:36.312080",
     "exception": false,
     "start_time": "2021-07-29T14:51:36.221320",
     "status": "completed"
    },
    "tags": []
   },
   "source": [
    "## issues_7\n",
    "- invalid numerator and denominator"
   ]
  },
  {
   "cell_type": "markdown",
   "id": "d124c608",
   "metadata": {
    "papermill": {
     "duration": 0.090127,
     "end_time": "2021-07-29T14:51:36.493104",
     "exception": false,
     "start_time": "2021-07-29T14:51:36.402977",
     "status": "completed"
    },
    "tags": []
   },
   "source": [
    "#### .Define\n",
    "- removing invalid numerator and denominator by searching patterns "
   ]
  },
  {
   "cell_type": "markdown",
   "id": "34a34c85",
   "metadata": {
    "papermill": {
     "duration": 0.08979,
     "end_time": "2021-07-29T14:51:36.674574",
     "exception": false,
     "start_time": "2021-07-29T14:51:36.584784",
     "status": "completed"
    },
    "tags": []
   },
   "source": [
    "#### .Code "
   ]
  },
  {
   "cell_type": "code",
   "execution_count": 48,
   "id": "e9f58277",
   "metadata": {
    "execution": {
     "iopub.execute_input": "2021-07-29T14:51:36.863862Z",
     "iopub.status.busy": "2021-07-29T14:51:36.863147Z",
     "iopub.status.idle": "2021-07-29T14:51:36.889957Z",
     "shell.execute_reply": "2021-07-29T14:51:36.889105Z"
    },
    "papermill": {
     "duration": 0.125238,
     "end_time": "2021-07-29T14:51:36.890152",
     "exception": false,
     "start_time": "2021-07-29T14:51:36.764914",
     "status": "completed"
    },
    "scrolled": true,
    "tags": []
   },
   "outputs": [
    {
     "data": {
      "text/html": [
       "<div>\n",
       "<style scoped>\n",
       "    .dataframe tbody tr th:only-of-type {\n",
       "        vertical-align: middle;\n",
       "    }\n",
       "\n",
       "    .dataframe tbody tr th {\n",
       "        vertical-align: top;\n",
       "    }\n",
       "\n",
       "    .dataframe thead th {\n",
       "        text-align: right;\n",
       "    }\n",
       "</style>\n",
       "<table border=\"1\" class=\"dataframe\">\n",
       "  <thead>\n",
       "    <tr style=\"text-align: right;\">\n",
       "      <th></th>\n",
       "      <th>pattern</th>\n",
       "      <th>fraction</th>\n",
       "    </tr>\n",
       "  </thead>\n",
       "  <tbody>\n",
       "    <tr>\n",
       "      <th>45</th>\n",
       "      <td>13.5/10</td>\n",
       "      <td>5/10</td>\n",
       "    </tr>\n",
       "    <tr>\n",
       "      <th>433</th>\n",
       "      <td>84/70</td>\n",
       "      <td>84/10</td>\n",
       "    </tr>\n",
       "    <tr>\n",
       "      <th>516</th>\n",
       "      <td>24/7</td>\n",
       "      <td>24/10</td>\n",
       "    </tr>\n",
       "    <tr>\n",
       "      <th>695</th>\n",
       "      <td>9.75/10</td>\n",
       "      <td>75/10</td>\n",
       "    </tr>\n",
       "    <tr>\n",
       "      <th>763</th>\n",
       "      <td>11.27/10</td>\n",
       "      <td>27/10</td>\n",
       "    </tr>\n",
       "    <tr>\n",
       "      <th>902</th>\n",
       "      <td>165/150</td>\n",
       "      <td>165/10</td>\n",
       "    </tr>\n",
       "    <tr>\n",
       "      <th>1068</th>\n",
       "      <td>9/11</td>\n",
       "      <td>9/10</td>\n",
       "    </tr>\n",
       "    <tr>\n",
       "      <th>1120</th>\n",
       "      <td>204/170</td>\n",
       "      <td>204/10</td>\n",
       "    </tr>\n",
       "    <tr>\n",
       "      <th>1165</th>\n",
       "      <td>4/20</td>\n",
       "      <td>4/10</td>\n",
       "    </tr>\n",
       "    <tr>\n",
       "      <th>1202</th>\n",
       "      <td>50/50</td>\n",
       "      <td>50/10</td>\n",
       "    </tr>\n",
       "    <tr>\n",
       "      <th>1228</th>\n",
       "      <td>99/90</td>\n",
       "      <td>99/10</td>\n",
       "    </tr>\n",
       "    <tr>\n",
       "      <th>1254</th>\n",
       "      <td>80/80</td>\n",
       "      <td>80/10</td>\n",
       "    </tr>\n",
       "    <tr>\n",
       "      <th>1274</th>\n",
       "      <td>45/50</td>\n",
       "      <td>45/10</td>\n",
       "    </tr>\n",
       "    <tr>\n",
       "      <th>1351</th>\n",
       "      <td>60/50</td>\n",
       "      <td>60/10</td>\n",
       "    </tr>\n",
       "    <tr>\n",
       "      <th>1433</th>\n",
       "      <td>44/40</td>\n",
       "      <td>44/10</td>\n",
       "    </tr>\n",
       "    <tr>\n",
       "      <th>1635</th>\n",
       "      <td>121/110</td>\n",
       "      <td>121/10</td>\n",
       "    </tr>\n",
       "    <tr>\n",
       "      <th>1662</th>\n",
       "      <td>7/11</td>\n",
       "      <td>7/10</td>\n",
       "    </tr>\n",
       "    <tr>\n",
       "      <th>1712</th>\n",
       "      <td>11.26/10</td>\n",
       "      <td>26/10</td>\n",
       "    </tr>\n",
       "    <tr>\n",
       "      <th>1779</th>\n",
       "      <td>144/120</td>\n",
       "      <td>144/10</td>\n",
       "    </tr>\n",
       "    <tr>\n",
       "      <th>1843</th>\n",
       "      <td>88/80</td>\n",
       "      <td>88/10</td>\n",
       "    </tr>\n",
       "    <tr>\n",
       "      <th>2335</th>\n",
       "      <td>1/2</td>\n",
       "      <td>1/10</td>\n",
       "    </tr>\n",
       "  </tbody>\n",
       "</table>\n",
       "</div>"
      ],
      "text/plain": [
       "       pattern fraction\n",
       "45     13.5/10     5/10\n",
       "433      84/70    84/10\n",
       "516       24/7    24/10\n",
       "695    9.75/10    75/10\n",
       "763   11.27/10    27/10\n",
       "902    165/150   165/10\n",
       "1068      9/11     9/10\n",
       "1120   204/170   204/10\n",
       "1165      4/20     4/10\n",
       "1202     50/50    50/10\n",
       "1228     99/90    99/10\n",
       "1254     80/80    80/10\n",
       "1274     45/50    45/10\n",
       "1351     60/50    60/10\n",
       "1433     44/40    44/10\n",
       "1635   121/110   121/10\n",
       "1662      7/11     7/10\n",
       "1712  11.26/10    26/10\n",
       "1779   144/120   144/10\n",
       "1843     88/80    88/10\n",
       "2335       1/2     1/10"
      ]
     },
     "execution_count": 48,
     "metadata": {},
     "output_type": "execute_result"
    }
   ],
   "source": [
    "import re \n",
    "\n",
    "regex = r'''([+-]?([0-9]+[.])?[0-9]+\\/[+-]?([0-9]+[.])?[0-9]+)'''\n",
    "\n",
    "          #[+-]?([0-9]*[.])?[0-9]+\\/[+-]?([0-9]*[.])?[0-9]+\n",
    "def get_pattern(pat):\n",
    "  try:\n",
    "      return re.findall(regex, pat)[0][0]\n",
    "  except Exception as e:\n",
    "      return ''\n",
    "\n",
    "\n",
    "clean_twitter_archive['pattern'] = clean_twitter_archive['text'].apply(get_pattern)\n",
    "clean_twitter_archive['fraction'] = clean_twitter_archive['rating_numerator'].astype(str) + '/' + clean_twitter_archive['rating_denominator'].astype(str)\n",
    "clean_twitter_archive[clean_twitter_archive['pattern'] != clean_twitter_archive['fraction']][['pattern', 'fraction']]"
   ]
  },
  {
   "cell_type": "code",
   "execution_count": 49,
   "id": "768df53c",
   "metadata": {},
   "outputs": [],
   "source": [
    "clean_twitter_archive=clean_twitter_archive.drop(clean_twitter_archive[clean_twitter_archive['pattern'] != clean_twitter_archive['fraction']].index)"
   ]
  },
  {
   "cell_type": "markdown",
   "id": "f7bb5e11",
   "metadata": {
    "papermill": {
     "duration": 0.091643,
     "end_time": "2021-07-29T14:51:37.075594",
     "exception": false,
     "start_time": "2021-07-29T14:51:36.983951",
     "status": "completed"
    },
    "tags": []
   },
   "source": [
    "#### .Test"
   ]
  },
  {
   "cell_type": "code",
   "execution_count": 50,
   "id": "181b17ad",
   "metadata": {},
   "outputs": [
    {
     "name": "stdout",
     "output_type": "stream",
     "text": [
      "<class 'pandas.core.frame.DataFrame'>\n",
      "Int64Index: 2076 entries, 0 to 2355\n",
      "Data columns (total 29 columns):\n",
      " #   Column                      Non-Null Count  Dtype  \n",
      "---  ------                      --------------  -----  \n",
      " 0   tweet_id                    2076 non-null   object \n",
      " 1   in_reply_to_status_id       0 non-null      float64\n",
      " 2   in_reply_to_user_id         0 non-null      float64\n",
      " 3   timestamp                   2076 non-null   object \n",
      " 4   source                      2076 non-null   object \n",
      " 5   text                        2076 non-null   object \n",
      " 6   retweeted_status_id         0 non-null      float64\n",
      " 7   retweeted_status_user_id    0 non-null      float64\n",
      " 8   retweeted_status_timestamp  0 non-null      object \n",
      " 9   expanded_urls               2073 non-null   object \n",
      " 10  rating_numerator            2076 non-null   int64  \n",
      " 11  rating_denominator          2076 non-null   int64  \n",
      " 12  name                        2076 non-null   object \n",
      " 13  jpg_url                     1950 non-null   object \n",
      " 14  img_num                     1950 non-null   float64\n",
      " 15  p1                          1950 non-null   object \n",
      " 16  p1_conf                     1950 non-null   float64\n",
      " 17  p1_dog                      1950 non-null   object \n",
      " 18  p2                          1950 non-null   object \n",
      " 19  p2_conf                     1950 non-null   float64\n",
      " 20  p2_dog                      1950 non-null   object \n",
      " 21  p3                          1950 non-null   object \n",
      " 22  p3_conf                     1950 non-null   float64\n",
      " 23  p3_dog                      1950 non-null   object \n",
      " 24  retweet_count               2076 non-null   float64\n",
      " 25  favorite_count              2076 non-null   float64\n",
      " 26  stages                      335 non-null    object \n",
      " 27  pattern                     2076 non-null   object \n",
      " 28  fraction                    2076 non-null   object \n",
      "dtypes: float64(10), int64(2), object(17)\n",
      "memory usage: 486.6+ KB\n"
     ]
    }
   ],
   "source": [
    "clean_twitter_archive.info()"
   ]
  },
  {
   "cell_type": "markdown",
   "id": "b19f281e",
   "metadata": {},
   "source": [
    "## issue_8\n",
    "- Quality : timestamp should be \"data time\" not \"str\""
   ]
  },
  {
   "cell_type": "markdown",
   "id": "867a2c0f",
   "metadata": {},
   "source": [
    "#### .Define\n",
    "- convert the column type using to_datetime method"
   ]
  },
  {
   "cell_type": "markdown",
   "id": "6aa965c7",
   "metadata": {
    "papermill": {
     "duration": 0.091863,
     "end_time": "2021-07-29T14:51:38.023680",
     "exception": false,
     "start_time": "2021-07-29T14:51:37.931817",
     "status": "completed"
    },
    "tags": []
   },
   "source": [
    "#### .Code "
   ]
  },
  {
   "cell_type": "code",
   "execution_count": 51,
   "id": "106ede67",
   "metadata": {
    "execution": {
     "iopub.execute_input": "2021-07-29T14:51:38.216038Z",
     "iopub.status.busy": "2021-07-29T14:51:38.215332Z",
     "iopub.status.idle": "2021-07-29T14:51:38.218470Z",
     "shell.execute_reply": "2021-07-29T14:51:38.217911Z"
    },
    "papermill": {
     "duration": 0.103352,
     "end_time": "2021-07-29T14:51:38.218608",
     "exception": false,
     "start_time": "2021-07-29T14:51:38.115256",
     "status": "completed"
    },
    "tags": []
   },
   "outputs": [],
   "source": [
    "clean_twitter_archive['timestamp']= pd.to_datetime(clean_twitter_archive['timestamp'])"
   ]
  },
  {
   "cell_type": "markdown",
   "id": "41c06794",
   "metadata": {
    "papermill": {
     "duration": 0.094138,
     "end_time": "2021-07-29T14:51:38.406135",
     "exception": false,
     "start_time": "2021-07-29T14:51:38.311997",
     "status": "completed"
    },
    "tags": []
   },
   "source": [
    "#### .Test"
   ]
  },
  {
   "cell_type": "code",
   "execution_count": 52,
   "id": "5d0124dc",
   "metadata": {
    "execution": {
     "iopub.execute_input": "2021-07-29T14:51:38.593699Z",
     "iopub.status.busy": "2021-07-29T14:51:38.593094Z",
     "iopub.status.idle": "2021-07-29T14:51:38.598609Z",
     "shell.execute_reply": "2021-07-29T14:51:38.599089Z"
    },
    "papermill": {
     "duration": 0.100677,
     "end_time": "2021-07-29T14:51:38.599271",
     "exception": false,
     "start_time": "2021-07-29T14:51:38.498594",
     "status": "completed"
    },
    "tags": []
   },
   "outputs": [
    {
     "data": {
      "text/plain": [
       "pandas._libs.tslibs.timestamps.Timestamp"
      ]
     },
     "execution_count": 52,
     "metadata": {},
     "output_type": "execute_result"
    }
   ],
   "source": [
    "type(clean_twitter_archive['timestamp'][0])"
   ]
  },
  {
   "cell_type": "markdown",
   "id": "e0947243",
   "metadata": {
    "papermill": {
     "duration": 0.092185,
     "end_time": "2021-07-29T14:51:38.783115",
     "exception": false,
     "start_time": "2021-07-29T14:51:38.690930",
     "status": "completed"
    },
    "tags": []
   },
   "source": [
    "## issue_9,10.11\n",
    "- Quality :\n",
    "  - retweeted_status_id  should be removed\n",
    "  - retweeted_status_user_id should be removed \n",
    "  - retweeted_status_timestamp should be removed \n",
    "  - in_reply_to_status_id should be removed\n",
    "  - in_reply_to_user_id should be removed\n",
    "  - expanded_urls should be removed\n",
    "  - source should removed"
   ]
  },
  {
   "cell_type": "markdown",
   "id": "e6393d89",
   "metadata": {
    "papermill": {
     "duration": 0.092297,
     "end_time": "2021-07-29T14:51:38.967862",
     "exception": false,
     "start_time": "2021-07-29T14:51:38.875565",
     "status": "completed"
    },
    "tags": []
   },
   "source": [
    "#### .Define\n",
    "- remove this columns using the drop method"
   ]
  },
  {
   "cell_type": "markdown",
   "id": "11a64838",
   "metadata": {
    "papermill": {
     "duration": 0.092279,
     "end_time": "2021-07-29T14:51:39.153535",
     "exception": false,
     "start_time": "2021-07-29T14:51:39.061256",
     "status": "completed"
    },
    "tags": []
   },
   "source": [
    "#### .Code "
   ]
  },
  {
   "cell_type": "code",
   "execution_count": 53,
   "id": "ab7cd28a",
   "metadata": {
    "execution": {
     "iopub.execute_input": "2021-07-29T14:51:39.342596Z",
     "iopub.status.busy": "2021-07-29T14:51:39.341623Z",
     "iopub.status.idle": "2021-07-29T14:51:39.347599Z",
     "shell.execute_reply": "2021-07-29T14:51:39.348088Z"
    },
    "papermill": {
     "duration": 0.101672,
     "end_time": "2021-07-29T14:51:39.348269",
     "exception": false,
     "start_time": "2021-07-29T14:51:39.246597",
     "status": "completed"
    },
    "tags": []
   },
   "outputs": [],
   "source": [
    "clean_twitter_archive = clean_twitter_archive.drop(columns=['retweeted_status_id' , 'retweeted_status_user_id' , 'retweeted_status_timestamp', 'in_reply_to_status_id', 'in_reply_to_user_id', 'expanded_urls', 'source'])"
   ]
  },
  {
   "cell_type": "markdown",
   "id": "82513348",
   "metadata": {
    "papermill": {
     "duration": 0.091384,
     "end_time": "2021-07-29T14:51:39.531141",
     "exception": false,
     "start_time": "2021-07-29T14:51:39.439757",
     "status": "completed"
    },
    "tags": []
   },
   "source": [
    "#### .Test"
   ]
  },
  {
   "cell_type": "code",
   "execution_count": 54,
   "id": "131f790e",
   "metadata": {
    "execution": {
     "iopub.execute_input": "2021-07-29T14:51:39.718647Z",
     "iopub.status.busy": "2021-07-29T14:51:39.717696Z",
     "iopub.status.idle": "2021-07-29T14:51:39.736079Z",
     "shell.execute_reply": "2021-07-29T14:51:39.736745Z"
    },
    "papermill": {
     "duration": 0.11369,
     "end_time": "2021-07-29T14:51:39.736976",
     "exception": false,
     "start_time": "2021-07-29T14:51:39.623286",
     "status": "completed"
    },
    "tags": []
   },
   "outputs": [
    {
     "name": "stdout",
     "output_type": "stream",
     "text": [
      "<class 'pandas.core.frame.DataFrame'>\n",
      "Int64Index: 2076 entries, 0 to 2355\n",
      "Data columns (total 22 columns):\n",
      " #   Column              Non-Null Count  Dtype              \n",
      "---  ------              --------------  -----              \n",
      " 0   tweet_id            2076 non-null   object             \n",
      " 1   timestamp           2076 non-null   datetime64[ns, UTC]\n",
      " 2   text                2076 non-null   object             \n",
      " 3   rating_numerator    2076 non-null   int64              \n",
      " 4   rating_denominator  2076 non-null   int64              \n",
      " 5   name                2076 non-null   object             \n",
      " 6   jpg_url             1950 non-null   object             \n",
      " 7   img_num             1950 non-null   float64            \n",
      " 8   p1                  1950 non-null   object             \n",
      " 9   p1_conf             1950 non-null   float64            \n",
      " 10  p1_dog              1950 non-null   object             \n",
      " 11  p2                  1950 non-null   object             \n",
      " 12  p2_conf             1950 non-null   float64            \n",
      " 13  p2_dog              1950 non-null   object             \n",
      " 14  p3                  1950 non-null   object             \n",
      " 15  p3_conf             1950 non-null   float64            \n",
      " 16  p3_dog              1950 non-null   object             \n",
      " 17  retweet_count       2076 non-null   float64            \n",
      " 18  favorite_count      2076 non-null   float64            \n",
      " 19  stages              335 non-null    object             \n",
      " 20  pattern             2076 non-null   object             \n",
      " 21  fraction            2076 non-null   object             \n",
      "dtypes: datetime64[ns, UTC](1), float64(6), int64(2), object(13)\n",
      "memory usage: 437.6+ KB\n"
     ]
    }
   ],
   "source": [
    "clean_twitter_archive.info();"
   ]
  },
  {
   "cell_type": "markdown",
   "id": "c778ace6",
   "metadata": {
    "papermill": {
     "duration": 0.092528,
     "end_time": "2021-07-29T14:51:39.922327",
     "exception": false,
     "start_time": "2021-07-29T14:51:39.829799",
     "status": "completed"
    },
    "tags": []
   },
   "source": [
    "## issue_12\n",
    "- Quality : Nulls represented as (none) in name column  "
   ]
  },
  {
   "cell_type": "markdown",
   "id": "b3e519c5",
   "metadata": {
    "papermill": {
     "duration": 0.092725,
     "end_time": "2021-07-29T14:51:40.109141",
     "exception": false,
     "start_time": "2021-07-29T14:51:40.016416",
     "status": "completed"
    },
    "tags": []
   },
   "source": [
    "#### .Define\n",
    "- replace this values with nulls using replace method and the numpy nan method "
   ]
  },
  {
   "cell_type": "markdown",
   "id": "deb20b96",
   "metadata": {
    "papermill": {
     "duration": 0.09753,
     "end_time": "2021-07-29T14:51:40.300167",
     "exception": false,
     "start_time": "2021-07-29T14:51:40.202637",
     "status": "completed"
    },
    "tags": []
   },
   "source": [
    "#### .Code "
   ]
  },
  {
   "cell_type": "code",
   "execution_count": 55,
   "id": "1f7c3a26",
   "metadata": {
    "execution": {
     "iopub.execute_input": "2021-07-29T14:51:40.506133Z",
     "iopub.status.busy": "2021-07-29T14:51:40.505188Z",
     "iopub.status.idle": "2021-07-29T14:51:40.518533Z",
     "shell.execute_reply": "2021-07-29T14:51:40.519067Z"
    },
    "papermill": {
     "duration": 0.113131,
     "end_time": "2021-07-29T14:51:40.519271",
     "exception": false,
     "start_time": "2021-07-29T14:51:40.406140",
     "status": "completed"
    },
    "tags": []
   },
   "outputs": [],
   "source": [
    "clean_twitter_archive.name = twitter_archive_enhanced.name.replace(\"None\", value = np.nan )"
   ]
  },
  {
   "cell_type": "markdown",
   "id": "29eddad7",
   "metadata": {
    "papermill": {
     "duration": 0.101741,
     "end_time": "2021-07-29T14:51:40.725321",
     "exception": false,
     "start_time": "2021-07-29T14:51:40.623580",
     "status": "completed"
    },
    "tags": []
   },
   "source": [
    "#### .Test"
   ]
  },
  {
   "cell_type": "code",
   "execution_count": 56,
   "id": "34425799",
   "metadata": {
    "execution": {
     "iopub.execute_input": "2021-07-29T14:51:40.916149Z",
     "iopub.status.busy": "2021-07-29T14:51:40.915166Z",
     "iopub.status.idle": "2021-07-29T14:51:40.921848Z",
     "shell.execute_reply": "2021-07-29T14:51:40.922469Z"
    },
    "papermill": {
     "duration": 0.104121,
     "end_time": "2021-07-29T14:51:40.922641",
     "exception": false,
     "start_time": "2021-07-29T14:51:40.818520",
     "status": "completed"
    },
    "tags": []
   },
   "outputs": [
    {
     "data": {
      "text/plain": [
       "591"
      ]
     },
     "execution_count": 56,
     "metadata": {},
     "output_type": "execute_result"
    }
   ],
   "source": [
    "clean_twitter_archive.name.isnull().sum()"
   ]
  },
  {
   "cell_type": "markdown",
   "id": "b7a3356e",
   "metadata": {
    "papermill": {
     "duration": 0.097455,
     "end_time": "2021-07-29T14:51:41.114028",
     "exception": false,
     "start_time": "2021-07-29T14:51:41.016573",
     "status": "completed"
    },
    "tags": []
   },
   "source": [
    "## issue_13\n",
    "- Quality : names p columns have some upper letter and some lower letter  \n"
   ]
  },
  {
   "cell_type": "markdown",
   "id": "8ccf9f48",
   "metadata": {
    "papermill": {
     "duration": 0.094158,
     "end_time": "2021-07-29T14:51:41.303758",
     "exception": false,
     "start_time": "2021-07-29T14:51:41.209600",
     "status": "completed"
    },
    "tags": []
   },
   "source": [
    "#### .Define\n",
    "- make letters capital with title method "
   ]
  },
  {
   "cell_type": "markdown",
   "id": "26e63eab",
   "metadata": {
    "papermill": {
     "duration": 0.092521,
     "end_time": "2021-07-29T14:51:41.489708",
     "exception": false,
     "start_time": "2021-07-29T14:51:41.397187",
     "status": "completed"
    },
    "tags": []
   },
   "source": [
    "#### .Code "
   ]
  },
  {
   "cell_type": "code",
   "execution_count": 57,
   "id": "51b0d682",
   "metadata": {
    "execution": {
     "iopub.execute_input": "2021-07-29T14:51:41.678996Z",
     "iopub.status.busy": "2021-07-29T14:51:41.678013Z",
     "iopub.status.idle": "2021-07-29T14:51:41.689783Z",
     "shell.execute_reply": "2021-07-29T14:51:41.690357Z"
    },
    "papermill": {
     "duration": 0.107942,
     "end_time": "2021-07-29T14:51:41.690549",
     "exception": false,
     "start_time": "2021-07-29T14:51:41.582607",
     "status": "completed"
    },
    "tags": []
   },
   "outputs": [],
   "source": [
    "clean_twitter_archive.p1 = clean_twitter_archive.p1.str.title()\n",
    "clean_twitter_archive.p2 = clean_twitter_archive.p2.str.title()\n",
    "clean_twitter_archive.p3 = clean_twitter_archive.p3.str.title()"
   ]
  },
  {
   "cell_type": "markdown",
   "id": "cf9601f9",
   "metadata": {
    "papermill": {
     "duration": 0.092683,
     "end_time": "2021-07-29T14:51:41.875943",
     "exception": false,
     "start_time": "2021-07-29T14:51:41.783260",
     "status": "completed"
    },
    "tags": []
   },
   "source": [
    "#### .Test\n"
   ]
  },
  {
   "cell_type": "code",
   "execution_count": 58,
   "id": "18f3689b",
   "metadata": {
    "execution": {
     "iopub.execute_input": "2021-07-29T14:51:42.066612Z",
     "iopub.status.busy": "2021-07-29T14:51:42.065646Z",
     "iopub.status.idle": "2021-07-29T14:51:42.100466Z",
     "shell.execute_reply": "2021-07-29T14:51:42.099860Z"
    },
    "papermill": {
     "duration": 0.13182,
     "end_time": "2021-07-29T14:51:42.100608",
     "exception": false,
     "start_time": "2021-07-29T14:51:41.968788",
     "status": "completed"
    },
    "tags": []
   },
   "outputs": [
    {
     "data": {
      "text/html": [
       "<div>\n",
       "<style scoped>\n",
       "    .dataframe tbody tr th:only-of-type {\n",
       "        vertical-align: middle;\n",
       "    }\n",
       "\n",
       "    .dataframe tbody tr th {\n",
       "        vertical-align: top;\n",
       "    }\n",
       "\n",
       "    .dataframe thead th {\n",
       "        text-align: right;\n",
       "    }\n",
       "</style>\n",
       "<table border=\"1\" class=\"dataframe\">\n",
       "  <thead>\n",
       "    <tr style=\"text-align: right;\">\n",
       "      <th></th>\n",
       "      <th>tweet_id</th>\n",
       "      <th>timestamp</th>\n",
       "      <th>text</th>\n",
       "      <th>rating_numerator</th>\n",
       "      <th>rating_denominator</th>\n",
       "      <th>name</th>\n",
       "      <th>jpg_url</th>\n",
       "      <th>img_num</th>\n",
       "      <th>p1</th>\n",
       "      <th>p1_conf</th>\n",
       "      <th>...</th>\n",
       "      <th>p2_conf</th>\n",
       "      <th>p2_dog</th>\n",
       "      <th>p3</th>\n",
       "      <th>p3_conf</th>\n",
       "      <th>p3_dog</th>\n",
       "      <th>retweet_count</th>\n",
       "      <th>favorite_count</th>\n",
       "      <th>stages</th>\n",
       "      <th>pattern</th>\n",
       "      <th>fraction</th>\n",
       "    </tr>\n",
       "  </thead>\n",
       "  <tbody>\n",
       "    <tr>\n",
       "      <th>0</th>\n",
       "      <td>892420643555336193</td>\n",
       "      <td>2017-08-01 16:23:56+00:00</td>\n",
       "      <td>This is Phineas. He's a mystical boy. Only eve...</td>\n",
       "      <td>13</td>\n",
       "      <td>10</td>\n",
       "      <td>Phineas</td>\n",
       "      <td>https://pbs.twimg.com/media/DGKD1-bXoAAIAUK.jpg</td>\n",
       "      <td>1.0</td>\n",
       "      <td>Orange</td>\n",
       "      <td>0.097049</td>\n",
       "      <td>...</td>\n",
       "      <td>0.085851</td>\n",
       "      <td>False</td>\n",
       "      <td>Banana</td>\n",
       "      <td>0.076110</td>\n",
       "      <td>False</td>\n",
       "      <td>8853.0</td>\n",
       "      <td>39467.0</td>\n",
       "      <td>NaN</td>\n",
       "      <td>13/10</td>\n",
       "      <td>13/10</td>\n",
       "    </tr>\n",
       "    <tr>\n",
       "      <th>1</th>\n",
       "      <td>892177421306343426</td>\n",
       "      <td>2017-08-01 00:17:27+00:00</td>\n",
       "      <td>This is Tilly. She's just checking pup on you....</td>\n",
       "      <td>13</td>\n",
       "      <td>10</td>\n",
       "      <td>Tilly</td>\n",
       "      <td>https://pbs.twimg.com/media/DGGmoV4XsAAUL6n.jpg</td>\n",
       "      <td>1.0</td>\n",
       "      <td>Chihuahua</td>\n",
       "      <td>0.323581</td>\n",
       "      <td>...</td>\n",
       "      <td>0.090647</td>\n",
       "      <td>True</td>\n",
       "      <td>Papillon</td>\n",
       "      <td>0.068957</td>\n",
       "      <td>True</td>\n",
       "      <td>6514.0</td>\n",
       "      <td>33819.0</td>\n",
       "      <td>NaN</td>\n",
       "      <td>13/10</td>\n",
       "      <td>13/10</td>\n",
       "    </tr>\n",
       "    <tr>\n",
       "      <th>2</th>\n",
       "      <td>891815181378084864</td>\n",
       "      <td>2017-07-31 00:18:03+00:00</td>\n",
       "      <td>This is Archie. He is a rare Norwegian Pouncin...</td>\n",
       "      <td>12</td>\n",
       "      <td>10</td>\n",
       "      <td>Archie</td>\n",
       "      <td>https://pbs.twimg.com/media/DGBdLU1WsAANxJ9.jpg</td>\n",
       "      <td>1.0</td>\n",
       "      <td>Chihuahua</td>\n",
       "      <td>0.716012</td>\n",
       "      <td>...</td>\n",
       "      <td>0.078253</td>\n",
       "      <td>True</td>\n",
       "      <td>Kelpie</td>\n",
       "      <td>0.031379</td>\n",
       "      <td>True</td>\n",
       "      <td>4328.0</td>\n",
       "      <td>25461.0</td>\n",
       "      <td>NaN</td>\n",
       "      <td>12/10</td>\n",
       "      <td>12/10</td>\n",
       "    </tr>\n",
       "    <tr>\n",
       "      <th>3</th>\n",
       "      <td>891689557279858688</td>\n",
       "      <td>2017-07-30 15:58:51+00:00</td>\n",
       "      <td>This is Darla. She commenced a snooze mid meal...</td>\n",
       "      <td>13</td>\n",
       "      <td>10</td>\n",
       "      <td>Darla</td>\n",
       "      <td>https://pbs.twimg.com/media/DF_q7IAWsAEuuN8.jpg</td>\n",
       "      <td>1.0</td>\n",
       "      <td>Paper_Towel</td>\n",
       "      <td>0.170278</td>\n",
       "      <td>...</td>\n",
       "      <td>0.168086</td>\n",
       "      <td>True</td>\n",
       "      <td>Spatula</td>\n",
       "      <td>0.040836</td>\n",
       "      <td>False</td>\n",
       "      <td>8964.0</td>\n",
       "      <td>42908.0</td>\n",
       "      <td>NaN</td>\n",
       "      <td>13/10</td>\n",
       "      <td>13/10</td>\n",
       "    </tr>\n",
       "    <tr>\n",
       "      <th>4</th>\n",
       "      <td>891327558926688256</td>\n",
       "      <td>2017-07-29 16:00:24+00:00</td>\n",
       "      <td>This is Franklin. He would like you to stop ca...</td>\n",
       "      <td>12</td>\n",
       "      <td>10</td>\n",
       "      <td>Franklin</td>\n",
       "      <td>https://pbs.twimg.com/media/DF6hr6BUMAAzZgT.jpg</td>\n",
       "      <td>2.0</td>\n",
       "      <td>Basset</td>\n",
       "      <td>0.555712</td>\n",
       "      <td>...</td>\n",
       "      <td>0.225770</td>\n",
       "      <td>True</td>\n",
       "      <td>German_Short-Haired_Pointer</td>\n",
       "      <td>0.175219</td>\n",
       "      <td>True</td>\n",
       "      <td>9774.0</td>\n",
       "      <td>41048.0</td>\n",
       "      <td>NaN</td>\n",
       "      <td>12/10</td>\n",
       "      <td>12/10</td>\n",
       "    </tr>\n",
       "  </tbody>\n",
       "</table>\n",
       "<p>5 rows × 22 columns</p>\n",
       "</div>"
      ],
      "text/plain": [
       "             tweet_id                 timestamp  \\\n",
       "0  892420643555336193 2017-08-01 16:23:56+00:00   \n",
       "1  892177421306343426 2017-08-01 00:17:27+00:00   \n",
       "2  891815181378084864 2017-07-31 00:18:03+00:00   \n",
       "3  891689557279858688 2017-07-30 15:58:51+00:00   \n",
       "4  891327558926688256 2017-07-29 16:00:24+00:00   \n",
       "\n",
       "                                                text  rating_numerator  \\\n",
       "0  This is Phineas. He's a mystical boy. Only eve...                13   \n",
       "1  This is Tilly. She's just checking pup on you....                13   \n",
       "2  This is Archie. He is a rare Norwegian Pouncin...                12   \n",
       "3  This is Darla. She commenced a snooze mid meal...                13   \n",
       "4  This is Franklin. He would like you to stop ca...                12   \n",
       "\n",
       "   rating_denominator      name  \\\n",
       "0                  10   Phineas   \n",
       "1                  10     Tilly   \n",
       "2                  10    Archie   \n",
       "3                  10     Darla   \n",
       "4                  10  Franklin   \n",
       "\n",
       "                                           jpg_url  img_num           p1  \\\n",
       "0  https://pbs.twimg.com/media/DGKD1-bXoAAIAUK.jpg      1.0       Orange   \n",
       "1  https://pbs.twimg.com/media/DGGmoV4XsAAUL6n.jpg      1.0    Chihuahua   \n",
       "2  https://pbs.twimg.com/media/DGBdLU1WsAANxJ9.jpg      1.0    Chihuahua   \n",
       "3  https://pbs.twimg.com/media/DF_q7IAWsAEuuN8.jpg      1.0  Paper_Towel   \n",
       "4  https://pbs.twimg.com/media/DF6hr6BUMAAzZgT.jpg      2.0       Basset   \n",
       "\n",
       "    p1_conf  ...   p2_conf p2_dog                           p3   p3_conf  \\\n",
       "0  0.097049  ...  0.085851  False                       Banana  0.076110   \n",
       "1  0.323581  ...  0.090647   True                     Papillon  0.068957   \n",
       "2  0.716012  ...  0.078253   True                       Kelpie  0.031379   \n",
       "3  0.170278  ...  0.168086   True                      Spatula  0.040836   \n",
       "4  0.555712  ...  0.225770   True  German_Short-Haired_Pointer  0.175219   \n",
       "\n",
       "  p3_dog  retweet_count favorite_count  stages  pattern fraction  \n",
       "0  False         8853.0        39467.0     NaN    13/10    13/10  \n",
       "1   True         6514.0        33819.0     NaN    13/10    13/10  \n",
       "2   True         4328.0        25461.0     NaN    12/10    12/10  \n",
       "3  False         8964.0        42908.0     NaN    13/10    13/10  \n",
       "4   True         9774.0        41048.0     NaN    12/10    12/10  \n",
       "\n",
       "[5 rows x 22 columns]"
      ]
     },
     "execution_count": 58,
     "metadata": {},
     "output_type": "execute_result"
    }
   ],
   "source": [
    "clean_twitter_archive.head()"
   ]
  },
  {
   "cell_type": "markdown",
   "id": "65e862fc",
   "metadata": {
    "papermill": {
     "duration": 0.09334,
     "end_time": "2021-07-29T14:51:42.288312",
     "exception": false,
     "start_time": "2021-07-29T14:51:42.194972",
     "status": "completed"
    },
    "tags": []
   },
   "source": [
    "## issue_14\n",
    "- in columns \"confg\" should be configration"
   ]
  },
  {
   "cell_type": "markdown",
   "id": "fa4bad6d",
   "metadata": {
    "papermill": {
     "duration": 0.093061,
     "end_time": "2021-07-29T14:51:42.475741",
     "exception": false,
     "start_time": "2021-07-29T14:51:42.382680",
     "status": "completed"
    },
    "tags": []
   },
   "source": [
    "#### .Define\n",
    "- edit the name of the column using the rename method "
   ]
  },
  {
   "cell_type": "markdown",
   "id": "50155066",
   "metadata": {
    "papermill": {
     "duration": 0.09278,
     "end_time": "2021-07-29T14:51:42.661815",
     "exception": false,
     "start_time": "2021-07-29T14:51:42.569035",
     "status": "completed"
    },
    "tags": []
   },
   "source": [
    "#### .Code \n"
   ]
  },
  {
   "cell_type": "code",
   "execution_count": 59,
   "id": "faecf916",
   "metadata": {
    "execution": {
     "iopub.execute_input": "2021-07-29T14:51:42.856904Z",
     "iopub.status.busy": "2021-07-29T14:51:42.856066Z",
     "iopub.status.idle": "2021-07-29T14:51:42.859116Z",
     "shell.execute_reply": "2021-07-29T14:51:42.858499Z"
    },
    "papermill": {
     "duration": 0.104267,
     "end_time": "2021-07-29T14:51:42.859272",
     "exception": false,
     "start_time": "2021-07-29T14:51:42.755005",
     "status": "completed"
    },
    "tags": []
   },
   "outputs": [],
   "source": [
    "clean_twitter_archive.rename(columns={'p1_confident': 'p1_configration'}, inplace=True)\n",
    "clean_twitter_archive.rename(columns={'p2_confident': 'p2_configration'}, inplace=True)\n",
    "clean_twitter_archive.rename(columns={'p3_confident': 'p3_configration'}, inplace=True)"
   ]
  },
  {
   "cell_type": "markdown",
   "id": "8da3be74",
   "metadata": {
    "papermill": {
     "duration": 0.094247,
     "end_time": "2021-07-29T14:51:43.049194",
     "exception": false,
     "start_time": "2021-07-29T14:51:42.954947",
     "status": "completed"
    },
    "tags": []
   },
   "source": [
    "#### .Test\n"
   ]
  },
  {
   "cell_type": "code",
   "execution_count": 60,
   "id": "b1e3ac2d",
   "metadata": {
    "execution": {
     "iopub.execute_input": "2021-07-29T14:51:43.268699Z",
     "iopub.status.busy": "2021-07-29T14:51:43.259021Z",
     "iopub.status.idle": "2021-07-29T14:51:43.273743Z",
     "shell.execute_reply": "2021-07-29T14:51:43.273068Z"
    },
    "papermill": {
     "duration": 0.129422,
     "end_time": "2021-07-29T14:51:43.273925",
     "exception": false,
     "start_time": "2021-07-29T14:51:43.144503",
     "status": "completed"
    },
    "tags": []
   },
   "outputs": [
    {
     "data": {
      "text/html": [
       "<div>\n",
       "<style scoped>\n",
       "    .dataframe tbody tr th:only-of-type {\n",
       "        vertical-align: middle;\n",
       "    }\n",
       "\n",
       "    .dataframe tbody tr th {\n",
       "        vertical-align: top;\n",
       "    }\n",
       "\n",
       "    .dataframe thead th {\n",
       "        text-align: right;\n",
       "    }\n",
       "</style>\n",
       "<table border=\"1\" class=\"dataframe\">\n",
       "  <thead>\n",
       "    <tr style=\"text-align: right;\">\n",
       "      <th></th>\n",
       "      <th>tweet_id</th>\n",
       "      <th>timestamp</th>\n",
       "      <th>text</th>\n",
       "      <th>rating_numerator</th>\n",
       "      <th>rating_denominator</th>\n",
       "      <th>name</th>\n",
       "      <th>jpg_url</th>\n",
       "      <th>img_num</th>\n",
       "      <th>p1</th>\n",
       "      <th>p1_conf</th>\n",
       "      <th>...</th>\n",
       "      <th>p2_conf</th>\n",
       "      <th>p2_dog</th>\n",
       "      <th>p3</th>\n",
       "      <th>p3_conf</th>\n",
       "      <th>p3_dog</th>\n",
       "      <th>retweet_count</th>\n",
       "      <th>favorite_count</th>\n",
       "      <th>stages</th>\n",
       "      <th>pattern</th>\n",
       "      <th>fraction</th>\n",
       "    </tr>\n",
       "  </thead>\n",
       "  <tbody>\n",
       "    <tr>\n",
       "      <th>0</th>\n",
       "      <td>892420643555336193</td>\n",
       "      <td>2017-08-01 16:23:56+00:00</td>\n",
       "      <td>This is Phineas. He's a mystical boy. Only eve...</td>\n",
       "      <td>13</td>\n",
       "      <td>10</td>\n",
       "      <td>Phineas</td>\n",
       "      <td>https://pbs.twimg.com/media/DGKD1-bXoAAIAUK.jpg</td>\n",
       "      <td>1.0</td>\n",
       "      <td>Orange</td>\n",
       "      <td>0.097049</td>\n",
       "      <td>...</td>\n",
       "      <td>0.085851</td>\n",
       "      <td>False</td>\n",
       "      <td>Banana</td>\n",
       "      <td>0.076110</td>\n",
       "      <td>False</td>\n",
       "      <td>8853.0</td>\n",
       "      <td>39467.0</td>\n",
       "      <td>NaN</td>\n",
       "      <td>13/10</td>\n",
       "      <td>13/10</td>\n",
       "    </tr>\n",
       "    <tr>\n",
       "      <th>1</th>\n",
       "      <td>892177421306343426</td>\n",
       "      <td>2017-08-01 00:17:27+00:00</td>\n",
       "      <td>This is Tilly. She's just checking pup on you....</td>\n",
       "      <td>13</td>\n",
       "      <td>10</td>\n",
       "      <td>Tilly</td>\n",
       "      <td>https://pbs.twimg.com/media/DGGmoV4XsAAUL6n.jpg</td>\n",
       "      <td>1.0</td>\n",
       "      <td>Chihuahua</td>\n",
       "      <td>0.323581</td>\n",
       "      <td>...</td>\n",
       "      <td>0.090647</td>\n",
       "      <td>True</td>\n",
       "      <td>Papillon</td>\n",
       "      <td>0.068957</td>\n",
       "      <td>True</td>\n",
       "      <td>6514.0</td>\n",
       "      <td>33819.0</td>\n",
       "      <td>NaN</td>\n",
       "      <td>13/10</td>\n",
       "      <td>13/10</td>\n",
       "    </tr>\n",
       "    <tr>\n",
       "      <th>2</th>\n",
       "      <td>891815181378084864</td>\n",
       "      <td>2017-07-31 00:18:03+00:00</td>\n",
       "      <td>This is Archie. He is a rare Norwegian Pouncin...</td>\n",
       "      <td>12</td>\n",
       "      <td>10</td>\n",
       "      <td>Archie</td>\n",
       "      <td>https://pbs.twimg.com/media/DGBdLU1WsAANxJ9.jpg</td>\n",
       "      <td>1.0</td>\n",
       "      <td>Chihuahua</td>\n",
       "      <td>0.716012</td>\n",
       "      <td>...</td>\n",
       "      <td>0.078253</td>\n",
       "      <td>True</td>\n",
       "      <td>Kelpie</td>\n",
       "      <td>0.031379</td>\n",
       "      <td>True</td>\n",
       "      <td>4328.0</td>\n",
       "      <td>25461.0</td>\n",
       "      <td>NaN</td>\n",
       "      <td>12/10</td>\n",
       "      <td>12/10</td>\n",
       "    </tr>\n",
       "    <tr>\n",
       "      <th>3</th>\n",
       "      <td>891689557279858688</td>\n",
       "      <td>2017-07-30 15:58:51+00:00</td>\n",
       "      <td>This is Darla. She commenced a snooze mid meal...</td>\n",
       "      <td>13</td>\n",
       "      <td>10</td>\n",
       "      <td>Darla</td>\n",
       "      <td>https://pbs.twimg.com/media/DF_q7IAWsAEuuN8.jpg</td>\n",
       "      <td>1.0</td>\n",
       "      <td>Paper_Towel</td>\n",
       "      <td>0.170278</td>\n",
       "      <td>...</td>\n",
       "      <td>0.168086</td>\n",
       "      <td>True</td>\n",
       "      <td>Spatula</td>\n",
       "      <td>0.040836</td>\n",
       "      <td>False</td>\n",
       "      <td>8964.0</td>\n",
       "      <td>42908.0</td>\n",
       "      <td>NaN</td>\n",
       "      <td>13/10</td>\n",
       "      <td>13/10</td>\n",
       "    </tr>\n",
       "    <tr>\n",
       "      <th>4</th>\n",
       "      <td>891327558926688256</td>\n",
       "      <td>2017-07-29 16:00:24+00:00</td>\n",
       "      <td>This is Franklin. He would like you to stop ca...</td>\n",
       "      <td>12</td>\n",
       "      <td>10</td>\n",
       "      <td>Franklin</td>\n",
       "      <td>https://pbs.twimg.com/media/DF6hr6BUMAAzZgT.jpg</td>\n",
       "      <td>2.0</td>\n",
       "      <td>Basset</td>\n",
       "      <td>0.555712</td>\n",
       "      <td>...</td>\n",
       "      <td>0.225770</td>\n",
       "      <td>True</td>\n",
       "      <td>German_Short-Haired_Pointer</td>\n",
       "      <td>0.175219</td>\n",
       "      <td>True</td>\n",
       "      <td>9774.0</td>\n",
       "      <td>41048.0</td>\n",
       "      <td>NaN</td>\n",
       "      <td>12/10</td>\n",
       "      <td>12/10</td>\n",
       "    </tr>\n",
       "  </tbody>\n",
       "</table>\n",
       "<p>5 rows × 22 columns</p>\n",
       "</div>"
      ],
      "text/plain": [
       "             tweet_id                 timestamp  \\\n",
       "0  892420643555336193 2017-08-01 16:23:56+00:00   \n",
       "1  892177421306343426 2017-08-01 00:17:27+00:00   \n",
       "2  891815181378084864 2017-07-31 00:18:03+00:00   \n",
       "3  891689557279858688 2017-07-30 15:58:51+00:00   \n",
       "4  891327558926688256 2017-07-29 16:00:24+00:00   \n",
       "\n",
       "                                                text  rating_numerator  \\\n",
       "0  This is Phineas. He's a mystical boy. Only eve...                13   \n",
       "1  This is Tilly. She's just checking pup on you....                13   \n",
       "2  This is Archie. He is a rare Norwegian Pouncin...                12   \n",
       "3  This is Darla. She commenced a snooze mid meal...                13   \n",
       "4  This is Franklin. He would like you to stop ca...                12   \n",
       "\n",
       "   rating_denominator      name  \\\n",
       "0                  10   Phineas   \n",
       "1                  10     Tilly   \n",
       "2                  10    Archie   \n",
       "3                  10     Darla   \n",
       "4                  10  Franklin   \n",
       "\n",
       "                                           jpg_url  img_num           p1  \\\n",
       "0  https://pbs.twimg.com/media/DGKD1-bXoAAIAUK.jpg      1.0       Orange   \n",
       "1  https://pbs.twimg.com/media/DGGmoV4XsAAUL6n.jpg      1.0    Chihuahua   \n",
       "2  https://pbs.twimg.com/media/DGBdLU1WsAANxJ9.jpg      1.0    Chihuahua   \n",
       "3  https://pbs.twimg.com/media/DF_q7IAWsAEuuN8.jpg      1.0  Paper_Towel   \n",
       "4  https://pbs.twimg.com/media/DF6hr6BUMAAzZgT.jpg      2.0       Basset   \n",
       "\n",
       "    p1_conf  ...   p2_conf p2_dog                           p3   p3_conf  \\\n",
       "0  0.097049  ...  0.085851  False                       Banana  0.076110   \n",
       "1  0.323581  ...  0.090647   True                     Papillon  0.068957   \n",
       "2  0.716012  ...  0.078253   True                       Kelpie  0.031379   \n",
       "3  0.170278  ...  0.168086   True                      Spatula  0.040836   \n",
       "4  0.555712  ...  0.225770   True  German_Short-Haired_Pointer  0.175219   \n",
       "\n",
       "  p3_dog  retweet_count favorite_count  stages  pattern fraction  \n",
       "0  False         8853.0        39467.0     NaN    13/10    13/10  \n",
       "1   True         6514.0        33819.0     NaN    13/10    13/10  \n",
       "2   True         4328.0        25461.0     NaN    12/10    12/10  \n",
       "3  False         8964.0        42908.0     NaN    13/10    13/10  \n",
       "4   True         9774.0        41048.0     NaN    12/10    12/10  \n",
       "\n",
       "[5 rows x 22 columns]"
      ]
     },
     "execution_count": 60,
     "metadata": {},
     "output_type": "execute_result"
    }
   ],
   "source": [
    "clean_twitter_archive.head()"
   ]
  },
  {
   "cell_type": "markdown",
   "id": "25de8102",
   "metadata": {
    "papermill": {
     "duration": 0.093704,
     "end_time": "2021-07-29T14:51:43.462155",
     "exception": false,
     "start_time": "2021-07-29T14:51:43.368451",
     "status": "completed"
    },
    "tags": []
   },
   "source": [
    "# 3.0 Storing_Data"
   ]
  },
  {
   "cell_type": "code",
   "execution_count": 61,
   "id": "328ea687",
   "metadata": {
    "execution": {
     "iopub.execute_input": "2021-07-29T14:51:43.655646Z",
     "iopub.status.busy": "2021-07-29T14:51:43.654822Z",
     "iopub.status.idle": "2021-07-29T14:51:43.752189Z",
     "shell.execute_reply": "2021-07-29T14:51:43.752764Z"
    },
    "papermill": {
     "duration": 0.196671,
     "end_time": "2021-07-29T14:51:43.752941",
     "exception": false,
     "start_time": "2021-07-29T14:51:43.556270",
     "status": "completed"
    },
    "tags": []
   },
   "outputs": [],
   "source": [
    "clean_twitter_archive.to_csv('C:\\\\Users\\\\Muhammad Abdullahi\\\\Downloads\\\\twitter_archive_master.csv', index=False)"
   ]
  },
  {
   "cell_type": "markdown",
   "id": "7a59c83b",
   "metadata": {
    "papermill": {
     "duration": 0.096317,
     "end_time": "2021-07-29T14:51:43.943008",
     "exception": false,
     "start_time": "2021-07-29T14:51:43.846691",
     "status": "completed"
    },
    "tags": []
   },
   "source": [
    "# 4.0 Analyzing, and Visualizing_Data"
   ]
  },
  {
   "cell_type": "code",
   "execution_count": 62,
   "id": "a26b1502",
   "metadata": {
    "execution": {
     "iopub.execute_input": "2021-07-29T14:51:44.136408Z",
     "iopub.status.busy": "2021-07-29T14:51:44.135410Z",
     "iopub.status.idle": "2021-07-29T14:51:44.186269Z",
     "shell.execute_reply": "2021-07-29T14:51:44.185749Z"
    },
    "papermill": {
     "duration": 0.149007,
     "end_time": "2021-07-29T14:51:44.186413",
     "exception": false,
     "start_time": "2021-07-29T14:51:44.037406",
     "status": "completed"
    },
    "tags": []
   },
   "outputs": [
    {
     "data": {
      "text/html": [
       "<div>\n",
       "<style scoped>\n",
       "    .dataframe tbody tr th:only-of-type {\n",
       "        vertical-align: middle;\n",
       "    }\n",
       "\n",
       "    .dataframe tbody tr th {\n",
       "        vertical-align: top;\n",
       "    }\n",
       "\n",
       "    .dataframe thead th {\n",
       "        text-align: right;\n",
       "    }\n",
       "</style>\n",
       "<table border=\"1\" class=\"dataframe\">\n",
       "  <thead>\n",
       "    <tr style=\"text-align: right;\">\n",
       "      <th></th>\n",
       "      <th>tweet_id</th>\n",
       "      <th>timestamp</th>\n",
       "      <th>text</th>\n",
       "      <th>rating_numerator</th>\n",
       "      <th>rating_denominator</th>\n",
       "      <th>name</th>\n",
       "      <th>jpg_url</th>\n",
       "      <th>img_num</th>\n",
       "      <th>p1</th>\n",
       "      <th>p1_conf</th>\n",
       "      <th>...</th>\n",
       "      <th>p2_conf</th>\n",
       "      <th>p2_dog</th>\n",
       "      <th>p3</th>\n",
       "      <th>p3_conf</th>\n",
       "      <th>p3_dog</th>\n",
       "      <th>retweet_count</th>\n",
       "      <th>favorite_count</th>\n",
       "      <th>stages</th>\n",
       "      <th>pattern</th>\n",
       "      <th>fraction</th>\n",
       "    </tr>\n",
       "  </thead>\n",
       "  <tbody>\n",
       "    <tr>\n",
       "      <th>0</th>\n",
       "      <td>892420643555336193</td>\n",
       "      <td>2017-08-01 16:23:56+00:00</td>\n",
       "      <td>This is Phineas. He's a mystical boy. Only eve...</td>\n",
       "      <td>13</td>\n",
       "      <td>10</td>\n",
       "      <td>Phineas</td>\n",
       "      <td>https://pbs.twimg.com/media/DGKD1-bXoAAIAUK.jpg</td>\n",
       "      <td>1.0</td>\n",
       "      <td>Orange</td>\n",
       "      <td>0.097049</td>\n",
       "      <td>...</td>\n",
       "      <td>0.085851</td>\n",
       "      <td>False</td>\n",
       "      <td>Banana</td>\n",
       "      <td>0.076110</td>\n",
       "      <td>False</td>\n",
       "      <td>8853.0</td>\n",
       "      <td>39467.0</td>\n",
       "      <td>NaN</td>\n",
       "      <td>13/10</td>\n",
       "      <td>13/10</td>\n",
       "    </tr>\n",
       "    <tr>\n",
       "      <th>1</th>\n",
       "      <td>892177421306343426</td>\n",
       "      <td>2017-08-01 00:17:27+00:00</td>\n",
       "      <td>This is Tilly. She's just checking pup on you....</td>\n",
       "      <td>13</td>\n",
       "      <td>10</td>\n",
       "      <td>Tilly</td>\n",
       "      <td>https://pbs.twimg.com/media/DGGmoV4XsAAUL6n.jpg</td>\n",
       "      <td>1.0</td>\n",
       "      <td>Chihuahua</td>\n",
       "      <td>0.323581</td>\n",
       "      <td>...</td>\n",
       "      <td>0.090647</td>\n",
       "      <td>True</td>\n",
       "      <td>Papillon</td>\n",
       "      <td>0.068957</td>\n",
       "      <td>True</td>\n",
       "      <td>6514.0</td>\n",
       "      <td>33819.0</td>\n",
       "      <td>NaN</td>\n",
       "      <td>13/10</td>\n",
       "      <td>13/10</td>\n",
       "    </tr>\n",
       "    <tr>\n",
       "      <th>2</th>\n",
       "      <td>891815181378084864</td>\n",
       "      <td>2017-07-31 00:18:03+00:00</td>\n",
       "      <td>This is Archie. He is a rare Norwegian Pouncin...</td>\n",
       "      <td>12</td>\n",
       "      <td>10</td>\n",
       "      <td>Archie</td>\n",
       "      <td>https://pbs.twimg.com/media/DGBdLU1WsAANxJ9.jpg</td>\n",
       "      <td>1.0</td>\n",
       "      <td>Chihuahua</td>\n",
       "      <td>0.716012</td>\n",
       "      <td>...</td>\n",
       "      <td>0.078253</td>\n",
       "      <td>True</td>\n",
       "      <td>Kelpie</td>\n",
       "      <td>0.031379</td>\n",
       "      <td>True</td>\n",
       "      <td>4328.0</td>\n",
       "      <td>25461.0</td>\n",
       "      <td>NaN</td>\n",
       "      <td>12/10</td>\n",
       "      <td>12/10</td>\n",
       "    </tr>\n",
       "    <tr>\n",
       "      <th>3</th>\n",
       "      <td>891689557279858688</td>\n",
       "      <td>2017-07-30 15:58:51+00:00</td>\n",
       "      <td>This is Darla. She commenced a snooze mid meal...</td>\n",
       "      <td>13</td>\n",
       "      <td>10</td>\n",
       "      <td>Darla</td>\n",
       "      <td>https://pbs.twimg.com/media/DF_q7IAWsAEuuN8.jpg</td>\n",
       "      <td>1.0</td>\n",
       "      <td>Paper_Towel</td>\n",
       "      <td>0.170278</td>\n",
       "      <td>...</td>\n",
       "      <td>0.168086</td>\n",
       "      <td>True</td>\n",
       "      <td>Spatula</td>\n",
       "      <td>0.040836</td>\n",
       "      <td>False</td>\n",
       "      <td>8964.0</td>\n",
       "      <td>42908.0</td>\n",
       "      <td>NaN</td>\n",
       "      <td>13/10</td>\n",
       "      <td>13/10</td>\n",
       "    </tr>\n",
       "    <tr>\n",
       "      <th>4</th>\n",
       "      <td>891327558926688256</td>\n",
       "      <td>2017-07-29 16:00:24+00:00</td>\n",
       "      <td>This is Franklin. He would like you to stop ca...</td>\n",
       "      <td>12</td>\n",
       "      <td>10</td>\n",
       "      <td>Franklin</td>\n",
       "      <td>https://pbs.twimg.com/media/DF6hr6BUMAAzZgT.jpg</td>\n",
       "      <td>2.0</td>\n",
       "      <td>Basset</td>\n",
       "      <td>0.555712</td>\n",
       "      <td>...</td>\n",
       "      <td>0.225770</td>\n",
       "      <td>True</td>\n",
       "      <td>German_Short-Haired_Pointer</td>\n",
       "      <td>0.175219</td>\n",
       "      <td>True</td>\n",
       "      <td>9774.0</td>\n",
       "      <td>41048.0</td>\n",
       "      <td>NaN</td>\n",
       "      <td>12/10</td>\n",
       "      <td>12/10</td>\n",
       "    </tr>\n",
       "    <tr>\n",
       "      <th>...</th>\n",
       "      <td>...</td>\n",
       "      <td>...</td>\n",
       "      <td>...</td>\n",
       "      <td>...</td>\n",
       "      <td>...</td>\n",
       "      <td>...</td>\n",
       "      <td>...</td>\n",
       "      <td>...</td>\n",
       "      <td>...</td>\n",
       "      <td>...</td>\n",
       "      <td>...</td>\n",
       "      <td>...</td>\n",
       "      <td>...</td>\n",
       "      <td>...</td>\n",
       "      <td>...</td>\n",
       "      <td>...</td>\n",
       "      <td>...</td>\n",
       "      <td>...</td>\n",
       "      <td>...</td>\n",
       "      <td>...</td>\n",
       "      <td>...</td>\n",
       "    </tr>\n",
       "    <tr>\n",
       "      <th>2351</th>\n",
       "      <td>666049248165822465</td>\n",
       "      <td>2015-11-16 00:24:50+00:00</td>\n",
       "      <td>Here we have a 1949 1st generation vulpix. Enj...</td>\n",
       "      <td>5</td>\n",
       "      <td>10</td>\n",
       "      <td>NaN</td>\n",
       "      <td>https://pbs.twimg.com/media/CT5IQmsXIAAKY4A.jpg</td>\n",
       "      <td>1.0</td>\n",
       "      <td>Miniature_Pinscher</td>\n",
       "      <td>0.560311</td>\n",
       "      <td>...</td>\n",
       "      <td>0.243682</td>\n",
       "      <td>True</td>\n",
       "      <td>Doberman</td>\n",
       "      <td>0.154629</td>\n",
       "      <td>True</td>\n",
       "      <td>41.0</td>\n",
       "      <td>111.0</td>\n",
       "      <td>NaN</td>\n",
       "      <td>5/10</td>\n",
       "      <td>5/10</td>\n",
       "    </tr>\n",
       "    <tr>\n",
       "      <th>2352</th>\n",
       "      <td>666044226329800704</td>\n",
       "      <td>2015-11-16 00:04:52+00:00</td>\n",
       "      <td>This is a purebred Piers Morgan. Loves to Netf...</td>\n",
       "      <td>6</td>\n",
       "      <td>10</td>\n",
       "      <td>a</td>\n",
       "      <td>https://pbs.twimg.com/media/CT5Dr8HUEAA-lEu.jpg</td>\n",
       "      <td>1.0</td>\n",
       "      <td>Rhodesian_Ridgeback</td>\n",
       "      <td>0.408143</td>\n",
       "      <td>...</td>\n",
       "      <td>0.360687</td>\n",
       "      <td>True</td>\n",
       "      <td>Miniature_Pinscher</td>\n",
       "      <td>0.222752</td>\n",
       "      <td>True</td>\n",
       "      <td>147.0</td>\n",
       "      <td>311.0</td>\n",
       "      <td>NaN</td>\n",
       "      <td>6/10</td>\n",
       "      <td>6/10</td>\n",
       "    </tr>\n",
       "    <tr>\n",
       "      <th>2353</th>\n",
       "      <td>666033412701032449</td>\n",
       "      <td>2015-11-15 23:21:54+00:00</td>\n",
       "      <td>Here is a very happy pup. Big fan of well-main...</td>\n",
       "      <td>9</td>\n",
       "      <td>10</td>\n",
       "      <td>a</td>\n",
       "      <td>https://pbs.twimg.com/media/CT4521TWwAEvMyu.jpg</td>\n",
       "      <td>1.0</td>\n",
       "      <td>German_Shepherd</td>\n",
       "      <td>0.596461</td>\n",
       "      <td>...</td>\n",
       "      <td>0.138584</td>\n",
       "      <td>True</td>\n",
       "      <td>Bloodhound</td>\n",
       "      <td>0.116197</td>\n",
       "      <td>True</td>\n",
       "      <td>47.0</td>\n",
       "      <td>128.0</td>\n",
       "      <td>NaN</td>\n",
       "      <td>9/10</td>\n",
       "      <td>9/10</td>\n",
       "    </tr>\n",
       "    <tr>\n",
       "      <th>2354</th>\n",
       "      <td>666029285002620928</td>\n",
       "      <td>2015-11-15 23:05:30+00:00</td>\n",
       "      <td>This is a western brown Mitsubishi terrier. Up...</td>\n",
       "      <td>7</td>\n",
       "      <td>10</td>\n",
       "      <td>a</td>\n",
       "      <td>https://pbs.twimg.com/media/CT42GRgUYAA5iDo.jpg</td>\n",
       "      <td>1.0</td>\n",
       "      <td>Redbone</td>\n",
       "      <td>0.506826</td>\n",
       "      <td>...</td>\n",
       "      <td>0.074192</td>\n",
       "      <td>True</td>\n",
       "      <td>Rhodesian_Ridgeback</td>\n",
       "      <td>0.072010</td>\n",
       "      <td>True</td>\n",
       "      <td>48.0</td>\n",
       "      <td>132.0</td>\n",
       "      <td>NaN</td>\n",
       "      <td>7/10</td>\n",
       "      <td>7/10</td>\n",
       "    </tr>\n",
       "    <tr>\n",
       "      <th>2355</th>\n",
       "      <td>666020888022790149</td>\n",
       "      <td>2015-11-15 22:32:08+00:00</td>\n",
       "      <td>Here we have a Japanese Irish Setter. Lost eye...</td>\n",
       "      <td>8</td>\n",
       "      <td>10</td>\n",
       "      <td>NaN</td>\n",
       "      <td>https://pbs.twimg.com/media/CT4udn0WwAA0aMy.jpg</td>\n",
       "      <td>1.0</td>\n",
       "      <td>Welsh_Springer_Spaniel</td>\n",
       "      <td>0.465074</td>\n",
       "      <td>...</td>\n",
       "      <td>0.156665</td>\n",
       "      <td>True</td>\n",
       "      <td>Shetland_Sheepdog</td>\n",
       "      <td>0.061428</td>\n",
       "      <td>True</td>\n",
       "      <td>532.0</td>\n",
       "      <td>2535.0</td>\n",
       "      <td>NaN</td>\n",
       "      <td>8/10</td>\n",
       "      <td>8/10</td>\n",
       "    </tr>\n",
       "  </tbody>\n",
       "</table>\n",
       "<p>2076 rows × 22 columns</p>\n",
       "</div>"
      ],
      "text/plain": [
       "                tweet_id                 timestamp  \\\n",
       "0     892420643555336193 2017-08-01 16:23:56+00:00   \n",
       "1     892177421306343426 2017-08-01 00:17:27+00:00   \n",
       "2     891815181378084864 2017-07-31 00:18:03+00:00   \n",
       "3     891689557279858688 2017-07-30 15:58:51+00:00   \n",
       "4     891327558926688256 2017-07-29 16:00:24+00:00   \n",
       "...                  ...                       ...   \n",
       "2351  666049248165822465 2015-11-16 00:24:50+00:00   \n",
       "2352  666044226329800704 2015-11-16 00:04:52+00:00   \n",
       "2353  666033412701032449 2015-11-15 23:21:54+00:00   \n",
       "2354  666029285002620928 2015-11-15 23:05:30+00:00   \n",
       "2355  666020888022790149 2015-11-15 22:32:08+00:00   \n",
       "\n",
       "                                                   text  rating_numerator  \\\n",
       "0     This is Phineas. He's a mystical boy. Only eve...                13   \n",
       "1     This is Tilly. She's just checking pup on you....                13   \n",
       "2     This is Archie. He is a rare Norwegian Pouncin...                12   \n",
       "3     This is Darla. She commenced a snooze mid meal...                13   \n",
       "4     This is Franklin. He would like you to stop ca...                12   \n",
       "...                                                 ...               ...   \n",
       "2351  Here we have a 1949 1st generation vulpix. Enj...                 5   \n",
       "2352  This is a purebred Piers Morgan. Loves to Netf...                 6   \n",
       "2353  Here is a very happy pup. Big fan of well-main...                 9   \n",
       "2354  This is a western brown Mitsubishi terrier. Up...                 7   \n",
       "2355  Here we have a Japanese Irish Setter. Lost eye...                 8   \n",
       "\n",
       "      rating_denominator      name  \\\n",
       "0                     10   Phineas   \n",
       "1                     10     Tilly   \n",
       "2                     10    Archie   \n",
       "3                     10     Darla   \n",
       "4                     10  Franklin   \n",
       "...                  ...       ...   \n",
       "2351                  10       NaN   \n",
       "2352                  10         a   \n",
       "2353                  10         a   \n",
       "2354                  10         a   \n",
       "2355                  10       NaN   \n",
       "\n",
       "                                              jpg_url  img_num  \\\n",
       "0     https://pbs.twimg.com/media/DGKD1-bXoAAIAUK.jpg      1.0   \n",
       "1     https://pbs.twimg.com/media/DGGmoV4XsAAUL6n.jpg      1.0   \n",
       "2     https://pbs.twimg.com/media/DGBdLU1WsAANxJ9.jpg      1.0   \n",
       "3     https://pbs.twimg.com/media/DF_q7IAWsAEuuN8.jpg      1.0   \n",
       "4     https://pbs.twimg.com/media/DF6hr6BUMAAzZgT.jpg      2.0   \n",
       "...                                               ...      ...   \n",
       "2351  https://pbs.twimg.com/media/CT5IQmsXIAAKY4A.jpg      1.0   \n",
       "2352  https://pbs.twimg.com/media/CT5Dr8HUEAA-lEu.jpg      1.0   \n",
       "2353  https://pbs.twimg.com/media/CT4521TWwAEvMyu.jpg      1.0   \n",
       "2354  https://pbs.twimg.com/media/CT42GRgUYAA5iDo.jpg      1.0   \n",
       "2355  https://pbs.twimg.com/media/CT4udn0WwAA0aMy.jpg      1.0   \n",
       "\n",
       "                          p1   p1_conf  ...   p2_conf p2_dog  \\\n",
       "0                     Orange  0.097049  ...  0.085851  False   \n",
       "1                  Chihuahua  0.323581  ...  0.090647   True   \n",
       "2                  Chihuahua  0.716012  ...  0.078253   True   \n",
       "3                Paper_Towel  0.170278  ...  0.168086   True   \n",
       "4                     Basset  0.555712  ...  0.225770   True   \n",
       "...                      ...       ...  ...       ...    ...   \n",
       "2351      Miniature_Pinscher  0.560311  ...  0.243682   True   \n",
       "2352     Rhodesian_Ridgeback  0.408143  ...  0.360687   True   \n",
       "2353         German_Shepherd  0.596461  ...  0.138584   True   \n",
       "2354                 Redbone  0.506826  ...  0.074192   True   \n",
       "2355  Welsh_Springer_Spaniel  0.465074  ...  0.156665   True   \n",
       "\n",
       "                               p3   p3_conf p3_dog  retweet_count  \\\n",
       "0                          Banana  0.076110  False         8853.0   \n",
       "1                        Papillon  0.068957   True         6514.0   \n",
       "2                          Kelpie  0.031379   True         4328.0   \n",
       "3                         Spatula  0.040836  False         8964.0   \n",
       "4     German_Short-Haired_Pointer  0.175219   True         9774.0   \n",
       "...                           ...       ...    ...            ...   \n",
       "2351                     Doberman  0.154629   True           41.0   \n",
       "2352           Miniature_Pinscher  0.222752   True          147.0   \n",
       "2353                   Bloodhound  0.116197   True           47.0   \n",
       "2354          Rhodesian_Ridgeback  0.072010   True           48.0   \n",
       "2355            Shetland_Sheepdog  0.061428   True          532.0   \n",
       "\n",
       "     favorite_count  stages  pattern fraction  \n",
       "0           39467.0     NaN    13/10    13/10  \n",
       "1           33819.0     NaN    13/10    13/10  \n",
       "2           25461.0     NaN    12/10    12/10  \n",
       "3           42908.0     NaN    13/10    13/10  \n",
       "4           41048.0     NaN    12/10    12/10  \n",
       "...             ...     ...      ...      ...  \n",
       "2351          111.0     NaN     5/10     5/10  \n",
       "2352          311.0     NaN     6/10     6/10  \n",
       "2353          128.0     NaN     9/10     9/10  \n",
       "2354          132.0     NaN     7/10     7/10  \n",
       "2355         2535.0     NaN     8/10     8/10  \n",
       "\n",
       "[2076 rows x 22 columns]"
      ]
     },
     "execution_count": 62,
     "metadata": {},
     "output_type": "execute_result"
    }
   ],
   "source": [
    "clean_twitter_archive"
   ]
  },
  {
   "cell_type": "markdown",
   "id": "86d75af0",
   "metadata": {
    "papermill": {
     "duration": 0.095373,
     "end_time": "2021-07-29T14:51:44.376884",
     "exception": false,
     "start_time": "2021-07-29T14:51:44.281511",
     "status": "completed"
    },
    "tags": []
   },
   "source": [
    "### 4.1 Dog_stage ratios"
   ]
  },
  {
   "cell_type": "raw",
   "id": "c8b202de",
   "metadata": {
    "execution": {
     "iopub.execute_input": "2021-07-29T14:51:44.589787Z",
     "iopub.status.busy": "2021-07-29T14:51:44.588973Z",
     "iopub.status.idle": "2021-07-29T14:51:44.754485Z",
     "shell.execute_reply": "2021-07-29T14:51:44.755031Z"
    },
    "papermill": {
     "duration": 0.282843,
     "end_time": "2021-07-29T14:51:44.755205",
     "exception": false,
     "start_time": "2021-07-29T14:51:44.472362",
     "status": "completed"
    },
    "tags": []
   },
   "source": [
    "plt.figure(figsize=(8,7))\n",
    "plt.title(\"Number of Customers\", fontsize=14)\n",
    "plt.bar(x=clean_twitter_archive['stages'].value_counts().index,\n",
    "        height=clean_twitter_archive.stages.value_counts().values);"
   ]
  },
  {
   "cell_type": "markdown",
   "id": "3f73f4bd",
   "metadata": {
    "papermill": {
     "duration": 0.096842,
     "end_time": "2021-07-29T14:51:44.948409",
     "exception": false,
     "start_time": "2021-07-29T14:51:44.851567",
     "status": "completed"
    },
    "tags": []
   },
   "source": [
    "## insights \n",
    "- pupper is the most popular stage\n",
    "- floofer is the least popular stage "
   ]
  },
  {
   "cell_type": "markdown",
   "id": "f508f43e",
   "metadata": {
    "papermill": {
     "duration": 0.096689,
     "end_time": "2021-07-29T14:51:45.141385",
     "exception": false,
     "start_time": "2021-07-29T14:51:45.044696",
     "status": "completed"
    },
    "tags": []
   },
   "source": [
    "### 4.2 The success rate of the algorithms"
   ]
  },
  {
   "cell_type": "code",
   "execution_count": 63,
   "id": "0f96c3a1",
   "metadata": {
    "execution": {
     "iopub.execute_input": "2021-07-29T14:51:45.343551Z",
     "iopub.status.busy": "2021-07-29T14:51:45.342621Z",
     "iopub.status.idle": "2021-07-29T14:51:45.346259Z",
     "shell.execute_reply": "2021-07-29T14:51:45.346703Z"
    },
    "papermill": {
     "duration": 0.108354,
     "end_time": "2021-07-29T14:51:45.346874",
     "exception": false,
     "start_time": "2021-07-29T14:51:45.238520",
     "status": "completed"
    },
    "tags": []
   },
   "outputs": [
    {
     "data": {
      "text/plain": [
       "True     1445\n",
       "False     505\n",
       "Name: p1_dog, dtype: int64"
      ]
     },
     "execution_count": 63,
     "metadata": {},
     "output_type": "execute_result"
    }
   ],
   "source": [
    "clean_twitter_archive['p1_dog'].value_counts()"
   ]
  },
  {
   "cell_type": "code",
   "execution_count": 64,
   "id": "06b92ff7",
   "metadata": {
    "execution": {
     "iopub.execute_input": "2021-07-29T14:51:45.543731Z",
     "iopub.status.busy": "2021-07-29T14:51:45.542767Z",
     "iopub.status.idle": "2021-07-29T14:51:45.549436Z",
     "shell.execute_reply": "2021-07-29T14:51:45.548914Z"
    },
    "papermill": {
     "duration": 0.105905,
     "end_time": "2021-07-29T14:51:45.549579",
     "exception": false,
     "start_time": "2021-07-29T14:51:45.443674",
     "status": "completed"
    },
    "tags": []
   },
   "outputs": [
    {
     "data": {
      "text/plain": [
       "73.83132530120481"
      ]
     },
     "execution_count": 64,
     "metadata": {},
     "output_type": "execute_result"
    }
   ],
   "source": [
    "success_p1 = (1532/(1532+543))*100\n",
    "success_p1"
   ]
  },
  {
   "cell_type": "code",
   "execution_count": 65,
   "id": "32f1b9a8",
   "metadata": {
    "execution": {
     "iopub.execute_input": "2021-07-29T14:51:45.785421Z",
     "iopub.status.busy": "2021-07-29T14:51:45.784690Z",
     "iopub.status.idle": "2021-07-29T14:51:45.956559Z",
     "shell.execute_reply": "2021-07-29T14:51:45.957071Z"
    },
    "papermill": {
     "duration": 0.310061,
     "end_time": "2021-07-29T14:51:45.957261",
     "exception": false,
     "start_time": "2021-07-29T14:51:45.647200",
     "status": "completed"
    },
    "tags": []
   },
   "outputs": [
    {
     "data": {
      "image/png": "[encoded data removed]",
      "text/plain": [
       "<Figure size 576x504 with 1 Axes>"
      ]
     },
     "metadata": {
      "needs_background": "light"
     },
     "output_type": "display_data"
    }
   ],
   "source": [
    "plt.figure(figsize=(8,7))\n",
    "plt.title(\"Number of Customers\", fontsize=14)\n",
    "plt.bar(x=clean_twitter_archive['p1_dog'].value_counts().index,\n",
    "        height=clean_twitter_archive.p1_dog.value_counts().values)\n",
    "plt.xlabel('p1_dog')\n",
    "plt.ylabel('Value counts');"
   ]
  },
  {
   "cell_type": "code",
   "execution_count": 66,
   "id": "9ceddb93",
   "metadata": {
    "execution": {
     "iopub.execute_input": "2021-07-29T14:51:46.164577Z",
     "iopub.status.busy": "2021-07-29T14:51:46.163824Z",
     "iopub.status.idle": "2021-07-29T14:51:46.166746Z",
     "shell.execute_reply": "2021-07-29T14:51:46.167235Z"
    },
    "papermill": {
     "duration": 0.11158,
     "end_time": "2021-07-29T14:51:46.167402",
     "exception": false,
     "start_time": "2021-07-29T14:51:46.055822",
     "status": "completed"
    },
    "tags": []
   },
   "outputs": [
    {
     "data": {
      "text/plain": [
       "True     1462\n",
       "False     488\n",
       "Name: p2_dog, dtype: int64"
      ]
     },
     "execution_count": 66,
     "metadata": {},
     "output_type": "execute_result"
    }
   ],
   "source": [
    "clean_twitter_archive['p2_dog'].value_counts()"
   ]
  },
  {
   "cell_type": "code",
   "execution_count": 67,
   "id": "deac099e",
   "metadata": {
    "execution": {
     "iopub.execute_input": "2021-07-29T14:51:46.370049Z",
     "iopub.status.busy": "2021-07-29T14:51:46.369422Z",
     "iopub.status.idle": "2021-07-29T14:51:46.375266Z",
     "shell.execute_reply": "2021-07-29T14:51:46.374631Z"
    },
    "papermill": {
     "duration": 0.108653,
     "end_time": "2021-07-29T14:51:46.375422",
     "exception": false,
     "start_time": "2021-07-29T14:51:46.266769",
     "status": "completed"
    },
    "tags": []
   },
   "outputs": [
    {
     "data": {
      "text/plain": [
       "74.8433734939759"
      ]
     },
     "execution_count": 67,
     "metadata": {},
     "output_type": "execute_result"
    }
   ],
   "source": [
    "success_p2 = (1553/(1553+522))*100\n",
    "success_p2"
   ]
  },
  {
   "cell_type": "code",
   "execution_count": 68,
   "id": "99295514",
   "metadata": {
    "execution": {
     "iopub.execute_input": "2021-07-29T14:51:46.607456Z",
     "iopub.status.busy": "2021-07-29T14:51:46.605834Z",
     "iopub.status.idle": "2021-07-29T14:51:46.758951Z",
     "shell.execute_reply": "2021-07-29T14:51:46.758258Z"
    },
    "papermill": {
     "duration": 0.284454,
     "end_time": "2021-07-29T14:51:46.759111",
     "exception": false,
     "start_time": "2021-07-29T14:51:46.474657",
     "status": "completed"
    },
    "tags": []
   },
   "outputs": [
    {
     "data": {
      "image/png": "[encoded data removed]",
      "text/plain": [
       "<Figure size 576x504 with 1 Axes>"
      ]
     },
     "metadata": {
      "needs_background": "light"
     },
     "output_type": "display_data"
    }
   ],
   "source": [
    "plt.figure(figsize=(8,7))\n",
    "plt.title(\"Number of Customers\", fontsize=14)\n",
    "plt.bar(x=clean_twitter_archive['p2_dog'].value_counts().index,\n",
    "        height=clean_twitter_archive.p2_dog.value_counts().values)\n",
    "plt.xlabel('p2_dog')\n",
    "plt.ylabel('Value counts');"
   ]
  },
  {
   "cell_type": "code",
   "execution_count": 69,
   "id": "4112f7e3",
   "metadata": {
    "execution": {
     "iopub.execute_input": "2021-07-29T14:51:46.971627Z",
     "iopub.status.busy": "2021-07-29T14:51:46.970811Z",
     "iopub.status.idle": "2021-07-29T14:51:46.974027Z",
     "shell.execute_reply": "2021-07-29T14:51:46.974530Z"
    },
    "papermill": {
     "duration": 0.113609,
     "end_time": "2021-07-29T14:51:46.974700",
     "exception": false,
     "start_time": "2021-07-29T14:51:46.861091",
     "status": "completed"
    },
    "tags": []
   },
   "outputs": [
    {
     "data": {
      "text/plain": [
       "True     1413\n",
       "False     537\n",
       "Name: p3_dog, dtype: int64"
      ]
     },
     "execution_count": 69,
     "metadata": {},
     "output_type": "execute_result"
    }
   ],
   "source": [
    "clean_twitter_archive['p3_dog'].value_counts()"
   ]
  },
  {
   "cell_type": "code",
   "execution_count": 70,
   "id": "31ebcddf",
   "metadata": {
    "execution": {
     "iopub.execute_input": "2021-07-29T14:51:47.185696Z",
     "iopub.status.busy": "2021-07-29T14:51:47.184636Z",
     "iopub.status.idle": "2021-07-29T14:51:47.190533Z",
     "shell.execute_reply": "2021-07-29T14:51:47.190985Z"
    },
    "papermill": {
     "duration": 0.112619,
     "end_time": "2021-07-29T14:51:47.191165",
     "exception": false,
     "start_time": "2021-07-29T14:51:47.078546",
     "status": "completed"
    },
    "tags": []
   },
   "outputs": [
    {
     "data": {
      "text/plain": [
       "72.2409638554217"
      ]
     },
     "execution_count": 70,
     "metadata": {},
     "output_type": "execute_result"
    }
   ],
   "source": [
    "success_p3 = (1499/(1499+576))*100\n",
    "success_p3"
   ]
  },
  {
   "cell_type": "code",
   "execution_count": 71,
   "id": "a0461a6e",
   "metadata": {
    "execution": {
     "iopub.execute_input": "2021-07-29T14:51:47.398840Z",
     "iopub.status.busy": "2021-07-29T14:51:47.397809Z",
     "iopub.status.idle": "2021-07-29T14:51:47.575078Z",
     "shell.execute_reply": "2021-07-29T14:51:47.575565Z"
    },
    "papermill": {
     "duration": 0.282719,
     "end_time": "2021-07-29T14:51:47.575752",
     "exception": false,
     "start_time": "2021-07-29T14:51:47.293033",
     "status": "completed"
    },
    "tags": []
   },
   "outputs": [
    {
     "data": {
      "image/png": "[encoded data removed]",
      "text/plain": [
       "<Figure size 576x504 with 1 Axes>"
      ]
     },
     "metadata": {
      "needs_background": "light"
     },
     "output_type": "display_data"
    }
   ],
   "source": [
    "plt.figure(figsize=(8,7))\n",
    "plt.title(\"Number of Customers\", fontsize=14)\n",
    "plt.bar(x=clean_twitter_archive['p3_dog'].value_counts().index,\n",
    "        height=clean_twitter_archive.p3_dog.value_counts().values)\n",
    "plt.xlabel('p3_dog')\n",
    "plt.ylabel('Value counts');"
   ]
  },
  {
   "cell_type": "code",
   "execution_count": 72,
   "id": "aee87523",
   "metadata": {
    "execution": {
     "iopub.execute_input": "2021-07-29T14:51:47.787186Z",
     "iopub.status.busy": "2021-07-29T14:51:47.786136Z",
     "iopub.status.idle": "2021-07-29T14:51:47.883049Z",
     "shell.execute_reply": "2021-07-29T14:51:47.883542Z"
    },
    "papermill": {
     "duration": 0.204929,
     "end_time": "2021-07-29T14:51:47.883733",
     "exception": false,
     "start_time": "2021-07-29T14:51:47.678804",
     "status": "completed"
    },
    "tags": []
   },
   "outputs": [
    {
     "data": {
      "image/png": "[encoded data removed]",
      "text/plain": [
       "<Figure size 432x288 with 1 Axes>"
      ]
     },
     "metadata": {},
     "output_type": "display_data"
    }
   ],
   "source": [
    "plt.pie([success_p1,success_p2,success_p3],labels=('p1','p2','p3'),autopct ='%1.1f%%')\n",
    "plt.show()"
   ]
  },
  {
   "cell_type": "markdown",
   "id": "2562a101",
   "metadata": {
    "papermill": {
     "duration": 0.104422,
     "end_time": "2021-07-29T14:51:48.093684",
     "exception": false,
     "start_time": "2021-07-29T14:51:47.989262",
     "status": "completed"
    },
    "tags": []
   },
   "source": [
    "## insights \n",
    "- p2_algorithm is The most successful algorithm\n",
    "- p3_algorithm is The least successful algorithm"
   ]
  },
  {
   "cell_type": "code",
   "execution_count": 73,
   "id": "eea482f2",
   "metadata": {},
   "outputs": [
    {
     "data": {
      "image/png": "[encoded data removed]",
      "text/plain": [
       "<Figure size 432x288 with 1 Axes>"
      ]
     },
     "metadata": {
      "needs_background": "light"
     },
     "output_type": "display_data"
    }
   ],
   "source": [
    "clean_twitter_archive['rating'] = 10 * clean_twitter_archive['rating_numerator'] / clean_twitter_archive['rating_denominator'].astype(float)\n",
    "clean_twitter_archive.plot(x='retweet_count', y='rating', kind='scatter')\n",
    "plt.xlabel('Retweet Counts')\n",
    "plt.ylabel('Ratings')\n",
    "plt.title('Retweet Counts by Ratings Scatter Plot');\n"
   ]
  },
  {
   "cell_type": "code",
   "execution_count": 74,
   "id": "d5b84fbd",
   "metadata": {},
   "outputs": [
    {
     "data": {
      "image/png": "[encoded data removed]",
      "text/plain": [
       "<Figure size 432x288 with 1 Axes>"
      ]
     },
     "metadata": {
      "needs_background": "light"
     },
     "output_type": "display_data"
    }
   ],
   "source": [
    "clean_twitter_archive.plot(x='favorite_count', y='rating', kind='scatter')\n",
    "plt.xlabel('favorite Counts')\n",
    "plt.ylabel('Ratings')\n",
    "plt.title('favorite Counts by Ratings Scatter Plot');"
   ]
  },
  {
   "cell_type": "markdown",
   "id": "007a7780",
   "metadata": {},
   "source": [
    "## insights\n",
    "- The highest rating didnt get the most retweets and are not the favorites."
   ]
  },
  {
   "cell_type": "code",
   "execution_count": 75,
   "id": "fc13a0cf",
   "metadata": {},
   "outputs": [
    {
     "data": {
      "text/plain": [
       "Golden_Retriever      133\n",
       "Labrador_Retriever     91\n",
       "Pembroke               88\n",
       "Chihuahua              78\n",
       "Pug                    54\n",
       "                     ... \n",
       "Timber_Wolf             1\n",
       "Espresso                1\n",
       "Bib                     1\n",
       "Hotdog                  1\n",
       "Desktop_Computer        1\n",
       "Name: p1, Length: 372, dtype: int64"
      ]
     },
     "execution_count": 75,
     "metadata": {},
     "output_type": "execute_result"
    }
   ],
   "source": [
    "clean_twitter_archive['p1'].value_counts()"
   ]
  },
  {
   "cell_type": "code",
   "execution_count": 76,
   "id": "b9c07cfb",
   "metadata": {},
   "outputs": [
    {
     "data": {
      "text/plain": [
       "Labrador_Retriever          94\n",
       "Golden_Retriever            80\n",
       "Cardigan                    73\n",
       "Chihuahua                   41\n",
       "Chesapeake_Bay_Retriever    40\n",
       "                            ..\n",
       "Screw                        1\n",
       "Coffee_Mug                   1\n",
       "Sombrero                     1\n",
       "Handkerchief                 1\n",
       "Mud_Turtle                   1\n",
       "Name: p2, Length: 394, dtype: int64"
      ]
     },
     "execution_count": 76,
     "metadata": {},
     "output_type": "execute_result"
    }
   ],
   "source": [
    "clean_twitter_archive['p2'].value_counts()"
   ]
  },
  {
   "cell_type": "code",
   "execution_count": 77,
   "id": "e24dcd21",
   "metadata": {},
   "outputs": [
    {
     "data": {
      "text/plain": [
       "Labrador_Retriever    74\n",
       "Chihuahua             57\n",
       "Golden_Retriever      44\n",
       "Eskimo_Dog            35\n",
       "Kelpie                33\n",
       "                      ..\n",
       "Bannister              1\n",
       "Rotisserie             1\n",
       "King_Penguin           1\n",
       "Hand_Blower            1\n",
       "Partridge              1\n",
       "Name: p3, Length: 402, dtype: int64"
      ]
     },
     "execution_count": 77,
     "metadata": {},
     "output_type": "execute_result"
    }
   ],
   "source": [
    "clean_twitter_archive['p3'].value_counts()"
   ]
  },
  {
   "cell_type": "markdown",
   "id": "284e4a22",
   "metadata": {},
   "source": [
    "## insights\n",
    "Labrador retriver is the most common dog in the dataset"
   ]
  }
 ],
 "metadata": {
  "kernelspec": {
   "display_name": "Python 3 (ipykernel)",
   "language": "python",
   "name": "python3"
  },
  "language_info": {
   "codemirror_mode": {
    "name": "ipython",
    "version": 3
   },
   "file_extension": ".py",
   "mimetype": "text/x-python",
   "name": "python",
   "nbconvert_exporter": "python",
   "pygments_lexer": "ipython3",
   "version": "3.9.12"
  },
  "papermill": {
   "default_parameters": {},
   "duration": 45.136679,
   "end_time": "2021-07-29T14:51:48.907960",
   "environment_variables": {},
   "exception": null,
   "input_path": "__notebook__.ipynb",
   "output_path": "__notebook__.ipynb",
   "parameters": {},
   "start_time": "2021-07-29T14:51:03.771281",
   "version": "2.3.3"
  }
 },
 "nbformat": 4,
 "nbformat_minor": 5
}
